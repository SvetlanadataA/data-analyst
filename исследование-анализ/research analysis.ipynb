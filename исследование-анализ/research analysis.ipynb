{
 "cells": [
  {
   "cell_type": "markdown",
   "metadata": {},
   "source": [
    "# Исследование объявлений о продаже квартир\n",
    "\n",
    "В вашем распоряжении данные сервиса Яндекс.Недвижимость — архив объявлений о продаже квартир в Санкт-Петербурге и соседних населённых пунктах за несколько лет. Нужно научиться определять рыночную стоимость объектов недвижимости. Ваша задача — установить параметры. Это позволит построить автоматизированную систему: она отследит аномалии и мошенническую деятельность. \n",
    "\n",
    "По каждой квартире на продажу доступны два вида данных. Первые вписаны пользователем, вторые получены автоматически на основе картографических данных. Например, расстояние до центра, аэропорта, ближайшего парка и водоёма. "
   ]
  },
  {
   "cell_type": "markdown",
   "metadata": {},
   "source": [
    "## Изучение данных из файла"
   ]
  },
  {
   "cell_type": "code",
   "execution_count": 1,
   "metadata": {},
   "outputs": [
    {
     "data": {
      "text/html": [
       "<div>\n",
       "<style scoped>\n",
       "    .dataframe tbody tr th:only-of-type {\n",
       "        vertical-align: middle;\n",
       "    }\n",
       "\n",
       "    .dataframe tbody tr th {\n",
       "        vertical-align: top;\n",
       "    }\n",
       "\n",
       "    .dataframe thead th {\n",
       "        text-align: right;\n",
       "    }\n",
       "</style>\n",
       "<table border=\"1\" class=\"dataframe\">\n",
       "  <thead>\n",
       "    <tr style=\"text-align: right;\">\n",
       "      <th></th>\n",
       "      <th>total_images</th>\n",
       "      <th>last_price</th>\n",
       "      <th>total_area</th>\n",
       "      <th>first_day_exposition</th>\n",
       "      <th>rooms</th>\n",
       "      <th>ceiling_height</th>\n",
       "      <th>floors_total</th>\n",
       "      <th>living_area</th>\n",
       "      <th>floor</th>\n",
       "      <th>is_apartment</th>\n",
       "      <th>...</th>\n",
       "      <th>kitchen_area</th>\n",
       "      <th>balcony</th>\n",
       "      <th>locality_name</th>\n",
       "      <th>airports_nearest</th>\n",
       "      <th>cityCenters_nearest</th>\n",
       "      <th>parks_around3000</th>\n",
       "      <th>parks_nearest</th>\n",
       "      <th>ponds_around3000</th>\n",
       "      <th>ponds_nearest</th>\n",
       "      <th>days_exposition</th>\n",
       "    </tr>\n",
       "  </thead>\n",
       "  <tbody>\n",
       "    <tr>\n",
       "      <th>0</th>\n",
       "      <td>20</td>\n",
       "      <td>13000000.0</td>\n",
       "      <td>108.0</td>\n",
       "      <td>2019-03-07T00:00:00</td>\n",
       "      <td>3</td>\n",
       "      <td>2.70</td>\n",
       "      <td>16.0</td>\n",
       "      <td>51.0</td>\n",
       "      <td>8</td>\n",
       "      <td>NaN</td>\n",
       "      <td>...</td>\n",
       "      <td>25.0</td>\n",
       "      <td>NaN</td>\n",
       "      <td>Санкт-Петербург</td>\n",
       "      <td>18863.0</td>\n",
       "      <td>16028.0</td>\n",
       "      <td>1.0</td>\n",
       "      <td>482.0</td>\n",
       "      <td>2.0</td>\n",
       "      <td>755.0</td>\n",
       "      <td>NaN</td>\n",
       "    </tr>\n",
       "    <tr>\n",
       "      <th>1</th>\n",
       "      <td>7</td>\n",
       "      <td>3350000.0</td>\n",
       "      <td>40.4</td>\n",
       "      <td>2018-12-04T00:00:00</td>\n",
       "      <td>1</td>\n",
       "      <td>NaN</td>\n",
       "      <td>11.0</td>\n",
       "      <td>18.6</td>\n",
       "      <td>1</td>\n",
       "      <td>NaN</td>\n",
       "      <td>...</td>\n",
       "      <td>11.0</td>\n",
       "      <td>2.0</td>\n",
       "      <td>посёлок Шушары</td>\n",
       "      <td>12817.0</td>\n",
       "      <td>18603.0</td>\n",
       "      <td>0.0</td>\n",
       "      <td>NaN</td>\n",
       "      <td>0.0</td>\n",
       "      <td>NaN</td>\n",
       "      <td>81.0</td>\n",
       "    </tr>\n",
       "    <tr>\n",
       "      <th>2</th>\n",
       "      <td>10</td>\n",
       "      <td>5196000.0</td>\n",
       "      <td>56.0</td>\n",
       "      <td>2015-08-20T00:00:00</td>\n",
       "      <td>2</td>\n",
       "      <td>NaN</td>\n",
       "      <td>5.0</td>\n",
       "      <td>34.3</td>\n",
       "      <td>4</td>\n",
       "      <td>NaN</td>\n",
       "      <td>...</td>\n",
       "      <td>8.3</td>\n",
       "      <td>0.0</td>\n",
       "      <td>Санкт-Петербург</td>\n",
       "      <td>21741.0</td>\n",
       "      <td>13933.0</td>\n",
       "      <td>1.0</td>\n",
       "      <td>90.0</td>\n",
       "      <td>2.0</td>\n",
       "      <td>574.0</td>\n",
       "      <td>558.0</td>\n",
       "    </tr>\n",
       "    <tr>\n",
       "      <th>3</th>\n",
       "      <td>0</td>\n",
       "      <td>64900000.0</td>\n",
       "      <td>159.0</td>\n",
       "      <td>2015-07-24T00:00:00</td>\n",
       "      <td>3</td>\n",
       "      <td>NaN</td>\n",
       "      <td>14.0</td>\n",
       "      <td>NaN</td>\n",
       "      <td>9</td>\n",
       "      <td>NaN</td>\n",
       "      <td>...</td>\n",
       "      <td>NaN</td>\n",
       "      <td>0.0</td>\n",
       "      <td>Санкт-Петербург</td>\n",
       "      <td>28098.0</td>\n",
       "      <td>6800.0</td>\n",
       "      <td>2.0</td>\n",
       "      <td>84.0</td>\n",
       "      <td>3.0</td>\n",
       "      <td>234.0</td>\n",
       "      <td>424.0</td>\n",
       "    </tr>\n",
       "    <tr>\n",
       "      <th>4</th>\n",
       "      <td>2</td>\n",
       "      <td>10000000.0</td>\n",
       "      <td>100.0</td>\n",
       "      <td>2018-06-19T00:00:00</td>\n",
       "      <td>2</td>\n",
       "      <td>3.03</td>\n",
       "      <td>14.0</td>\n",
       "      <td>32.0</td>\n",
       "      <td>13</td>\n",
       "      <td>NaN</td>\n",
       "      <td>...</td>\n",
       "      <td>41.0</td>\n",
       "      <td>NaN</td>\n",
       "      <td>Санкт-Петербург</td>\n",
       "      <td>31856.0</td>\n",
       "      <td>8098.0</td>\n",
       "      <td>2.0</td>\n",
       "      <td>112.0</td>\n",
       "      <td>1.0</td>\n",
       "      <td>48.0</td>\n",
       "      <td>121.0</td>\n",
       "    </tr>\n",
       "  </tbody>\n",
       "</table>\n",
       "<p>5 rows × 22 columns</p>\n",
       "</div>"
      ],
      "text/plain": [
       "   total_images  last_price  total_area first_day_exposition  rooms  \\\n",
       "0            20  13000000.0       108.0  2019-03-07T00:00:00      3   \n",
       "1             7   3350000.0        40.4  2018-12-04T00:00:00      1   \n",
       "2            10   5196000.0        56.0  2015-08-20T00:00:00      2   \n",
       "3             0  64900000.0       159.0  2015-07-24T00:00:00      3   \n",
       "4             2  10000000.0       100.0  2018-06-19T00:00:00      2   \n",
       "\n",
       "   ceiling_height  floors_total  living_area  floor is_apartment  ...  \\\n",
       "0            2.70          16.0         51.0      8          NaN  ...   \n",
       "1             NaN          11.0         18.6      1          NaN  ...   \n",
       "2             NaN           5.0         34.3      4          NaN  ...   \n",
       "3             NaN          14.0          NaN      9          NaN  ...   \n",
       "4            3.03          14.0         32.0     13          NaN  ...   \n",
       "\n",
       "   kitchen_area  balcony    locality_name  airports_nearest  \\\n",
       "0          25.0      NaN  Санкт-Петербург           18863.0   \n",
       "1          11.0      2.0   посёлок Шушары           12817.0   \n",
       "2           8.3      0.0  Санкт-Петербург           21741.0   \n",
       "3           NaN      0.0  Санкт-Петербург           28098.0   \n",
       "4          41.0      NaN  Санкт-Петербург           31856.0   \n",
       "\n",
       "  cityCenters_nearest  parks_around3000  parks_nearest  ponds_around3000  \\\n",
       "0             16028.0               1.0          482.0               2.0   \n",
       "1             18603.0               0.0            NaN               0.0   \n",
       "2             13933.0               1.0           90.0               2.0   \n",
       "3              6800.0               2.0           84.0               3.0   \n",
       "4              8098.0               2.0          112.0               1.0   \n",
       "\n",
       "   ponds_nearest  days_exposition  \n",
       "0          755.0              NaN  \n",
       "1            NaN             81.0  \n",
       "2          574.0            558.0  \n",
       "3          234.0            424.0  \n",
       "4           48.0            121.0  \n",
       "\n",
       "[5 rows x 22 columns]"
      ]
     },
     "metadata": {},
     "output_type": "display_data"
    },
    {
     "name": "stdout",
     "output_type": "stream",
     "text": [
      "<class 'pandas.core.frame.DataFrame'>\n",
      "RangeIndex: 23699 entries, 0 to 23698\n",
      "Data columns (total 22 columns):\n",
      " #   Column                Non-Null Count  Dtype  \n",
      "---  ------                --------------  -----  \n",
      " 0   total_images          23699 non-null  int64  \n",
      " 1   last_price            23699 non-null  float64\n",
      " 2   total_area            23699 non-null  float64\n",
      " 3   first_day_exposition  23699 non-null  object \n",
      " 4   rooms                 23699 non-null  int64  \n",
      " 5   ceiling_height        14504 non-null  float64\n",
      " 6   floors_total          23613 non-null  float64\n",
      " 7   living_area           21796 non-null  float64\n",
      " 8   floor                 23699 non-null  int64  \n",
      " 9   is_apartment          2775 non-null   object \n",
      " 10  studio                23699 non-null  bool   \n",
      " 11  open_plan             23699 non-null  bool   \n",
      " 12  kitchen_area          21421 non-null  float64\n",
      " 13  balcony               12180 non-null  float64\n",
      " 14  locality_name         23650 non-null  object \n",
      " 15  airports_nearest      18157 non-null  float64\n",
      " 16  cityCenters_nearest   18180 non-null  float64\n",
      " 17  parks_around3000      18181 non-null  float64\n",
      " 18  parks_nearest         8079 non-null   float64\n",
      " 19  ponds_around3000      18181 non-null  float64\n",
      " 20  ponds_nearest         9110 non-null   float64\n",
      " 21  days_exposition       20518 non-null  float64\n",
      "dtypes: bool(2), float64(14), int64(3), object(3)\n",
      "memory usage: 3.7+ MB\n"
     ]
    }
   ],
   "source": [
    "import pandas as pd\n",
    "import matplotlib.pyplot as plt\n",
    "import warnings\n",
    "\n",
    "warnings.filterwarnings('ignore')\n",
    "\n",
    "\n",
    "\n",
    "server_path = 'C:/Users/Admin/Documents/project datasets/real_estate_data.csv'\n",
    "filename = 'real_estate_data.csv'\n",
    "\n",
    "\n",
    "try:\n",
    "    df = pd.read_csv(server_path, sep = '\\t') #пробуем найти данные по сетевому адресу\n",
    "except: \n",
    "    df = pd.read_csv(filename) #если не можем найти данные по сетевому адресу, ищем по локальному\n",
    "    \n",
    "\n",
    "    \n",
    "display(df.head())\n",
    "df.info()"
   ]
  },
  {
   "cell_type": "markdown",
   "metadata": {},
   "source": [
    "### Вывод"
   ]
  },
  {
   "cell_type": "markdown",
   "metadata": {},
   "source": [
    "В таблице df 22 столбца и 23699 строк.\n",
    "\n",
    "Типы данных: bool(2), float64(14), int64(3), object(3).\n",
    "\n",
    "В таблице наглядно видим большое количество пропусков и преимущественно вещественные числа.\n"
   ]
  },
  {
   "cell_type": "markdown",
   "metadata": {},
   "source": [
    "## Предобработка данных"
   ]
  },
  {
   "cell_type": "markdown",
   "metadata": {},
   "source": [
    "### Обработка пропусков"
   ]
  },
  {
   "cell_type": "code",
   "execution_count": 2,
   "metadata": {},
   "outputs": [
    {
     "data": {
      "text/plain": [
       "Index(['total_images', 'price', 'total_area', 'day_publication', 'rooms',\n",
       "       'ceiling_height', 'floors_total', 'living_area', 'floor', 'apartment',\n",
       "       'studio', 'open_plan', 'kitchen_area', 'balcony', 'locality',\n",
       "       'distance_airport', 'city_centers_distance', 'number_parking3000',\n",
       "       'distance_park', 'number_reservoirs3000', 'distance_reservoir',\n",
       "       'days_exposition'],\n",
       "      dtype='object')"
      ]
     },
     "execution_count": 2,
     "metadata": {},
     "output_type": "execute_result"
    }
   ],
   "source": [
    "#переименуем столбцы\n",
    "df.set_axis(['total_images', 'price', 'total_area', 'day_publication', 'rooms', 'ceiling_height', 'floors_total', 'living_area', 'floor', 'apartment', 'studio', 'open_plan', 'kitchen_area', 'balcony', 'locality', 'distance_airport', 'city_centers_distance', 'number_parking3000', 'distance_park', 'number_reservoirs3000', 'distance_reservoir', 'days_exposition'], axis = 'columns', inplace = True)\n",
    "df.columns"
   ]
  },
  {
   "cell_type": "markdown",
   "metadata": {},
   "source": [
    "Переименовали столбцы следующим образом:\n",
    "total_images - количество фото price - цена total_area - общая площадь day_publication - дата публикации rooms - число комнат ceiling_height - высота потолков floors_total - общее число этажей в доме living_area - жилая площадь floor - этаж apartment - квартира (булевое значение) studio - студия open_plan - свободная планировка (булевое значение) kitchen_area - площадь кухни balcony - число балконов locality - название местности distance_airport - расстояние до ближайшего аэропорта city_centers_distance - расстояние до центра города number_parking3000 - число парков в радиусе 3 км distance_park - расстояние до ближайшего парка number_reservoirs3000 - количество водоемов в радиусе 3 км distance_reservoir - расстояние до ближайшего водоема days_exposition - сколько дней размещено объявление"
   ]
  },
  {
   "cell_type": "code",
   "execution_count": 3,
   "metadata": {},
   "outputs": [
    {
     "name": "stdout",
     "output_type": "stream",
     "text": [
      "Пропуски до:\n",
      "\n",
      "total_images                 0\n",
      "price                        0\n",
      "total_area                   0\n",
      "day_publication              0\n",
      "rooms                        0\n",
      "ceiling_height            9195\n",
      "floors_total                86\n",
      "living_area               1903\n",
      "floor                        0\n",
      "apartment                20924\n",
      "studio                       0\n",
      "open_plan                    0\n",
      "kitchen_area              2278\n",
      "balcony                  11519\n",
      "locality                    49\n",
      "distance_airport          5542\n",
      "city_centers_distance     5519\n",
      "number_parking3000        5518\n",
      "distance_park            15620\n",
      "number_reservoirs3000     5518\n",
      "distance_reservoir       14589\n",
      "days_exposition           3181\n",
      "dtype: int64\n"
     ]
    }
   ],
   "source": [
    "print('Пропуски до:')\n",
    "print()\n",
    "print(df.isna().sum())\n",
    "\n",
    "#заполним пропуски\n",
    "df['balcony'] = df['balcony'].fillna(0)\n",
    "\n",
    "df.dropna(subset = ['locality'], inplace = True)\n",
    "\n",
    "df['distance_airport'] = df['distance_airport'].fillna(0)\n",
    "\n",
    "df['apartment'] = df['apartment'].fillna(value='True')"
   ]
  },
  {
   "cell_type": "markdown",
   "metadata": {},
   "source": [
    "Пропуски были обнаружены в 14 столбцах.\n",
    "Заполнили их по следующим принципам:\n",
    "1. Пропуски в числе балконом возникли скорее всего, потому что их нет в наличии. Заполнили нулями.\n",
    "2. Пропуски в населенных пунктах удалили.\n",
    "3. Пропуски в расстоянии до аэропорта заменили на нули, так как, вероятно, аэропорта в населенном пункте не оказалось.\n",
    "4. Пропуски в апартаментах заменим на True."
   ]
  },
  {
   "cell_type": "code",
   "execution_count": 4,
   "metadata": {},
   "outputs": [],
   "source": [
    "#заполним пропуски с расстоянием до центра города   \n",
    "df.groupby('locality')['city_centers_distance'].median()\n",
    "df['city_centers_distance'] = df.groupby('locality')['city_centers_distance'].apply(lambda x: x.fillna(x.median()))     "
   ]
  },
  {
   "cell_type": "markdown",
   "metadata": {},
   "source": [
    "Заполнили пропуски по следующим принципам:\n",
    "\n",
    "5. Расстояние до центра города зависит от от населенного пункта."
   ]
  },
  {
   "cell_type": "code",
   "execution_count": 5,
   "metadata": {},
   "outputs": [],
   "source": [
    "#заполним пропуски этажей    \n",
    "df.groupby('floor')['floors_total'].median()\n",
    "df['floors_total'] = df.groupby('floor')['floors_total'].apply(lambda x: x.fillna(x.median())) \n",
    "    \n",
    "    \n",
    "#заполним пропуски с высотой потолка\n",
    "df.groupby('floors_total')['ceiling_height'].median()\n",
    "df['ceiling_height'] = df.groupby('floors_total')['ceiling_height'].apply(lambda x: x.fillna(x.median()))     "
   ]
  },
  {
   "cell_type": "markdown",
   "metadata": {},
   "source": [
    "Заполнили пропуски по следующим принципам:\n",
    "\n",
    "6. Количество этажей в доме зависит от населения. Так как в разных населенных пунктах разная высота зданий, у городов она может быть самая разная, у населенных пунктов поменьше - не такой большой разброс. "
   ]
  },
  {
   "cell_type": "code",
   "execution_count": 6,
   "metadata": {},
   "outputs": [],
   "source": [
    "#заполним пропуски с жилой площадью\n",
    "df.groupby('total_area')['living_area'].median()\n",
    "df['living_area'] = df.groupby('total_area')['living_area'].apply(lambda x: x.fillna(x.median()))    \n",
    "    \n",
    "    \n",
    "\n",
    "#заполним пропуски с  площадью кухни\n",
    "df.groupby('total_area')['kitchen_area'].median()\n",
    "df['kitchen_area'] = df.groupby('total_area')['kitchen_area'].apply(lambda x: x.fillna(x.median()))    "
   ]
  },
  {
   "cell_type": "markdown",
   "metadata": {},
   "source": [
    "Заполнили пропуски по следующим принципам:\n",
    "\n",
    "7. Жилая площадь и площадь кухни зависят от общей площади жилья."
   ]
  },
  {
   "cell_type": "code",
   "execution_count": 7,
   "metadata": {},
   "outputs": [],
   "source": [
    "#пропуски с количеством парков\n",
    "df['number_parking3000'] = df['number_parking3000'].fillna(0)\n",
    "\n",
    "#пропуски с количесттвом водоемов\n",
    "df['number_reservoirs3000'] = df['number_reservoirs3000'].fillna(0)\n",
    "\n",
    "#пропуски с расстоянием до водоема\n",
    "df['distance_reservoir'] = df['distance_reservoir'].fillna(0) "
   ]
  },
  {
   "cell_type": "markdown",
   "metadata": {},
   "source": [
    "Заполнили пропуски по следующим принципам:\n",
    "\n",
    "8. Пропуски в количестве парков и водоемов  могли возникнуть, потому что их не оказалось в населенном пункте. Заменили нулями.\n",
    "9. Соответственно расстояни до водоема, исходя из п.8., также заменили нулями."
   ]
  },
  {
   "cell_type": "code",
   "execution_count": 8,
   "metadata": {},
   "outputs": [],
   "source": [
    "#заполним пропуски с расстоянием до парка\n",
    "df.groupby('number_parking3000')['distance_park'].median()\n",
    "df['distance_park'] = df.groupby('number_parking3000')['distance_park'].apply(lambda x: x.fillna(x.median()))\n",
    "    \n",
    "    \n",
    "df['city_centers_distance'] = df['city_centers_distance'].fillna(0)      "
   ]
  },
  {
   "cell_type": "markdown",
   "metadata": {},
   "source": [
    "Заполнили пропуски по следующим принципам:\n",
    "\n",
    "10. Расстояние до парка может зависеть от количества парков."
   ]
  },
  {
   "cell_type": "code",
   "execution_count": 9,
   "metadata": {},
   "outputs": [
    {
     "name": "stdout",
     "output_type": "stream",
     "text": [
      "Пропуски после:\n",
      "\n",
      "total_images                0\n",
      "price                       0\n",
      "total_area                  0\n",
      "day_publication             0\n",
      "rooms                       0\n",
      "ceiling_height              1\n",
      "floors_total                0\n",
      "living_area               143\n",
      "floor                       0\n",
      "apartment                   0\n",
      "studio                      0\n",
      "open_plan                   0\n",
      "kitchen_area              205\n",
      "balcony                     0\n",
      "locality                    0\n",
      "distance_airport            0\n",
      "city_centers_distance       0\n",
      "number_parking3000          0\n",
      "distance_park               0\n",
      "number_reservoirs3000       0\n",
      "distance_reservoir          0\n",
      "days_exposition          3180\n",
      "dtype: int64\n"
     ]
    }
   ],
   "source": [
    "print('Пропуски после:')\n",
    "print()\n",
    "print(df.isna().sum()) "
   ]
  },
  {
   "cell_type": "markdown",
   "metadata": {},
   "source": [
    "Таким образом, удалось обработать все столбцы с пропущенными значениями и тем самым подготовить данные для анализа."
   ]
  },
  {
   "cell_type": "markdown",
   "metadata": {},
   "source": [
    "### Замена типа данных"
   ]
  },
  {
   "cell_type": "code",
   "execution_count": 10,
   "metadata": {},
   "outputs": [
    {
     "name": "stdout",
     "output_type": "stream",
     "text": [
      "<class 'pandas.core.frame.DataFrame'>\n",
      "Int64Index: 23650 entries, 0 to 23698\n",
      "Data columns (total 22 columns):\n",
      " #   Column                 Non-Null Count  Dtype   \n",
      "---  ------                 --------------  -----   \n",
      " 0   total_images           23650 non-null  int64   \n",
      " 1   price                  23650 non-null  int32   \n",
      " 2   total_area             23650 non-null  float64 \n",
      " 3   day_publication        23650 non-null  object  \n",
      " 4   rooms                  23650 non-null  int64   \n",
      " 5   ceiling_height         23649 non-null  float64 \n",
      " 6   floors_total           23650 non-null  int32   \n",
      " 7   living_area            23507 non-null  float64 \n",
      " 8   floor                  23650 non-null  int64   \n",
      " 9   apartment              23650 non-null  bool    \n",
      " 10  studio                 23650 non-null  bool    \n",
      " 11  open_plan              23650 non-null  bool    \n",
      " 12  kitchen_area           23445 non-null  float64 \n",
      " 13  balcony                23650 non-null  int32   \n",
      " 14  locality               23650 non-null  category\n",
      " 15  distance_airport       23650 non-null  float64 \n",
      " 16  city_centers_distance  23650 non-null  float64 \n",
      " 17  number_parking3000     23650 non-null  int32   \n",
      " 18  distance_park          23650 non-null  float64 \n",
      " 19  number_reservoirs3000  23650 non-null  int32   \n",
      " 20  distance_reservoir     23650 non-null  float64 \n",
      " 21  days_exposition        20470 non-null  float64 \n",
      "dtypes: bool(3), category(1), float64(9), int32(5), int64(3), object(1)\n",
      "memory usage: 3.1+ MB\n",
      "Обновленный тип данных: None\n"
     ]
    }
   ],
   "source": [
    "#замена типа данных\n",
    "df['price'] = df['price'].astype('int')\n",
    "df['floors_total'] = df['floors_total'].astype('int')\n",
    "df['apartment'] = df['apartment'].astype('bool')\n",
    "df['balcony'] = df['balcony'].astype('int')\n",
    "df['day_publication'] = pd.to_numeric(df['day_publication'], errors='ignore')\n",
    "df['number_parking3000'] = df['number_parking3000'].astype('int')\n",
    "df['number_reservoirs3000'] = df['number_reservoirs3000'].astype('int')\n",
    "df['locality'] = df['locality'].astype('category')\n",
    "#проверка\n",
    "print('Обновленный тип данных:', df.info())"
   ]
  },
  {
   "cell_type": "markdown",
   "metadata": {},
   "source": [
    "### Вывод\n",
    "\n",
    "Данные имеют соответствующий им тип данных. Таблица преобразилась."
   ]
  },
  {
   "cell_type": "markdown",
   "metadata": {},
   "source": [
    "## Расчёты и добавление результатов в таблицу"
   ]
  },
  {
   "cell_type": "code",
   "execution_count": 11,
   "metadata": {},
   "outputs": [
    {
     "name": "stdout",
     "output_type": "stream",
     "text": [
      "другой            17408\n",
      "последний этаж     3330\n",
      "первый этаж        2912\n",
      "Name: categorizing_floors, dtype: int64\n"
     ]
    }
   ],
   "source": [
    "#цена за 1 кв.м.\n",
    "df['price_1m2'] = df['price'] / df['total_area']\n",
    "\n",
    "\n",
    "df['publication_date'] = pd.to_datetime(\n",
    "    df['day_publication'], format='%Y%m%dT%H:%M:%S'\n",
    ")\n",
    "\n",
    "#новый столбец с днем недели\n",
    "df['weekday_publication'] = df['publication_date'].dt.weekday\n",
    "#новый столбец с номером месяца\n",
    "df['month_publication'] = df['publication_date'].dt.month\n",
    "#новый столбец с номером года\n",
    "df['year_publication'] = df['publication_date'].dt.year\n",
    "\n",
    "\n",
    "#соотношение жилой площади к общей \n",
    "df['share_living_space'] = df['living_area'] / df['total_area']\n",
    "\n",
    "#соотношение площади кухни к общей площади\n",
    "df['kitchen_share'] = df['kitchen_area'] / df['total_area']\n",
    "\n",
    "\n",
    "#этаж квартиры (первый, последний, другой)\n",
    "def categorizing_floors(row):\n",
    "    floor = row['floor']\n",
    "    house_size = row['floors_total']\n",
    "\n",
    "    if floor == 1:\n",
    "        return 'первый этаж'\n",
    "    if floor == house_size:\n",
    "        return 'последний этаж'\n",
    "    return 'другой' \n",
    "\n",
    "\n",
    "df['categorizing_floors'] = df.apply(categorizing_floors, axis=1) \n",
    "print(df['categorizing_floors'].value_counts())  "
   ]
  },
  {
   "cell_type": "markdown",
   "metadata": {},
   "source": [
    "### Вывод\n",
    "\n",
    "Посчитали цену 1 кв.м., соотношение жилой площали к общей, площади кухни к общей площади.\n",
    "Разбили дату на дни, месяца и года и создали соответствующие им столбцы.\n",
    "Создали категоризацию для этажей в доме (первый, последний, другой) и вывели результат."
   ]
  },
  {
   "cell_type": "markdown",
   "metadata": {},
   "source": [
    "## Исследовательский анализ данных"
   ]
  },
  {
   "cell_type": "markdown",
   "metadata": {},
   "source": [
    "Изучим следующие параметры: площадь, цену, число комнат, высоту потолков. Построим гистограммы для каждого параметра."
   ]
  },
  {
   "cell_type": "code",
   "execution_count": 12,
   "metadata": {},
   "outputs": [
    {
     "data": {
      "image/png": "[encoded data removed]",
      "text/plain": [
       "<Figure size 432x288 with 1 Axes>"
      ]
     },
     "metadata": {
      "needs_background": "light"
     },
     "output_type": "display_data"
    },
    {
     "data": {
      "image/png": "[encoded data removed]",
      "text/plain": [
       "<Figure size 432x288 with 1 Axes>"
      ]
     },
     "metadata": {
      "needs_background": "light"
     },
     "output_type": "display_data"
    },
    {
     "data": {
      "image/png": "[encoded data removed]",
      "text/plain": [
       "<Figure size 432x288 with 1 Axes>"
      ]
     },
     "metadata": {
      "needs_background": "light"
     },
     "output_type": "display_data"
    },
    {
     "data": {
      "image/png": "[encoded data removed]",
      "text/plain": [
       "<Figure size 432x288 with 1 Axes>"
      ]
     },
     "metadata": {
      "needs_background": "light"
     },
     "output_type": "display_data"
    },
    {
     "data": {
      "image/png": "[encoded data removed]",
      "text/plain": [
       "<Figure size 432x288 with 1 Axes>"
      ]
     },
     "metadata": {
      "needs_background": "light"
     },
     "output_type": "display_data"
    }
   ],
   "source": [
    "df['total_area'].plot(title='Гистограмма общей площади', kind='hist', grid=True,  range=(20, 100))\n",
    "plt.ylabel('Кол-во объявлений')\n",
    "plt.xlabel('Площадь (кв.м.)')\n",
    "plt.show()\n",
    "\n",
    "\n",
    "df['price'].plot(title='Гистограмма цен', kind='hist', grid=True,  range=(0, 50000000))\n",
    "plt.ylabel('Кол-во объявлений')\n",
    "plt.xlabel('Цена')\n",
    "plt.show()\n",
    "\n",
    "\n",
    "df['price'].plot(title='Гистограмма цен', kind='hist', grid=True,   range=(2000000, 10000000))\n",
    "plt.ylabel('Кол-во объявлений')\n",
    "plt.xlabel('Цена')\n",
    "plt.show()\n",
    "\n",
    "\n",
    "df['rooms'].plot(title='Гистограмма числа комнат', kind='hist', grid=True,   range=(0, 6))\n",
    "plt.ylabel('Кол-во объявлений')\n",
    "plt.xlabel('Кол-во комнат')\n",
    "plt.show()\n",
    "\n",
    "\n",
    "df['ceiling_height'].plot(title='Гистограмма высоты потолков', kind='hist', grid=True,  range=(2.5, 3))\n",
    "plt.ylabel('Кол-во объявлений')\n",
    "plt.xlabel('Высота потолка (м)')\n",
    "plt.show()"
   ]
  },
  {
   "cell_type": "markdown",
   "metadata": {},
   "source": [
    "1. По гистограмме общей площади можно сказать, что чаще всего покупают жилье площадью до 100 кв.м. Площадь более 250 кв.м. встречается очень редко.\n",
    "\n",
    "2. По гистограмме цен можно сказать, что цены на жилье более 4млн. идут плавно на спад, а от 20млн встречаются значительно реже. Самый пик цен приходится на 3-4 млн.\n",
    "\n",
    "3. По гистограмме числа комнат можно заметить частоту приобретения 1-3-комнатных помещений. \n",
    "\n",
    "4. По гистограмме высоты потолков заметно значительное предпочтение помещений с 2,5м потолками. Потолки 3м также встречаются часто, потолки менее 2.5 и более 3.25 встречаются редко. Потолки 4м практически не встречаются."
   ]
  },
  {
   "cell_type": "markdown",
   "metadata": {},
   "source": [
    "Изучим время продажи квартиры и построим гистограмму. Посчитаем среднее и медиану времени продажи."
   ]
  },
  {
   "cell_type": "markdown",
   "metadata": {},
   "source": []
  },
  {
   "cell_type": "code",
   "execution_count": 13,
   "metadata": {},
   "outputs": [
    {
     "name": "stdout",
     "output_type": "stream",
     "text": [
      "Всего совершено продаж: 23650\n",
      "\n"
     ]
    },
    {
     "data": {
      "image/png": "[encoded data removed]",
      "text/plain": [
       "<Figure size 432x288 with 1 Axes>"
      ]
     },
     "metadata": {
      "needs_background": "light"
     },
     "output_type": "display_data"
    }
   ],
   "source": [
    "number_of_sales = df.shape[0]\n",
    "print('Всего совершено продаж: {}'.format(number_of_sales))\n",
    "print()\n",
    "\n",
    "\n",
    "df['days_exposition'].plot(title='Гистограмма кол-ва дней публикации', kind='hist', grid=True,  range=(0, 1600))\n",
    "plt.xlabel('Кол-во дней публикации')\n",
    "plt.ylabel('Кол-во объявлений')   \n",
    "plt.show()"
   ]
  },
  {
   "cell_type": "code",
   "execution_count": 14,
   "metadata": {},
   "outputs": [
    {
     "data": {
      "text/plain": [
       "count    20470.000000\n",
       "mean       180.753200\n",
       "std        219.777916\n",
       "min          1.000000\n",
       "25%         45.000000\n",
       "50%         95.000000\n",
       "75%        231.000000\n",
       "max       1580.000000\n",
       "Name: days_exposition, dtype: float64"
      ]
     },
     "execution_count": 14,
     "metadata": {},
     "output_type": "execute_result"
    },
    {
     "data": {
      "image/png": "[encoded data removed]",
      "text/plain": [
       "<Figure size 432x288 with 1 Axes>"
      ]
     },
     "metadata": {
      "needs_background": "light"
     },
     "output_type": "display_data"
    }
   ],
   "source": [
    "#определим выбросы для количества дней размещения объявления\n",
    "ax=df.boxplot('days_exposition', grid=True)\n",
    "ax.set_ylim([0, 600])\n",
    "plt.xlabel('Кол-во дней объявления')\n",
    "\n",
    "df['days_exposition'].describe()"
   ]
  },
  {
   "cell_type": "markdown",
   "metadata": {},
   "source": [
    "Вывод: Итак, из 23650 совершенных продаж, среднее время продаж составило 180 дней, а медианное только 95. Разница в 2 раза. Самая быстрая продажа состялась за 1 день.\n",
    "\n",
    "Но ведь продажа за 1 день - это необычно быстро для такой крупной сделки. Будем считать нормальное время продаж, начиная с 37 дней (первый квартиль) и заканчивая 231 днем (3 квартиль).\n",
    "\n"
   ]
  },
  {
   "cell_type": "code",
   "execution_count": 15,
   "metadata": {},
   "outputs": [
    {
     "data": {
      "text/plain": [
       "count    23650.000000\n",
       "mean        60.329069\n",
       "std         35.661808\n",
       "min         12.000000\n",
       "25%         40.000000\n",
       "50%         52.000000\n",
       "75%         69.700000\n",
       "max        900.000000\n",
       "Name: total_area, dtype: float64"
      ]
     },
     "execution_count": 15,
     "metadata": {},
     "output_type": "execute_result"
    },
    {
     "data": {
      "image/png": "[encoded data removed]",
      "text/plain": [
       "<Figure size 432x288 with 1 Axes>"
      ]
     },
     "metadata": {
      "needs_background": "light"
     },
     "output_type": "display_data"
    }
   ],
   "source": [
    "#определим выбросы для общей площади\n",
    "\n",
    "ax=df.boxplot('total_area', grid=True)\n",
    "ax.set_ylim([0, 200])\n",
    "plt.xlabel('Общая площадь(кв.м.)')\n",
    "\n",
    "df['total_area'].describe()"
   ]
  },
  {
   "cell_type": "markdown",
   "metadata": {},
   "source": [
    "Оптимальный промежуток общей площади от 20 кв.м. до 130 кв.м."
   ]
  },
  {
   "cell_type": "code",
   "execution_count": 16,
   "metadata": {},
   "outputs": [
    {
     "data": {
      "text/plain": [
       "count    23650.000000\n",
       "mean         2.070106\n",
       "std          1.078620\n",
       "min          0.000000\n",
       "25%          1.000000\n",
       "50%          2.000000\n",
       "75%          3.000000\n",
       "max         19.000000\n",
       "Name: rooms, dtype: float64"
      ]
     },
     "execution_count": 16,
     "metadata": {},
     "output_type": "execute_result"
    },
    {
     "data": {
      "image/png": "[encoded data removed]",
      "text/plain": [
       "<Figure size 432x288 with 1 Axes>"
      ]
     },
     "metadata": {
      "needs_background": "light"
     },
     "output_type": "display_data"
    }
   ],
   "source": [
    "#определим выбросы для количества комнат\n",
    "\n",
    "ax=df.boxplot('rooms', grid=True)\n",
    "ax.set_ylim([0, 7])\n",
    "plt.xlabel('Кол-во комнат')\n",
    "\n",
    "df['rooms'].describe()"
   ]
  },
  {
   "cell_type": "markdown",
   "metadata": {},
   "source": [
    "Количество комнат без выбросов рассмотрим по границам усов - от 0 до 6 комнат. \n",
    "0 комнат- студии."
   ]
  },
  {
   "cell_type": "code",
   "execution_count": 17,
   "metadata": {},
   "outputs": [
    {
     "data": {
      "text/plain": [
       "count    23649.000000\n",
       "mean         2.735507\n",
       "std          0.995258\n",
       "min          1.000000\n",
       "25%          2.550000\n",
       "50%          2.650000\n",
       "75%          2.750000\n",
       "max        100.000000\n",
       "Name: ceiling_height, dtype: float64"
      ]
     },
     "execution_count": 17,
     "metadata": {},
     "output_type": "execute_result"
    },
    {
     "data": {
      "image/png": "[encoded data removed]",
      "text/plain": [
       "<Figure size 432x288 with 1 Axes>"
      ]
     },
     "metadata": {
      "needs_background": "light"
     },
     "output_type": "display_data"
    }
   ],
   "source": [
    "#определим выбросы для высоты потолка\n",
    "\n",
    "ax=df.boxplot('ceiling_height', grid=True)\n",
    "ax.set_ylim([2.25, 4])\n",
    "plt.xlabel('Высота потолка')\n",
    "\n",
    "df['ceiling_height'].describe()"
   ]
  },
  {
   "cell_type": "markdown",
   "metadata": {},
   "source": [
    "Высоту потолков рассмотрим 2.4 - 4м"
   ]
  },
  {
   "cell_type": "code",
   "execution_count": 18,
   "metadata": {},
   "outputs": [
    {
     "data": {
      "text/plain": [
       "count    2.365000e+04\n",
       "mean     6.541127e+06\n",
       "std      1.089640e+07\n",
       "min      1.219000e+04\n",
       "25%      3.400000e+06\n",
       "50%      4.650000e+06\n",
       "75%      6.799000e+06\n",
       "max      7.630000e+08\n",
       "Name: price, dtype: float64"
      ]
     },
     "execution_count": 18,
     "metadata": {},
     "output_type": "execute_result"
    },
    {
     "data": {
      "image/png": "[encoded data removed]",
      "text/plain": [
       "<Figure size 432x288 with 1 Axes>"
      ]
     },
     "metadata": {
      "needs_background": "light"
     },
     "output_type": "display_data"
    }
   ],
   "source": [
    "#определим выбросы для цен\n",
    "\n",
    "ax=df.boxplot('price', grid=True)\n",
    "ax.set_ylim([1000000, 25000000])\n",
    "plt.xlabel('Цена')\n",
    "\n",
    "df['price'].describe()"
   ]
  },
  {
   "cell_type": "markdown",
   "metadata": {},
   "source": [
    "Для цены рассмотрим промежуток 1млн-25млн"
   ]
  },
  {
   "cell_type": "markdown",
   "metadata": {},
   "source": [
    "Создадим таблицу без выбросов."
   ]
  },
  {
   "cell_type": "code",
   "execution_count": 19,
   "metadata": {},
   "outputs": [
    {
     "name": "stdout",
     "output_type": "stream",
     "text": [
      "Среднее время продажи без выбросов: 103.06258850184084\n",
      "Медианное время продажи без выбросов: 90.00000000000001\n",
      "\n",
      "Таблица усредненного времени продаж по городам до обработки выбросов:\n",
      "                       count            mean          median\n",
      "             days_exposition days_exposition days_exposition\n",
      "locality                                                    \n",
      "Бокситогорск              14       89.571429            45.0\n",
      "Волосово                  31      279.516129           114.0\n",
      "Волхов                    85      152.400000           104.0\n",
      "Всеволожск               339      197.085546           123.0\n",
      "Выборг                   208      177.375000            99.5\n",
      "\n",
      "Таблица усредненного времени продаж по городам после:\n",
      "              Число продаж  Среднее арифметическое  Медиана\n",
      "locality                                                   \n",
      "Бокситогорск             1               45.000000     45.0\n",
      "Волосово                15               92.800000     84.0\n",
      "Волхов                  53              102.113208     95.0\n",
      "Всеволожск             192              104.229167     89.5\n",
      "Выборг                 128               99.859375     80.0\n"
     ]
    },
    {
     "data": {
      "text/plain": [
       "Text(0, 0.5, 'Кол-во объявлений')"
      ]
     },
     "execution_count": 19,
     "metadata": {},
     "output_type": "execute_result"
    },
    {
     "data": {
      "image/png": "[encoded data removed]",
      "text/plain": [
       "<Figure size 432x288 with 1 Axes>"
      ]
     },
     "metadata": {
      "needs_background": "light"
     },
     "output_type": "display_data"
    }
   ],
   "source": [
    "#срез данных, в которых нет маленьких значений и выбросов\n",
    "df2 = df[(df['days_exposition'] < 232) & (df['days_exposition'] > 36)]\n",
    "df2 = df2[(df2['total_area'] > 19) & (df2['total_area'] < 131)]\n",
    "df2 = df2[(df2['rooms'] >= 0) & (df2['rooms'] < 7)]\n",
    "df2 = df2[(df2['ceiling_height'] > 2.3) & (df2['ceiling_height'] <= 4)]\n",
    "df2 = df2[(df2['price'] > 1000000) & (df2['price'] < 25000000)]\n",
    "\n",
    "print('Среднее время продажи без выбросов: {}'.format(df2['days_exposition'].mean()))\n",
    "print('Медианное время продажи без выбросов: {}'.format(df2['days_exposition'].median()))\n",
    "print()\n",
    "\n",
    "print('Таблица усредненного времени продаж по городам до обработки выбросов:')\n",
    "print(df.pivot_table(index='locality', values='days_exposition', aggfunc=['count', 'mean', 'median']).head())\n",
    "\n",
    "\n",
    "#проверка данных без выбросов\n",
    "df3 = (\n",
    "    df2.pivot_table(index='locality', values='days_exposition', aggfunc=['count', 'mean', 'median'])\n",
    ")\n",
    "\n",
    "df3.columns = ['Число продаж', 'Среднее арифметическое', 'Медиана']\n",
    "print()\n",
    "\n",
    "print('Таблица усредненного времени продаж по городам после:')\n",
    "print(df3.head())\n",
    "\n",
    "#Гистограмма времени продаж без выбросов\n",
    "df2['days_exposition'].plot(title='Гистограмма кол-ва дней публикации', kind='hist', grid=True,  range=(0, 250))\n",
    "plt.xlabel('Кол-во дней публикации')\n",
    "plt.ylabel('Кол-во объявлений') "
   ]
  },
  {
   "cell_type": "markdown",
   "metadata": {},
   "source": [
    "Вывод: почистили данные, отбросив выбросы в значениях (общая площадь, количество комнат, высота потолка, количество дней публикации, цена). "
   ]
  },
  {
   "cell_type": "markdown",
   "metadata": {},
   "source": [
    "1. Изучим зависимость цен от площади, числа комнат, удалённости от центра. \n",
    "\n",
    "2. Изучим зависимость цен от того, на каком этаже расположена квартира: первом, последнем или другом. \n",
    "\n",
    "3. Также изучим зависимость от даты размещения: дня недели, месяца и года."
   ]
  },
  {
   "cell_type": "code",
   "execution_count": 20,
   "metadata": {},
   "outputs": [
    {
     "name": "stdout",
     "output_type": "stream",
     "text": [
      "Корелляция цены и площади, количества комнат, расстояния до центра\n",
      "0.7380416343013293\n",
      "0.45202881341399226\n",
      "0.026549338424232433\n",
      "\n",
      "Корелляция цены и дня, месяца, года продаж\n",
      "-0.003151693326332092\n",
      "0.019859179726211977\n",
      "0.006631975474290707\n"
     ]
    }
   ],
   "source": [
    "#Посмотрим на взаимосвязь различных факторов (площадь, число комнат, удаленность от центра, этаж, дата публикации объявления) и цены\n",
    "print('Корелляция цены и площади, количества комнат, расстояния до центра')\n",
    "print(df2['price'].corr(df2['total_area']))\n",
    "print(df2['price'].corr(df2['rooms']))\n",
    "print(df2['price'].corr(df2['city_centers_distance']))\n",
    "print()\n",
    "\n",
    "\n",
    "print('Корелляция цены и дня, месяца, года продаж')\n",
    "print(df2['price'].corr(df2['weekday_publication']))\n",
    "print(df2['price'].corr(df2['month_publication']))\n",
    "print(df2['price'].corr(df2['year_publication']))"
   ]
  },
  {
   "cell_type": "code",
   "execution_count": 21,
   "metadata": {},
   "outputs": [
    {
     "data": {
      "image/png": "[encoded data removed]",
      "text/plain": [
       "<Figure size 432x288 with 1 Axes>"
      ]
     },
     "metadata": {
      "needs_background": "light"
     },
     "output_type": "display_data"
    },
    {
     "data": {
      "image/png": "[encoded data removed]",
      "text/plain": [
       "<Figure size 432x288 with 1 Axes>"
      ]
     },
     "metadata": {
      "needs_background": "light"
     },
     "output_type": "display_data"
    }
   ],
   "source": [
    "#\"ящик с усами\" для категорий этажей и цен на них\n",
    "\n",
    "ax= df2.boxplot(column='price_1m2', by='categorizing_floors', grid=True)\n",
    "ax.set_ylim([0, 180000])\n",
    "plt.show()\n",
    "\n",
    "ax= df2.boxplot(column='price_1m2', by='categorizing_floors', grid=True)\n",
    "ax.set_ylim([50000, 120000])\n",
    "plt.show()"
   ]
  },
  {
   "cell_type": "markdown",
   "metadata": {},
   "source": [
    "Взаимосвязь цены и номера этажа видно наглядно на диаграмме размаха. Итак, как правило, цены на первый этаж ниже, чем на последний, хоть и разница не так велика. А вот цены на другие этажи напорядок выше первых и последних этажей в доме.\n",
    "Так, к примеру, средняя цена первого этажа составляет примерно 81 000 за 1 кв.м., последнего 85 000, а других этажей - стремится к 100 000."
   ]
  },
  {
   "cell_type": "code",
   "execution_count": 22,
   "metadata": {},
   "outputs": [
    {
     "data": {
      "image/png": "[encoded data removed]",
      "text/plain": [
       "<Figure size 360x288 with 2 Axes>"
      ]
     },
     "metadata": {
      "needs_background": "light"
     },
     "output_type": "display_data"
    }
   ],
   "source": [
    "#Диаграмма общей площади и цен\n",
    "df2.plot(title='Диаграмма общей площади и цен', x='total_area', y='price', kind='hexbin', gridsize=20, figsize=(5, 4),sharex=False, xlim=(20, 130), grid=True)\n",
    "plt.xlabel('Общая площадь (кв.м.)')\n",
    "plt.ylabel('Цена')\n",
    "plt.show()"
   ]
  },
  {
   "cell_type": "markdown",
   "metadata": {},
   "source": [
    "Итак, чем больше площадь, тем выше цена."
   ]
  },
  {
   "cell_type": "code",
   "execution_count": 23,
   "metadata": {},
   "outputs": [
    {
     "data": {
      "image/png": "[encoded data removed]",
      "text/plain": [
       "<Figure size 360x288 with 2 Axes>"
      ]
     },
     "metadata": {
      "needs_background": "light"
     },
     "output_type": "display_data"
    }
   ],
   "source": [
    "df2.plot(title='Диаграмма количества комнат и цен', x='rooms', y='price', kind='hexbin', gridsize=30, figsize=(5, 4), sharex=False, xlim=(0, 6), grid=True)\n",
    "plt.xlabel('Кол-во комнат')\n",
    "plt.ylabel('Цена')\n",
    "plt.show()"
   ]
  },
  {
   "cell_type": "markdown",
   "metadata": {},
   "source": [
    "С увеличение числа комнат растет цена жилья."
   ]
  },
  {
   "cell_type": "code",
   "execution_count": 24,
   "metadata": {},
   "outputs": [
    {
     "data": {
      "image/png": "[encoded data removed]",
      "text/plain": [
       "<Figure size 360x288 with 2 Axes>"
      ]
     },
     "metadata": {
      "needs_background": "light"
     },
     "output_type": "display_data"
    },
    {
     "data": {
      "image/png": "[encoded data removed]",
      "text/plain": [
       "<Figure size 360x288 with 2 Axes>"
      ]
     },
     "metadata": {
      "needs_background": "light"
     },
     "output_type": "display_data"
    },
    {
     "data": {
      "image/png": "[encoded data removed]",
      "text/plain": [
       "<Figure size 360x288 with 2 Axes>"
      ]
     },
     "metadata": {
      "needs_background": "light"
     },
     "output_type": "display_data"
    }
   ],
   "source": [
    "df2.plot(title='Диаграмма года публикации объявления и цен', x='year_publication', y='price', kind='hexbin', gridsize=30, figsize=(5, 4), sharex=False, grid=True)\n",
    "plt.xlabel('Год')\n",
    "plt.ylabel('Цена')\n",
    "plt.show()\n",
    "\n",
    "df2.plot(title='Диаграмма месяца публикации объявления и цен', x='month_publication', y='price', kind='hexbin', gridsize=50, figsize=(5, 4), sharex=False, grid=True)\n",
    "plt.xlabel('Месяц')\n",
    "plt.ylabel('Цена')\n",
    "plt.show()\n",
    "\n",
    "df2.plot(title='Диаграмма дня публикации объявления и цен', x='weekday_publication', y='price', kind='hexbin', gridsize=40, figsize=(5, 4), sharex=False, grid=True)\n",
    "plt.xlabel('Число месяца')\n",
    "plt.ylabel('Цена')\n",
    "plt.show()"
   ]
  },
  {
   "cell_type": "markdown",
   "metadata": {},
   "source": [
    "На стоимость жилья дата не влияет."
   ]
  },
  {
   "cell_type": "raw",
   "metadata": {},
   "source": [
    "Выделим 10 населённых пунктов с наибольшим числом объявлений и посчитаем у них среднюю цену на 1 кв. м. Выделим те населённые пункты, у которых самая высокая и низкая стоимость жилья. "
   ]
  },
  {
   "cell_type": "code",
   "execution_count": 25,
   "metadata": {},
   "outputs": [
    {
     "name": "stdout",
     "output_type": "stream",
     "text": [
      "Топ 10 городов по количеству объявлений\n"
     ]
    },
    {
     "data": {
      "text/html": [
       "<div>\n",
       "<style scoped>\n",
       "    .dataframe tbody tr th:only-of-type {\n",
       "        vertical-align: middle;\n",
       "    }\n",
       "\n",
       "    .dataframe tbody tr th {\n",
       "        vertical-align: top;\n",
       "    }\n",
       "\n",
       "    .dataframe thead th {\n",
       "        text-align: right;\n",
       "    }\n",
       "</style>\n",
       "<table border=\"1\" class=\"dataframe\">\n",
       "  <thead>\n",
       "    <tr style=\"text-align: right;\">\n",
       "      <th></th>\n",
       "      <th>count_advertisement</th>\n",
       "      <th>mean_price_1m2</th>\n",
       "    </tr>\n",
       "    <tr>\n",
       "      <th>locality</th>\n",
       "      <th></th>\n",
       "      <th></th>\n",
       "    </tr>\n",
       "  </thead>\n",
       "  <tbody>\n",
       "    <tr>\n",
       "      <th>Санкт-Петербург</th>\n",
       "      <td>6865</td>\n",
       "      <td>107698.736381</td>\n",
       "    </tr>\n",
       "    <tr>\n",
       "      <th>посёлок Мурино</th>\n",
       "      <td>279</td>\n",
       "      <td>85495.597891</td>\n",
       "    </tr>\n",
       "    <tr>\n",
       "      <th>посёлок Шушары</th>\n",
       "      <td>240</td>\n",
       "      <td>78440.049355</td>\n",
       "    </tr>\n",
       "    <tr>\n",
       "      <th>Всеволожск</th>\n",
       "      <td>192</td>\n",
       "      <td>70573.656340</td>\n",
       "    </tr>\n",
       "    <tr>\n",
       "      <th>Колпино</th>\n",
       "      <td>173</td>\n",
       "      <td>74019.134110</td>\n",
       "    </tr>\n",
       "    <tr>\n",
       "      <th>посёлок Парголово</th>\n",
       "      <td>169</td>\n",
       "      <td>88591.332787</td>\n",
       "    </tr>\n",
       "    <tr>\n",
       "      <th>деревня Кудрово</th>\n",
       "      <td>162</td>\n",
       "      <td>93357.738647</td>\n",
       "    </tr>\n",
       "    <tr>\n",
       "      <th>Пушкин</th>\n",
       "      <td>146</td>\n",
       "      <td>99180.714350</td>\n",
       "    </tr>\n",
       "    <tr>\n",
       "      <th>Гатчина</th>\n",
       "      <td>144</td>\n",
       "      <td>67955.512335</td>\n",
       "    </tr>\n",
       "    <tr>\n",
       "      <th>Выборг</th>\n",
       "      <td>128</td>\n",
       "      <td>57081.524921</td>\n",
       "    </tr>\n",
       "  </tbody>\n",
       "</table>\n",
       "</div>"
      ],
      "text/plain": [
       "                   count_advertisement  mean_price_1m2\n",
       "locality                                              \n",
       "Санкт-Петербург                   6865   107698.736381\n",
       "посёлок Мурино                     279    85495.597891\n",
       "посёлок Шушары                     240    78440.049355\n",
       "Всеволожск                         192    70573.656340\n",
       "Колпино                            173    74019.134110\n",
       "посёлок Парголово                  169    88591.332787\n",
       "деревня Кудрово                    162    93357.738647\n",
       "Пушкин                             146    99180.714350\n",
       "Гатчина                            144    67955.512335\n",
       "Выборг                             128    57081.524921"
      ]
     },
     "metadata": {},
     "output_type": "display_data"
    },
    {
     "name": "stdout",
     "output_type": "stream",
     "text": [
      "\n",
      "max средняя стоимость \n"
     ]
    },
    {
     "data": {
      "text/html": [
       "<div>\n",
       "<style scoped>\n",
       "    .dataframe tbody tr th:only-of-type {\n",
       "        vertical-align: middle;\n",
       "    }\n",
       "\n",
       "    .dataframe tbody tr th {\n",
       "        vertical-align: top;\n",
       "    }\n",
       "\n",
       "    .dataframe thead th {\n",
       "        text-align: right;\n",
       "    }\n",
       "</style>\n",
       "<table border=\"1\" class=\"dataframe\">\n",
       "  <thead>\n",
       "    <tr style=\"text-align: right;\">\n",
       "      <th></th>\n",
       "      <th>count_advertisement</th>\n",
       "      <th>mean_price_1m2</th>\n",
       "    </tr>\n",
       "    <tr>\n",
       "      <th>locality</th>\n",
       "      <th></th>\n",
       "      <th></th>\n",
       "    </tr>\n",
       "  </thead>\n",
       "  <tbody>\n",
       "    <tr>\n",
       "      <th>Санкт-Петербург</th>\n",
       "      <td>6865</td>\n",
       "      <td>107698.736381</td>\n",
       "    </tr>\n",
       "  </tbody>\n",
       "</table>\n",
       "</div>"
      ],
      "text/plain": [
       "                 count_advertisement  mean_price_1m2\n",
       "locality                                            \n",
       "Санкт-Петербург                 6865   107698.736381"
      ]
     },
     "metadata": {},
     "output_type": "display_data"
    },
    {
     "name": "stdout",
     "output_type": "stream",
     "text": [
      "\n",
      "min средняя стоимость \n"
     ]
    },
    {
     "data": {
      "text/html": [
       "<div>\n",
       "<style scoped>\n",
       "    .dataframe tbody tr th:only-of-type {\n",
       "        vertical-align: middle;\n",
       "    }\n",
       "\n",
       "    .dataframe tbody tr th {\n",
       "        vertical-align: top;\n",
       "    }\n",
       "\n",
       "    .dataframe thead th {\n",
       "        text-align: right;\n",
       "    }\n",
       "</style>\n",
       "<table border=\"1\" class=\"dataframe\">\n",
       "  <thead>\n",
       "    <tr style=\"text-align: right;\">\n",
       "      <th></th>\n",
       "      <th>count_advertisement</th>\n",
       "      <th>mean_price_1m2</th>\n",
       "    </tr>\n",
       "    <tr>\n",
       "      <th>locality</th>\n",
       "      <th></th>\n",
       "      <th></th>\n",
       "    </tr>\n",
       "  </thead>\n",
       "  <tbody>\n",
       "    <tr>\n",
       "      <th>Выборг</th>\n",
       "      <td>128</td>\n",
       "      <td>57081.524921</td>\n",
       "    </tr>\n",
       "  </tbody>\n",
       "</table>\n",
       "</div>"
      ],
      "text/plain": [
       "          count_advertisement  mean_price_1m2\n",
       "locality                                     \n",
       "Выборг                    128    57081.524921"
      ]
     },
     "metadata": {},
     "output_type": "display_data"
    }
   ],
   "source": [
    "print('Топ 10 городов по количеству объявлений')\n",
    "\n",
    "price_1m2_group = df2.groupby('locality').agg({'price_1m2':['count', 'mean']})\n",
    "price_1m2_group.columns=['count_advertisement', 'mean_price_1m2']\n",
    "price_1m2_group = price_1m2_group.sort_values(by='count_advertisement', ascending=False).head(10)\n",
    "\n",
    "display(price_1m2_group)\n",
    "print()\n",
    "\n",
    "print('max средняя стоимость ')\n",
    "display(price_1m2_group.head(1))\n",
    "print()\n",
    "print('min средняя стоимость ')\n",
    "display(price_1m2_group.tail(1))\n"
   ]
  },
  {
   "cell_type": "markdown",
   "metadata": {},
   "source": [
    "Санкт-Петербург лидирует по количеству объявлений. И у него же оказалась самая высокая цена за 1 кв.м., которая составила 107 тыс. А вот в Выборге, входящего в топ-10 городов по количеству объявлений, цена за 1 кв.м. оказалась меньше всех и стоставила 57 тыс., что почти в 2 раза ниже цены г. Санкт-Петербурга.\n",
    "\n",
    "Интересно, а цены на жилье в Санкт-Петербурге по всему городу одинаковы или все же зависит от расстояния до центра города?"
   ]
  },
  {
   "cell_type": "markdown",
   "metadata": {},
   "source": [
    "Выделим квартиры в Санкт-Петербурге. Выясним, какая область считается центром. Посчитаем среднюю цену для каждого километра. Построим график зависимости цены от удалённости от центра."
   ]
  },
  {
   "cell_type": "code",
   "execution_count": 26,
   "metadata": {},
   "outputs": [],
   "source": [
    "#Данные С-П\n",
    "piter = df2.query('locality == \"Санкт-Петербург\"').reset_index()"
   ]
  },
  {
   "cell_type": "code",
   "execution_count": 27,
   "metadata": {},
   "outputs": [
    {
     "data": {
      "text/html": [
       "<div>\n",
       "<style scoped>\n",
       "    .dataframe tbody tr th:only-of-type {\n",
       "        vertical-align: middle;\n",
       "    }\n",
       "\n",
       "    .dataframe tbody tr th {\n",
       "        vertical-align: top;\n",
       "    }\n",
       "\n",
       "    .dataframe thead th {\n",
       "        text-align: right;\n",
       "    }\n",
       "</style>\n",
       "<table border=\"1\" class=\"dataframe\">\n",
       "  <thead>\n",
       "    <tr style=\"text-align: right;\">\n",
       "      <th></th>\n",
       "      <th>index</th>\n",
       "      <th>total_images</th>\n",
       "      <th>price</th>\n",
       "      <th>total_area</th>\n",
       "      <th>day_publication</th>\n",
       "      <th>rooms</th>\n",
       "      <th>ceiling_height</th>\n",
       "      <th>floors_total</th>\n",
       "      <th>living_area</th>\n",
       "      <th>floor</th>\n",
       "      <th>...</th>\n",
       "      <th>days_exposition</th>\n",
       "      <th>price_1m2</th>\n",
       "      <th>publication_date</th>\n",
       "      <th>weekday_publication</th>\n",
       "      <th>month_publication</th>\n",
       "      <th>year_publication</th>\n",
       "      <th>share_living_space</th>\n",
       "      <th>kitchen_share</th>\n",
       "      <th>categorizing_floors</th>\n",
       "      <th>centr_km</th>\n",
       "    </tr>\n",
       "  </thead>\n",
       "  <tbody>\n",
       "    <tr>\n",
       "      <th>0</th>\n",
       "      <td>4</td>\n",
       "      <td>2</td>\n",
       "      <td>10000000</td>\n",
       "      <td>100.0</td>\n",
       "      <td>2018-06-19T00:00:00</td>\n",
       "      <td>2</td>\n",
       "      <td>3.03</td>\n",
       "      <td>14</td>\n",
       "      <td>32.0</td>\n",
       "      <td>13</td>\n",
       "      <td>...</td>\n",
       "      <td>121.0</td>\n",
       "      <td>100000.000000</td>\n",
       "      <td>2018-06-19</td>\n",
       "      <td>1</td>\n",
       "      <td>6</td>\n",
       "      <td>2018</td>\n",
       "      <td>0.320000</td>\n",
       "      <td>0.410000</td>\n",
       "      <td>другой</td>\n",
       "      <td>8.0</td>\n",
       "    </tr>\n",
       "    <tr>\n",
       "      <th>1</th>\n",
       "      <td>10</td>\n",
       "      <td>5</td>\n",
       "      <td>5050000</td>\n",
       "      <td>39.6</td>\n",
       "      <td>2017-11-16T00:00:00</td>\n",
       "      <td>1</td>\n",
       "      <td>2.67</td>\n",
       "      <td>12</td>\n",
       "      <td>20.3</td>\n",
       "      <td>3</td>\n",
       "      <td>...</td>\n",
       "      <td>137.0</td>\n",
       "      <td>127525.252525</td>\n",
       "      <td>2017-11-16</td>\n",
       "      <td>3</td>\n",
       "      <td>11</td>\n",
       "      <td>2017</td>\n",
       "      <td>0.512626</td>\n",
       "      <td>0.214646</td>\n",
       "      <td>другой</td>\n",
       "      <td>13.0</td>\n",
       "    </tr>\n",
       "    <tr>\n",
       "      <th>2</th>\n",
       "      <td>18</td>\n",
       "      <td>8</td>\n",
       "      <td>3250000</td>\n",
       "      <td>31.0</td>\n",
       "      <td>2017-01-27T00:00:00</td>\n",
       "      <td>1</td>\n",
       "      <td>2.50</td>\n",
       "      <td>5</td>\n",
       "      <td>19.4</td>\n",
       "      <td>2</td>\n",
       "      <td>...</td>\n",
       "      <td>168.0</td>\n",
       "      <td>104838.709677</td>\n",
       "      <td>2017-01-27</td>\n",
       "      <td>4</td>\n",
       "      <td>1</td>\n",
       "      <td>2017</td>\n",
       "      <td>0.625806</td>\n",
       "      <td>0.180645</td>\n",
       "      <td>другой</td>\n",
       "      <td>10.0</td>\n",
       "    </tr>\n",
       "    <tr>\n",
       "      <th>3</th>\n",
       "      <td>19</td>\n",
       "      <td>16</td>\n",
       "      <td>14200000</td>\n",
       "      <td>121.0</td>\n",
       "      <td>2019-01-09T00:00:00</td>\n",
       "      <td>3</td>\n",
       "      <td>2.75</td>\n",
       "      <td>16</td>\n",
       "      <td>76.0</td>\n",
       "      <td>8</td>\n",
       "      <td>...</td>\n",
       "      <td>97.0</td>\n",
       "      <td>117355.371901</td>\n",
       "      <td>2019-01-09</td>\n",
       "      <td>2</td>\n",
       "      <td>1</td>\n",
       "      <td>2019</td>\n",
       "      <td>0.628099</td>\n",
       "      <td>0.099174</td>\n",
       "      <td>другой</td>\n",
       "      <td>12.0</td>\n",
       "    </tr>\n",
       "    <tr>\n",
       "      <th>4</th>\n",
       "      <td>27</td>\n",
       "      <td>20</td>\n",
       "      <td>7100000</td>\n",
       "      <td>70.0</td>\n",
       "      <td>2017-05-12T00:00:00</td>\n",
       "      <td>3</td>\n",
       "      <td>2.60</td>\n",
       "      <td>17</td>\n",
       "      <td>49.0</td>\n",
       "      <td>11</td>\n",
       "      <td>...</td>\n",
       "      <td>151.0</td>\n",
       "      <td>101428.571429</td>\n",
       "      <td>2017-05-12</td>\n",
       "      <td>4</td>\n",
       "      <td>5</td>\n",
       "      <td>2017</td>\n",
       "      <td>0.700000</td>\n",
       "      <td>0.131429</td>\n",
       "      <td>другой</td>\n",
       "      <td>11.0</td>\n",
       "    </tr>\n",
       "  </tbody>\n",
       "</table>\n",
       "<p>5 rows × 32 columns</p>\n",
       "</div>"
      ],
      "text/plain": [
       "   index  total_images     price  total_area      day_publication  rooms  \\\n",
       "0      4             2  10000000       100.0  2018-06-19T00:00:00      2   \n",
       "1     10             5   5050000        39.6  2017-11-16T00:00:00      1   \n",
       "2     18             8   3250000        31.0  2017-01-27T00:00:00      1   \n",
       "3     19            16  14200000       121.0  2019-01-09T00:00:00      3   \n",
       "4     27            20   7100000        70.0  2017-05-12T00:00:00      3   \n",
       "\n",
       "   ceiling_height  floors_total  living_area  floor  ...  days_exposition  \\\n",
       "0            3.03            14         32.0     13  ...            121.0   \n",
       "1            2.67            12         20.3      3  ...            137.0   \n",
       "2            2.50             5         19.4      2  ...            168.0   \n",
       "3            2.75            16         76.0      8  ...             97.0   \n",
       "4            2.60            17         49.0     11  ...            151.0   \n",
       "\n",
       "       price_1m2  publication_date  weekday_publication  month_publication  \\\n",
       "0  100000.000000        2018-06-19                    1                  6   \n",
       "1  127525.252525        2017-11-16                    3                 11   \n",
       "2  104838.709677        2017-01-27                    4                  1   \n",
       "3  117355.371901        2019-01-09                    2                  1   \n",
       "4  101428.571429        2017-05-12                    4                  5   \n",
       "\n",
       "  year_publication  share_living_space  kitchen_share  categorizing_floors  \\\n",
       "0             2018            0.320000       0.410000               другой   \n",
       "1             2017            0.512626       0.214646               другой   \n",
       "2             2017            0.625806       0.180645               другой   \n",
       "3             2019            0.628099       0.099174               другой   \n",
       "4             2017            0.700000       0.131429               другой   \n",
       "\n",
       "   centr_km  \n",
       "0       8.0  \n",
       "1      13.0  \n",
       "2      10.0  \n",
       "3      12.0  \n",
       "4      11.0  \n",
       "\n",
       "[5 rows x 32 columns]"
      ]
     },
     "execution_count": 27,
     "metadata": {},
     "output_type": "execute_result"
    }
   ],
   "source": [
    "piter['centr_km']=piter['city_centers_distance'] // 1000\n",
    "piter.head()"
   ]
  },
  {
   "cell_type": "code",
   "execution_count": 28,
   "metadata": {
    "scrolled": false
   },
   "outputs": [],
   "source": [
    "#переведем расстояние до центра в км\n",
    "#piter.style.format({'centr_km': '{:.0f}'})"
   ]
  },
  {
   "cell_type": "code",
   "execution_count": 29,
   "metadata": {},
   "outputs": [
    {
     "data": {
      "image/png": "[encoded data removed]",
      "text/plain": [
       "<Figure size 432x288 with 1 Axes>"
      ]
     },
     "metadata": {
      "needs_background": "light"
     },
     "output_type": "display_data"
    }
   ],
   "source": [
    "piter['centr_km'].plot(title='Гистограмма расстояния до центра в С-П', kind='hist', grid=True)\n",
    "plt.xlabel('Расстояние до центра (км)')\n",
    "plt.ylabel('Кол-во объявлений') \n",
    "plt.show() \n",
    "\n",
    "#средняя цена за каждый км\n",
    "price_1km_mean = piter.groupby('centr_km').agg({'price_1m2':'mean'})\n",
    "price_1km_mean.columns=['mean_price_1km']\n",
    "price_1km_mean = price_1km_mean.sort_values(by='centr_km', ascending=False)"
   ]
  },
  {
   "cell_type": "code",
   "execution_count": 30,
   "metadata": {},
   "outputs": [
    {
     "data": {
      "image/png": "[encoded data removed]",
      "text/plain": [
       "<Figure size 432x288 with 1 Axes>"
      ]
     },
     "metadata": {
      "needs_background": "light"
     },
     "output_type": "display_data"
    }
   ],
   "source": [
    "#гистограмма цен в зависимости от расстояния до центра\n",
    "price_1km_mean.plot(title='Средняя цена за 1км от центра города С-П', style='o-', y='mean_price_1km', xlim=(0, 29), grid=True)\n",
    "plt.xlabel('Расстояние до центра (км)')\n",
    "plt.ylabel('Цена') \n",
    "plt.show()"
   ]
  },
  {
   "cell_type": "markdown",
   "metadata": {},
   "source": [
    "Чем больше расстояние от центра, тем дешевле 1 кв.м.\n",
    "Спад цен наблюдается в районе 3 км. Определим этим числом центр города. "
   ]
  },
  {
   "cell_type": "markdown",
   "metadata": {},
   "source": [
    "Изучим следующие параметры: площадь, цена, число комнат, высота потолков. Также выделим факторы, которые влияют на стоимость квартиры (число комнат, этаж, удалённость от центра, дата размещения объявления)."
   ]
  },
  {
   "cell_type": "code",
   "execution_count": 31,
   "metadata": {},
   "outputs": [
    {
     "data": {
      "image/png": "[encoded data removed]",
      "text/plain": [
       "<Figure size 432x288 with 1 Axes>"
      ]
     },
     "metadata": {
      "needs_background": "light"
     },
     "output_type": "display_data"
    },
    {
     "data": {
      "image/png": "[encoded data removed]",
      "text/plain": [
       "<Figure size 432x288 with 1 Axes>"
      ]
     },
     "metadata": {
      "needs_background": "light"
     },
     "output_type": "display_data"
    },
    {
     "data": {
      "image/png": "[encoded data removed]",
      "text/plain": [
       "<Figure size 432x288 with 1 Axes>"
      ]
     },
     "metadata": {
      "needs_background": "light"
     },
     "output_type": "display_data"
    },
    {
     "data": {
      "image/png": "[encoded data removed]",
      "text/plain": [
       "<Figure size 432x288 with 1 Axes>"
      ]
     },
     "metadata": {
      "needs_background": "light"
     },
     "output_type": "display_data"
    },
    {
     "name": "stdout",
     "output_type": "stream",
     "text": [
      "Корелляция цены и этажа, количества комнат, расстояния до центра\n",
      "0.17221155228540405\n",
      "0.330307629998716\n",
      "-0.10795125624244849\n",
      "Корелляция цены и дня, месяца, года продаж\n",
      "-0.05010812782949524\n",
      "-0.09665021010950849\n",
      "-0.03877792195102813\n"
     ]
    }
   ],
   "source": [
    "#центр города С-П\n",
    "piter2 = piter.query('centr_km < 3')\n",
    "\n",
    "piter['total_area'].plot(title='Гистограмма общей площади', kind='hist', grid=True, range=(30, 90))\n",
    "plt.xlabel('Площадь (кв.м.)')\n",
    "plt.ylabel('Кол-во объявлений') \n",
    "plt.show()\n",
    "\n",
    "piter['rooms'].plot(title='Гистограмма количества комнат', kind='hist', grid=True, range=(0, 6))\n",
    "plt.xlabel('Кол-во комнат')\n",
    "plt.ylabel('Кол-во объявлений') \n",
    "plt.show()\n",
    "\n",
    "\n",
    "piter['price'].plot(title='Гистограмма цен', kind='hist', grid=True, range=(2500000, 8000000))\n",
    "plt.xlabel('Цена')\n",
    "plt.ylabel('Кол-во объявлений') \n",
    "plt.show()\n",
    "\n",
    "piter['ceiling_height'].plot(title='Гистограмма высоты потолков', kind='hist', grid=True, range=(2.5, 3))\n",
    "plt.xlabel('Высота потолков (м))')\n",
    "plt.ylabel('Кол-во объявлений') \n",
    "plt.show()\n",
    "\n",
    "print('Корелляция цены и этажа, количества комнат, расстояния до центра')\n",
    "print(piter2['price'].corr(piter2['floor']))\n",
    "print(piter2['price'].corr(piter2['rooms']))\n",
    "print(piter2['price'].corr(piter2['centr_km']))\n",
    "\n",
    "\n",
    "print('Корелляция цены и дня, месяца, года продаж')\n",
    "print(piter2['price'].corr(piter2['weekday_publication']))\n",
    "print(piter2['price'].corr(piter2['month_publication']))\n",
    "print(piter2['price'].corr(piter2['year_publication']))"
   ]
  },
  {
   "cell_type": "code",
   "execution_count": 32,
   "metadata": {},
   "outputs": [
    {
     "data": {
      "image/png": "[encoded data removed]",
      "text/plain": [
       "<Figure size 360x288 with 2 Axes>"
      ]
     },
     "metadata": {
      "needs_background": "light"
     },
     "output_type": "display_data"
    },
    {
     "data": {
      "image/png": "[encoded data removed]",
      "text/plain": [
       "<Figure size 360x288 with 2 Axes>"
      ]
     },
     "metadata": {
      "needs_background": "light"
     },
     "output_type": "display_data"
    },
    {
     "data": {
      "image/png": "[encoded data removed]",
      "text/plain": [
       "<Figure size 360x288 with 2 Axes>"
      ]
     },
     "metadata": {
      "needs_background": "light"
     },
     "output_type": "display_data"
    },
    {
     "data": {
      "image/png": "[encoded data removed]",
      "text/plain": [
       "<Figure size 360x288 with 2 Axes>"
      ]
     },
     "metadata": {
      "needs_background": "light"
     },
     "output_type": "display_data"
    },
    {
     "data": {
      "image/png": "[encoded data removed]",
      "text/plain": [
       "<Figure size 360x288 with 2 Axes>"
      ]
     },
     "metadata": {
      "needs_background": "light"
     },
     "output_type": "display_data"
    }
   ],
   "source": [
    "piter2.plot(title='Диаграмма количества комнат и цен', x='rooms', y='price', kind='hexbin', gridsize=40, figsize=(5, 4), sharex=False, xlim=(0,6), grid=True)\n",
    "plt.xlabel('Кол-во комнат')\n",
    "plt.ylabel('Цена')\n",
    "plt.show()\n",
    "\n",
    "piter2.plot(title='Диаграмма зависимости этажа от цены', x='floor', y='price', kind='hexbin', gridsize=40, figsize=(5, 4), sharex=False, grid=True)\n",
    "plt.xlabel('Этаж')\n",
    "plt.ylabel('Цена')\n",
    "plt.show()\n",
    "\n",
    "piter2.plot(title='Диаграмма зависимости года публикации объявления от цены', x='year_publication', y='price', kind='hexbin', gridsize=30, figsize=(5, 4), sharex=False, grid=True)\n",
    "plt.xlabel('Год')\n",
    "plt.ylabel('Цена')\n",
    "plt.show()\n",
    "\n",
    "piter2.plot(title='Диаграмма зависимости месяца публикации объявления от цены', x='month_publication', y='price', kind='hexbin', gridsize=30, figsize=(5, 4), sharex=False, grid=True)\n",
    "plt.xlabel('Месяц')\n",
    "plt.ylabel('Цена')\n",
    "plt.show()\n",
    "\n",
    "piter2.plot(title='Диаграмма зависимости дня публикации объявления от цены', x='weekday_publication', y='price', kind='hexbin', gridsize=40, figsize=(5, 4), sharex=False, grid=True)\n",
    "plt.xlabel('Число')\n",
    "plt.ylabel('Цена')\n",
    "plt.show()"
   ]
  },
  {
   "cell_type": "markdown",
   "metadata": {},
   "source": [
    "Чем больше комнат, тем выше цена.\n",
    "\n",
    "Цены на 1 и 2 этажи примерно одинаковы, начиная с 3 этажа немного повышатся. Зависимость этажа и цены незначительна.\n",
    "\n",
    "Год публикации объявления на цену не влияет.\n",
    "\n",
    "Цены в январе, феврале, июне, июле, декабре выше. \n",
    "\n",
    "Особого влияния числа публикации на цену нет.\n"
   ]
  },
  {
   "cell_type": "markdown",
   "metadata": {},
   "source": [
    "### Вывод\n",
    "\n",
    "В центре города Санкт-Петербург покупатели предпочитают приобретать жилье общей площадью от 30 до 65 кв.м., самая популярная площадь - от 40-50 кв.м., с 1, 2 или 3 комнатами, с высотой потолков 2.5-2.55 и 2.7 метров и ценой от 3.5-6 млн."
   ]
  },
  {
   "cell_type": "markdown",
   "metadata": {},
   "source": [
    "## Общий вывод\n",
    "\n",
    "Итак, что влияет на цену жилья? На этот вопрос попытаемся ответить.\n",
    "\n",
    "В начале исследования был произведен анализ данных по всем городам, из большого количества выделили 10 городов по количеству объявлений. Самым большим таким городом оказался г. Санкт-петербург. Чем он еще примечателен: тем, что в нем оказалась и самая дорогая цена за 1 кв.м.\n",
    "\n",
    "На его примере подробнее изучили показатели и сравнили их с общими по всем городам.\n",
    "\n",
    "Таким образом, было установлено:\n",
    "1. Средняя предпочитаемая общая площадь жилья от 30 до 65 кв.м.\n",
    "2. Чаще всего покупают 1,2 комнатное жилье, но 3-комнатное тоже достаточно частый случай.\n",
    "3. Высота потолков в среднем 2.5-2.55м.\n",
    "4. Средняя цена в городах составила от 3-6 млн.\n",
    "\n",
    "\n",
    "На стоимсоть квартиры влияют такие параметры как:\n",
    "\n",
    "общая площадь (чем она больше, тем больше цена).\n",
    "\n",
    "количество комнат (чем больше комнат, тем дороже жилье).\n",
    "\n",
    "на примере г С-П установили, что на цену влияет расстояние до центра города, чем ближе к центру, тем дороже.\n",
    "\n",
    "чаще всего люди предпочитают этажи не первые, и не последние, а средние, соответственно цена на них несколько выше.\n",
    "\n",
    "месяц публикации объявления может повлиять на продажи, например, продавать в январе, феврале, июне, июле выгоднее."
   ]
  }
 ],
 "metadata": {
  "ExecuteTimeLog": [
   {
    "duration": 837,
    "start_time": "2021-06-09T14:50:25.028Z"
   },
   {
    "duration": 113,
    "start_time": "2021-06-09T14:50:41.433Z"
   },
   {
    "duration": 82,
    "start_time": "2021-06-09T14:51:50.569Z"
   },
   {
    "duration": 1361,
    "start_time": "2021-06-09T14:59:40.058Z"
   },
   {
    "duration": -4624,
    "start_time": "2021-06-09T15:04:26.076Z"
   },
   {
    "duration": 7854,
    "start_time": "2021-06-09T15:04:46.834Z"
   },
   {
    "duration": -1477,
    "start_time": "2021-06-09T15:05:39.665Z"
   },
   {
    "duration": -1574,
    "start_time": "2021-06-09T15:05:39.763Z"
   },
   {
    "duration": 83,
    "start_time": "2021-06-09T15:05:47.230Z"
   },
   {
    "duration": 7605,
    "start_time": "2021-06-09T15:05:52.975Z"
   },
   {
    "duration": 339,
    "start_time": "2021-06-09T15:06:03.401Z"
   },
   {
    "duration": 272,
    "start_time": "2021-06-09T15:06:11.008Z"
   },
   {
    "duration": -2650,
    "start_time": "2021-06-09T15:08:20.877Z"
   },
   {
    "duration": 6687,
    "start_time": "2021-06-09T15:08:29.163Z"
   },
   {
    "duration": 6826,
    "start_time": "2021-06-09T15:09:30.226Z"
   },
   {
    "duration": -2285,
    "start_time": "2021-06-09T15:10:07.774Z"
   },
   {
    "duration": 231,
    "start_time": "2021-06-09T15:10:56.568Z"
   },
   {
    "duration": 398,
    "start_time": "2021-06-09T15:13:08.558Z"
   },
   {
    "duration": 25,
    "start_time": "2021-06-09T15:13:25.278Z"
   },
   {
    "duration": 470,
    "start_time": "2021-06-09T15:30:49.111Z"
   },
   {
    "duration": 131,
    "start_time": "2021-06-09T16:33:54.710Z"
   },
   {
    "duration": 201,
    "start_time": "2021-06-09T16:45:07.538Z"
   },
   {
    "duration": 208,
    "start_time": "2021-06-09T16:45:29.842Z"
   },
   {
    "duration": 120,
    "start_time": "2021-06-09T16:46:53.303Z"
   },
   {
    "duration": 317,
    "start_time": "2021-06-09T17:09:05.251Z"
   },
   {
    "duration": 18,
    "start_time": "2021-06-09T17:09:18.627Z"
   },
   {
    "duration": 6,
    "start_time": "2021-06-09T17:09:57.538Z"
   },
   {
    "duration": 116,
    "start_time": "2021-06-09T17:10:04.255Z"
   },
   {
    "duration": 6,
    "start_time": "2021-06-09T17:10:04.374Z"
   },
   {
    "duration": 7,
    "start_time": "2021-06-09T17:10:23.596Z"
   },
   {
    "duration": 116,
    "start_time": "2021-06-09T17:11:09.925Z"
   },
   {
    "duration": 207,
    "start_time": "2021-06-09T17:11:26.028Z"
   },
   {
    "duration": 233,
    "start_time": "2021-06-09T17:11:44.771Z"
   },
   {
    "duration": 17,
    "start_time": "2021-06-09T17:11:45.006Z"
   },
   {
    "duration": 212,
    "start_time": "2021-06-09T17:12:06.106Z"
   },
   {
    "duration": 21,
    "start_time": "2021-06-09T17:15:54.295Z"
   },
   {
    "duration": 3,
    "start_time": "2021-06-09T17:16:57.762Z"
   },
   {
    "duration": 32,
    "start_time": "2021-06-09T17:20:32.308Z"
   },
   {
    "duration": 207,
    "start_time": "2021-06-09T17:39:20.180Z"
   },
   {
    "duration": 396,
    "start_time": "2021-06-10T05:59:15.228Z"
   },
   {
    "duration": 957,
    "start_time": "2021-06-10T06:06:17.414Z"
   },
   {
    "duration": 388,
    "start_time": "2021-06-10T06:06:18.373Z"
   },
   {
    "duration": 383,
    "start_time": "2021-06-10T06:06:18.764Z"
   },
   {
    "duration": -916,
    "start_time": "2021-06-10T06:06:20.065Z"
   },
   {
    "duration": 361,
    "start_time": "2021-06-10T06:07:12.764Z"
   },
   {
    "duration": 14,
    "start_time": "2021-06-10T06:07:41.924Z"
   },
   {
    "duration": 385,
    "start_time": "2021-06-10T06:07:57.179Z"
   },
   {
    "duration": 350,
    "start_time": "2021-06-10T06:08:31.806Z"
   },
   {
    "duration": 218,
    "start_time": "2021-06-10T06:09:12.904Z"
   },
   {
    "duration": 411,
    "start_time": "2021-06-10T06:09:13.124Z"
   },
   {
    "duration": 364,
    "start_time": "2021-06-10T06:09:13.538Z"
   },
   {
    "duration": -770,
    "start_time": "2021-06-10T06:09:14.675Z"
   },
   {
    "duration": 358,
    "start_time": "2021-06-10T06:10:05.401Z"
   },
   {
    "duration": 205,
    "start_time": "2021-06-10T06:10:19.742Z"
   },
   {
    "duration": 392,
    "start_time": "2021-06-10T06:10:19.950Z"
   },
   {
    "duration": 369,
    "start_time": "2021-06-10T06:10:20.345Z"
   },
   {
    "duration": -829,
    "start_time": "2021-06-10T06:10:21.546Z"
   },
   {
    "duration": 124,
    "start_time": "2021-06-10T06:16:34.380Z"
   },
   {
    "duration": 27265,
    "start_time": "2021-06-10T06:22:25.138Z"
   },
   {
    "duration": 27917,
    "start_time": "2021-06-10T06:23:28.128Z"
   },
   {
    "duration": 25782,
    "start_time": "2021-06-10T06:24:10.228Z"
   },
   {
    "duration": 11749,
    "start_time": "2021-06-10T06:25:23.086Z"
   },
   {
    "duration": 11354,
    "start_time": "2021-06-10T06:25:46.066Z"
   },
   {
    "duration": 221,
    "start_time": "2021-06-10T06:26:25.395Z"
   },
   {
    "duration": 420,
    "start_time": "2021-06-10T06:26:25.619Z"
   },
   {
    "duration": 461,
    "start_time": "2021-06-10T06:26:37.547Z"
   },
   {
    "duration": -887,
    "start_time": "2021-06-10T06:26:38.898Z"
   },
   {
    "duration": -895,
    "start_time": "2021-06-10T06:26:38.907Z"
   },
   {
    "duration": -901,
    "start_time": "2021-06-10T06:26:38.914Z"
   },
   {
    "duration": 119,
    "start_time": "2021-06-10T06:26:47.067Z"
   },
   {
    "duration": 27805,
    "start_time": "2021-06-10T06:27:10.253Z"
   },
   {
    "duration": 27533,
    "start_time": "2021-06-10T06:27:48.603Z"
   },
   {
    "duration": 394,
    "start_time": "2021-06-10T06:32:00.601Z"
   },
   {
    "duration": 215,
    "start_time": "2021-06-10T06:32:11.614Z"
   },
   {
    "duration": 416,
    "start_time": "2021-06-10T06:32:11.832Z"
   },
   {
    "duration": 28380,
    "start_time": "2021-06-10T06:32:12.251Z"
   },
   {
    "duration": 412,
    "start_time": "2021-06-10T06:32:40.635Z"
   },
   {
    "duration": -825,
    "start_time": "2021-06-10T06:32:41.876Z"
   },
   {
    "duration": -831,
    "start_time": "2021-06-10T06:32:41.883Z"
   },
   {
    "duration": -837,
    "start_time": "2021-06-10T06:32:41.891Z"
   },
   {
    "duration": 388,
    "start_time": "2021-06-10T06:32:51.232Z"
   },
   {
    "duration": 367,
    "start_time": "2021-06-10T06:47:43.600Z"
   },
   {
    "duration": -1011,
    "start_time": "2021-06-10T06:47:44.998Z"
   },
   {
    "duration": -1018,
    "start_time": "2021-06-10T06:47:45.006Z"
   },
   {
    "duration": -1025,
    "start_time": "2021-06-10T06:47:45.014Z"
   },
   {
    "duration": -1030,
    "start_time": "2021-06-10T06:47:45.021Z"
   },
   {
    "duration": -1036,
    "start_time": "2021-06-10T06:47:45.029Z"
   },
   {
    "duration": 214,
    "start_time": "2021-06-10T06:48:29.415Z"
   },
   {
    "duration": 2027,
    "start_time": "2021-06-10T06:48:36.296Z"
   },
   {
    "duration": 2228,
    "start_time": "2021-06-10T06:49:01.961Z"
   },
   {
    "duration": 387,
    "start_time": "2021-06-10T06:49:23.752Z"
   },
   {
    "duration": 361,
    "start_time": "2021-06-10T06:49:56.193Z"
   },
   {
    "duration": 330,
    "start_time": "2021-06-10T06:50:12.656Z"
   },
   {
    "duration": 315,
    "start_time": "2021-06-10T06:52:48.119Z"
   },
   {
    "duration": 571,
    "start_time": "2021-06-10T06:59:09.438Z"
   },
   {
    "duration": 1058,
    "start_time": "2021-06-10T06:59:58.188Z"
   },
   {
    "duration": 309,
    "start_time": "2021-06-10T06:59:59.249Z"
   },
   {
    "duration": -843,
    "start_time": "2021-06-10T07:00:00.404Z"
   },
   {
    "duration": -849,
    "start_time": "2021-06-10T07:00:00.411Z"
   },
   {
    "duration": -879,
    "start_time": "2021-06-10T07:00:00.442Z"
   },
   {
    "duration": 333,
    "start_time": "2021-06-10T07:00:25.603Z"
   },
   {
    "duration": 412,
    "start_time": "2021-06-10T07:00:35.438Z"
   },
   {
    "duration": 211181,
    "start_time": "2021-06-10T07:02:07.963Z"
   },
   {
    "duration": 47894,
    "start_time": "2021-06-10T07:05:46.942Z"
   },
   {
    "duration": 67871,
    "start_time": "2021-06-10T07:08:09.038Z"
   },
   {
    "duration": 152,
    "start_time": "2021-06-10T07:12:02.138Z"
   },
   {
    "duration": 159,
    "start_time": "2021-06-10T07:12:22.574Z"
   },
   {
    "duration": 209,
    "start_time": "2021-06-10T07:12:30.677Z"
   },
   {
    "duration": 328,
    "start_time": "2021-06-10T07:12:30.951Z"
   },
   {
    "duration": -909,
    "start_time": "2021-06-10T07:12:32.191Z"
   },
   {
    "duration": -915,
    "start_time": "2021-06-10T07:12:32.199Z"
   },
   {
    "duration": -935,
    "start_time": "2021-06-10T07:12:32.220Z"
   },
   {
    "duration": -940,
    "start_time": "2021-06-10T07:12:32.227Z"
   },
   {
    "duration": 11,
    "start_time": "2021-06-10T07:13:29.729Z"
   },
   {
    "duration": 321,
    "start_time": "2021-06-10T07:13:35.417Z"
   },
   {
    "duration": 321,
    "start_time": "2021-06-10T07:14:34.088Z"
   },
   {
    "duration": 158,
    "start_time": "2021-06-10T07:14:52.438Z"
   },
   {
    "duration": 150,
    "start_time": "2021-06-10T07:15:22.253Z"
   },
   {
    "duration": 159,
    "start_time": "2021-06-10T07:15:44.584Z"
   },
   {
    "duration": 217,
    "start_time": "2021-06-10T07:15:55.191Z"
   },
   {
    "duration": 9,
    "start_time": "2021-06-10T07:15:55.411Z"
   },
   {
    "duration": 329,
    "start_time": "2021-06-10T07:15:55.423Z"
   },
   {
    "duration": -1002,
    "start_time": "2021-06-10T07:15:56.758Z"
   },
   {
    "duration": -1006,
    "start_time": "2021-06-10T07:15:56.764Z"
   },
   {
    "duration": 68066,
    "start_time": "2021-06-10T07:15:55.874Z"
   },
   {
    "duration": 104,
    "start_time": "2021-06-10T07:17:03.943Z"
   },
   {
    "duration": -1501,
    "start_time": "2021-06-10T07:17:05.551Z"
   },
   {
    "duration": 164,
    "start_time": "2021-06-10T07:17:29.304Z"
   },
   {
    "duration": 9757,
    "start_time": "2021-06-10T07:21:00.401Z"
   },
   {
    "duration": 30448,
    "start_time": "2021-06-10T07:22:51.216Z"
   },
   {
    "duration": 172,
    "start_time": "2021-06-10T07:23:21.667Z"
   },
   {
    "duration": 197,
    "start_time": "2021-06-10T07:24:17.973Z"
   },
   {
    "duration": 173,
    "start_time": "2021-06-10T07:24:30.887Z"
   },
   {
    "duration": 307,
    "start_time": "2021-06-10T07:25:35.638Z"
   },
   {
    "duration": 9550,
    "start_time": "2021-06-10T07:43:46.240Z"
   },
   {
    "duration": 207,
    "start_time": "2021-06-10T07:44:35.009Z"
   },
   {
    "duration": 179,
    "start_time": "2021-06-10T07:44:35.219Z"
   },
   {
    "duration": 9507,
    "start_time": "2021-06-10T07:44:35.401Z"
   },
   {
    "duration": 103,
    "start_time": "2021-06-10T07:45:12.402Z"
   },
   {
    "duration": -406,
    "start_time": "2021-06-10T07:45:12.914Z"
   },
   {
    "duration": -413,
    "start_time": "2021-06-10T07:45:12.923Z"
   },
   {
    "duration": -425,
    "start_time": "2021-06-10T07:45:12.936Z"
   },
   {
    "duration": 28631,
    "start_time": "2021-06-10T07:45:19.058Z"
   },
   {
    "duration": 548,
    "start_time": "2021-06-10T07:51:55.802Z"
   },
   {
    "duration": 582,
    "start_time": "2021-06-10T07:52:47.155Z"
   },
   {
    "duration": 334,
    "start_time": "2021-06-10T07:52:58.374Z"
   },
   {
    "duration": 753,
    "start_time": "2021-06-10T07:53:15.103Z"
   },
   {
    "duration": 347,
    "start_time": "2021-06-10T07:53:20.711Z"
   },
   {
    "duration": 350,
    "start_time": "2021-06-10T07:54:04.266Z"
   },
   {
    "duration": 308,
    "start_time": "2021-06-10T07:54:34.630Z"
   },
   {
    "duration": 211,
    "start_time": "2021-06-10T07:55:22.059Z"
   },
   {
    "duration": 184,
    "start_time": "2021-06-10T07:55:22.273Z"
   },
   {
    "duration": 9641,
    "start_time": "2021-06-10T07:55:22.460Z"
   },
   {
    "duration": 98,
    "start_time": "2021-06-10T07:56:01.414Z"
   },
   {
    "duration": -389,
    "start_time": "2021-06-10T07:56:01.903Z"
   },
   {
    "duration": -400,
    "start_time": "2021-06-10T07:56:01.915Z"
   },
   {
    "duration": -404,
    "start_time": "2021-06-10T07:56:01.922Z"
   },
   {
    "duration": 222,
    "start_time": "2021-06-10T07:57:32.471Z"
   },
   {
    "duration": 182,
    "start_time": "2021-06-10T07:57:32.697Z"
   },
   {
    "duration": 10507,
    "start_time": "2021-06-10T07:57:32.885Z"
   },
   {
    "duration": 29264,
    "start_time": "2021-06-10T07:57:43.394Z"
   },
   {
    "duration": 25,
    "start_time": "2021-06-10T07:58:12.660Z"
   },
   {
    "duration": 111,
    "start_time": "2021-06-10T07:58:12.688Z"
   },
   {
    "duration": -1127,
    "start_time": "2021-06-10T07:58:13.929Z"
   },
   {
    "duration": 12,
    "start_time": "2021-06-10T07:59:26.299Z"
   },
   {
    "duration": 8386,
    "start_time": "2021-06-10T08:06:45.956Z"
   },
   {
    "duration": 2377,
    "start_time": "2021-06-10T08:07:39.136Z"
   },
   {
    "duration": 4651,
    "start_time": "2021-06-10T08:08:21.957Z"
   },
   {
    "duration": 11,
    "start_time": "2021-06-10T08:08:57.002Z"
   },
   {
    "duration": 229,
    "start_time": "2021-06-10T08:09:25.960Z"
   },
   {
    "duration": 183,
    "start_time": "2021-06-10T08:09:26.192Z"
   },
   {
    "duration": 9294,
    "start_time": "2021-06-10T08:09:26.378Z"
   },
   {
    "duration": 15,
    "start_time": "2021-06-10T08:09:35.674Z"
   },
   {
    "duration": -434,
    "start_time": "2021-06-10T08:10:09.651Z"
   },
   {
    "duration": -441,
    "start_time": "2021-06-10T08:10:09.668Z"
   },
   {
    "duration": -447,
    "start_time": "2021-06-10T08:10:09.675Z"
   },
   {
    "duration": -451,
    "start_time": "2021-06-10T08:10:09.681Z"
   },
   {
    "duration": -456,
    "start_time": "2021-06-10T08:10:09.687Z"
   },
   {
    "duration": -500,
    "start_time": "2021-06-10T08:10:09.732Z"
   },
   {
    "duration": -504,
    "start_time": "2021-06-10T08:10:09.738Z"
   },
   {
    "duration": -509,
    "start_time": "2021-06-10T08:10:09.744Z"
   },
   {
    "duration": -514,
    "start_time": "2021-06-10T08:10:09.750Z"
   },
   {
    "duration": 4634,
    "start_time": "2021-06-10T08:10:09.527Z"
   },
   {
    "duration": 21,
    "start_time": "2021-06-10T08:10:14.164Z"
   },
   {
    "duration": 276,
    "start_time": "2021-06-10T08:11:46.090Z"
   },
   {
    "duration": 168,
    "start_time": "2021-06-10T08:11:55.024Z"
   },
   {
    "duration": 9970,
    "start_time": "2021-06-10T08:12:01.435Z"
   },
   {
    "duration": 11,
    "start_time": "2021-06-10T08:12:11.407Z"
   },
   {
    "duration": 27825,
    "start_time": "2021-06-10T08:12:20.841Z"
   },
   {
    "duration": 20,
    "start_time": "2021-06-10T08:12:48.669Z"
   },
   {
    "duration": 27990,
    "start_time": "2021-06-10T08:12:59.947Z"
   },
   {
    "duration": 11,
    "start_time": "2021-06-10T08:13:27.939Z"
   },
   {
    "duration": 4463,
    "start_time": "2021-06-10T08:13:27.953Z"
   },
   {
    "duration": 10,
    "start_time": "2021-06-10T08:13:32.419Z"
   },
   {
    "duration": 57,
    "start_time": "2021-06-10T08:17:59.540Z"
   },
   {
    "duration": 37,
    "start_time": "2021-06-10T08:18:20.175Z"
   },
   {
    "duration": 12,
    "start_time": "2021-06-10T08:29:12.896Z"
   },
   {
    "duration": 38,
    "start_time": "2021-06-10T08:29:42.468Z"
   },
   {
    "duration": 11,
    "start_time": "2021-06-10T08:29:46.840Z"
   },
   {
    "duration": 232,
    "start_time": "2021-06-10T08:29:50.688Z"
   },
   {
    "duration": 186,
    "start_time": "2021-06-10T08:29:50.924Z"
   },
   {
    "duration": 9603,
    "start_time": "2021-06-10T08:29:51.114Z"
   },
   {
    "duration": 29084,
    "start_time": "2021-06-10T08:30:00.720Z"
   },
   {
    "duration": 4850,
    "start_time": "2021-06-10T08:30:29.806Z"
   },
   {
    "duration": 10,
    "start_time": "2021-06-10T08:30:34.658Z"
   },
   {
    "duration": 126,
    "start_time": "2021-06-10T08:30:34.671Z"
   },
   {
    "duration": -544,
    "start_time": "2021-06-10T08:30:35.344Z"
   },
   {
    "duration": -552,
    "start_time": "2021-06-10T08:30:35.353Z"
   },
   {
    "duration": -558,
    "start_time": "2021-06-10T08:30:35.362Z"
   },
   {
    "duration": 37,
    "start_time": "2021-06-10T08:31:00.574Z"
   },
   {
    "duration": 9,
    "start_time": "2021-06-10T08:31:05.022Z"
   },
   {
    "duration": 102,
    "start_time": "2021-06-10T08:39:42.096Z"
   },
   {
    "duration": 1518,
    "start_time": "2021-06-10T08:39:56.100Z"
   },
   {
    "duration": 223,
    "start_time": "2021-06-10T08:40:45.043Z"
   },
   {
    "duration": 189,
    "start_time": "2021-06-10T08:40:45.269Z"
   },
   {
    "duration": 9724,
    "start_time": "2021-06-10T08:40:45.461Z"
   },
   {
    "duration": 28911,
    "start_time": "2021-06-10T08:40:55.188Z"
   },
   {
    "duration": 4724,
    "start_time": "2021-06-10T08:41:24.102Z"
   },
   {
    "duration": 11,
    "start_time": "2021-06-10T08:41:28.829Z"
   },
   {
    "duration": 101,
    "start_time": "2021-06-10T08:41:28.843Z"
   },
   {
    "duration": -522,
    "start_time": "2021-06-10T08:41:29.470Z"
   },
   {
    "duration": -594,
    "start_time": "2021-06-10T08:41:29.544Z"
   },
   {
    "duration": -597,
    "start_time": "2021-06-10T08:41:29.552Z"
   },
   {
    "duration": 179,
    "start_time": "2021-06-10T09:18:29.797Z"
   },
   {
    "duration": 3738,
    "start_time": "2021-06-10T09:34:35.543Z"
   },
   {
    "duration": 2761,
    "start_time": "2021-06-10T09:35:06.929Z"
   },
   {
    "duration": 356,
    "start_time": "2021-06-10T09:35:42.680Z"
   },
   {
    "duration": 4547,
    "start_time": "2021-06-10T09:35:43.040Z"
   },
   {
    "duration": 11310,
    "start_time": "2021-06-10T09:35:47.590Z"
   },
   {
    "duration": 30921,
    "start_time": "2021-06-10T09:35:58.905Z"
   },
   {
    "duration": 5790,
    "start_time": "2021-06-10T09:36:29.829Z"
   },
   {
    "duration": 11,
    "start_time": "2021-06-10T09:36:35.621Z"
   },
   {
    "duration": 109,
    "start_time": "2021-06-10T09:36:35.634Z"
   },
   {
    "duration": -823,
    "start_time": "2021-06-10T09:36:36.569Z"
   },
   {
    "duration": -837,
    "start_time": "2021-06-10T09:36:36.585Z"
   },
   {
    "duration": -847,
    "start_time": "2021-06-10T09:36:36.597Z"
   },
   {
    "duration": 2820,
    "start_time": "2021-06-10T09:37:37.254Z"
   },
   {
    "duration": 11749,
    "start_time": "2021-06-10T09:39:27.667Z"
   },
   {
    "duration": 238,
    "start_time": "2021-06-10T09:39:51.081Z"
   },
   {
    "duration": 12124,
    "start_time": "2021-06-10T09:39:51.323Z"
   },
   {
    "duration": 10470,
    "start_time": "2021-06-10T09:40:03.450Z"
   },
   {
    "duration": 21172,
    "start_time": "2021-06-10T09:40:13.925Z"
   },
   {
    "duration": 5850,
    "start_time": "2021-06-10T09:40:35.100Z"
   },
   {
    "duration": 11,
    "start_time": "2021-06-10T09:40:40.953Z"
   },
   {
    "duration": 172,
    "start_time": "2021-06-10T09:40:40.994Z"
   },
   {
    "duration": -595,
    "start_time": "2021-06-10T09:40:41.763Z"
   },
   {
    "duration": -611,
    "start_time": "2021-06-10T09:40:41.781Z"
   },
   {
    "duration": -646,
    "start_time": "2021-06-10T09:40:41.817Z"
   },
   {
    "duration": 20555,
    "start_time": "2021-06-10T09:40:55.450Z"
   },
   {
    "duration": 33710,
    "start_time": "2021-06-10T09:42:10.147Z"
   },
   {
    "duration": 37987,
    "start_time": "2021-06-10T09:44:59.126Z"
   },
   {
    "duration": 15342,
    "start_time": "2021-06-10T09:45:37.116Z"
   },
   {
    "duration": 8,
    "start_time": "2021-06-10T09:45:52.461Z"
   },
   {
    "duration": 13,
    "start_time": "2021-06-10T09:45:52.472Z"
   },
   {
    "duration": 26,
    "start_time": "2021-06-10T09:45:52.488Z"
   },
   {
    "duration": 117,
    "start_time": "2021-06-10T09:45:52.519Z"
   },
   {
    "duration": -714,
    "start_time": "2021-06-10T09:45:53.353Z"
   },
   {
    "duration": -724,
    "start_time": "2021-06-10T09:45:53.365Z"
   },
   {
    "duration": -734,
    "start_time": "2021-06-10T09:45:53.376Z"
   },
   {
    "duration": -744,
    "start_time": "2021-06-10T09:45:53.388Z"
   },
   {
    "duration": 338,
    "start_time": "2021-06-10T09:49:43.591Z"
   },
   {
    "duration": 20339,
    "start_time": "2021-06-10T09:49:44.139Z"
   },
   {
    "duration": 4551,
    "start_time": "2021-06-10T09:50:04.481Z"
   },
   {
    "duration": 23448,
    "start_time": "2021-06-10T09:50:09.037Z"
   },
   {
    "duration": 5500,
    "start_time": "2021-06-10T09:50:32.488Z"
   },
   {
    "duration": 18,
    "start_time": "2021-06-10T09:50:37.991Z"
   },
   {
    "duration": 10632,
    "start_time": "2021-06-10T09:50:38.011Z"
   },
   {
    "duration": 11,
    "start_time": "2021-06-10T09:50:48.645Z"
   },
   {
    "duration": 196,
    "start_time": "2021-06-10T09:50:48.660Z"
   },
   {
    "duration": -1471,
    "start_time": "2021-06-10T09:50:50.329Z"
   },
   {
    "duration": -1482,
    "start_time": "2021-06-10T09:50:50.342Z"
   },
   {
    "duration": -1495,
    "start_time": "2021-06-10T09:50:50.356Z"
   },
   {
    "duration": 358,
    "start_time": "2021-06-10T09:52:36.494Z"
   },
   {
    "duration": 30,
    "start_time": "2021-06-10T09:53:05.244Z"
   },
   {
    "duration": 35,
    "start_time": "2021-06-10T09:53:42.001Z"
   },
   {
    "duration": 1509,
    "start_time": "2021-06-10T09:54:06.281Z"
   },
   {
    "duration": 15,
    "start_time": "2021-06-10T10:05:34.885Z"
   },
   {
    "duration": 12,
    "start_time": "2021-06-10T10:13:23.445Z"
   },
   {
    "duration": 165,
    "start_time": "2021-06-10T10:26:01.458Z"
   },
   {
    "duration": 585,
    "start_time": "2021-06-10T10:26:17.453Z"
   },
   {
    "duration": 2917,
    "start_time": "2021-06-10T10:31:44.692Z"
   },
   {
    "duration": 3148,
    "start_time": "2021-06-10T10:32:39.777Z"
   },
   {
    "duration": 2153,
    "start_time": "2021-06-10T10:33:05.866Z"
   },
   {
    "duration": 2155,
    "start_time": "2021-06-10T10:33:29.998Z"
   },
   {
    "duration": 2359,
    "start_time": "2021-06-10T10:34:05.690Z"
   },
   {
    "duration": 16,
    "start_time": "2021-06-10T10:34:27.530Z"
   },
   {
    "duration": 17,
    "start_time": "2021-06-10T10:34:37.222Z"
   },
   {
    "duration": 31,
    "start_time": "2021-06-10T10:35:02.380Z"
   },
   {
    "duration": 31,
    "start_time": "2021-06-10T10:35:21.956Z"
   },
   {
    "duration": 28,
    "start_time": "2021-06-10T10:37:20.927Z"
   },
   {
    "duration": 29,
    "start_time": "2021-06-10T10:37:47.528Z"
   },
   {
    "duration": 30,
    "start_time": "2021-06-10T10:38:01.177Z"
   },
   {
    "duration": 32,
    "start_time": "2021-06-10T10:38:46.232Z"
   },
   {
    "duration": 324,
    "start_time": "2021-06-10T10:39:10.139Z"
   },
   {
    "duration": 21,
    "start_time": "2021-06-10T10:39:21.920Z"
   },
   {
    "duration": 30,
    "start_time": "2021-06-10T10:39:52.457Z"
   },
   {
    "duration": 29,
    "start_time": "2021-06-10T10:40:06.286Z"
   },
   {
    "duration": 21,
    "start_time": "2021-06-10T10:40:13.362Z"
   },
   {
    "duration": 33,
    "start_time": "2021-06-10T10:45:39.966Z"
   },
   {
    "duration": 115,
    "start_time": "2021-06-10T10:58:13.263Z"
   },
   {
    "duration": 829,
    "start_time": "2021-06-10T10:58:55.276Z"
   },
   {
    "duration": 777,
    "start_time": "2021-06-10T11:01:31.008Z"
   },
   {
    "duration": 104,
    "start_time": "2021-06-10T11:07:02.528Z"
   },
   {
    "duration": 488,
    "start_time": "2021-06-10T11:09:13.054Z"
   },
   {
    "duration": 284,
    "start_time": "2021-06-10T11:11:30.038Z"
   },
   {
    "duration": 267,
    "start_time": "2021-06-10T11:11:39.920Z"
   },
   {
    "duration": 324,
    "start_time": "2021-06-10T11:11:48.361Z"
   },
   {
    "duration": 322,
    "start_time": "2021-06-10T11:11:55.489Z"
   },
   {
    "duration": 308,
    "start_time": "2021-06-10T11:12:01.703Z"
   },
   {
    "duration": 274,
    "start_time": "2021-06-10T11:12:27.594Z"
   },
   {
    "duration": 328,
    "start_time": "2021-06-10T11:12:33.029Z"
   },
   {
    "duration": 307,
    "start_time": "2021-06-10T11:13:07.981Z"
   },
   {
    "duration": 918,
    "start_time": "2021-06-10T11:13:20.020Z"
   },
   {
    "duration": 990,
    "start_time": "2021-06-10T11:13:27.022Z"
   },
   {
    "duration": 888,
    "start_time": "2021-06-10T11:13:31.251Z"
   },
   {
    "duration": 327,
    "start_time": "2021-06-10T11:13:42.222Z"
   },
   {
    "duration": 287,
    "start_time": "2021-06-10T11:14:01.258Z"
   },
   {
    "duration": 769,
    "start_time": "2021-06-10T11:14:11.906Z"
   },
   {
    "duration": 275,
    "start_time": "2021-06-10T11:14:21.585Z"
   },
   {
    "duration": 325,
    "start_time": "2021-06-10T11:14:33.000Z"
   },
   {
    "duration": 312,
    "start_time": "2021-06-10T11:15:02.896Z"
   },
   {
    "duration": 331,
    "start_time": "2021-06-10T11:15:13.758Z"
   },
   {
    "duration": 982,
    "start_time": "2021-06-10T11:17:00.366Z"
   },
   {
    "duration": 723,
    "start_time": "2021-06-10T11:17:29.264Z"
   },
   {
    "duration": 618,
    "start_time": "2021-06-10T11:17:43.239Z"
   },
   {
    "duration": 590,
    "start_time": "2021-06-10T11:17:54.915Z"
   },
   {
    "duration": 925,
    "start_time": "2021-06-10T11:22:12.782Z"
   },
   {
    "duration": 874,
    "start_time": "2021-06-10T11:22:37.562Z"
   },
   {
    "duration": 661,
    "start_time": "2021-06-10T11:22:54.367Z"
   },
   {
    "duration": 103,
    "start_time": "2021-06-10T11:26:21.827Z"
   },
   {
    "duration": 577,
    "start_time": "2021-06-10T11:26:36.275Z"
   },
   {
    "duration": 3943,
    "start_time": "2021-06-10T11:26:53.700Z"
   },
   {
    "duration": 300,
    "start_time": "2021-06-10T11:27:00.675Z"
   },
   {
    "duration": 327,
    "start_time": "2021-06-10T11:27:38.658Z"
   },
   {
    "duration": 103,
    "start_time": "2021-06-10T11:28:10.317Z"
   },
   {
    "duration": 316,
    "start_time": "2021-06-10T11:28:15.603Z"
   },
   {
    "duration": 391,
    "start_time": "2021-06-10T11:28:33.843Z"
   },
   {
    "duration": 329,
    "start_time": "2021-06-10T11:28:40.333Z"
   },
   {
    "duration": 627,
    "start_time": "2021-06-10T11:29:06.487Z"
   },
   {
    "duration": 697,
    "start_time": "2021-06-10T11:29:22.284Z"
   },
   {
    "duration": 646,
    "start_time": "2021-06-10T11:29:40.086Z"
   },
   {
    "duration": 710,
    "start_time": "2021-06-10T11:29:53.830Z"
   },
   {
    "duration": 636,
    "start_time": "2021-06-10T11:30:08.855Z"
   },
   {
    "duration": 703,
    "start_time": "2021-06-10T11:30:53.268Z"
   },
   {
    "duration": 891,
    "start_time": "2021-06-10T11:31:07.512Z"
   },
   {
    "duration": 891,
    "start_time": "2021-06-10T11:31:29.307Z"
   },
   {
    "duration": 911,
    "start_time": "2021-06-10T11:31:40.331Z"
   },
   {
    "duration": 895,
    "start_time": "2021-06-10T11:31:50.104Z"
   },
   {
    "duration": 732,
    "start_time": "2021-06-10T11:32:02.525Z"
   },
   {
    "duration": 605,
    "start_time": "2021-06-10T11:32:14.248Z"
   },
   {
    "duration": 595,
    "start_time": "2021-06-10T11:32:24.420Z"
   },
   {
    "duration": 615,
    "start_time": "2021-06-10T11:32:34.330Z"
   },
   {
    "duration": 899,
    "start_time": "2021-06-10T11:33:05.245Z"
   },
   {
    "duration": 1091,
    "start_time": "2021-06-10T11:33:21.031Z"
   },
   {
    "duration": 948,
    "start_time": "2021-06-10T11:33:36.585Z"
   },
   {
    "duration": 1737,
    "start_time": "2021-06-10T11:34:13.432Z"
   },
   {
    "duration": 1650,
    "start_time": "2021-06-10T11:34:29.719Z"
   },
   {
    "duration": 1398,
    "start_time": "2021-06-10T11:34:38.198Z"
   },
   {
    "duration": 1329,
    "start_time": "2021-06-10T11:34:56.934Z"
   },
   {
    "duration": 955,
    "start_time": "2021-06-10T11:35:16.148Z"
   },
   {
    "duration": 1153,
    "start_time": "2021-06-10T11:35:27.783Z"
   },
   {
    "duration": 980,
    "start_time": "2021-06-10T11:35:31.816Z"
   },
   {
    "duration": 955,
    "start_time": "2021-06-10T11:35:37.994Z"
   },
   {
    "duration": 1291,
    "start_time": "2021-06-10T11:35:47.059Z"
   },
   {
    "duration": 1059,
    "start_time": "2021-06-10T11:35:53.085Z"
   },
   {
    "duration": 941,
    "start_time": "2021-06-10T11:36:01.260Z"
   },
   {
    "duration": 919,
    "start_time": "2021-06-10T11:36:07.188Z"
   },
   {
    "duration": 118,
    "start_time": "2021-06-10T11:37:25.270Z"
   },
   {
    "duration": 542,
    "start_time": "2021-06-10T11:37:31.634Z"
   },
   {
    "duration": 532,
    "start_time": "2021-06-10T11:37:36.430Z"
   },
   {
    "duration": 930,
    "start_time": "2021-06-10T11:37:41.627Z"
   },
   {
    "duration": 1055,
    "start_time": "2021-06-10T11:37:51.770Z"
   },
   {
    "duration": 939,
    "start_time": "2021-06-10T11:37:59.861Z"
   },
   {
    "duration": 931,
    "start_time": "2021-06-10T11:38:22.357Z"
   },
   {
    "duration": 993,
    "start_time": "2021-06-10T11:38:40.985Z"
   },
   {
    "duration": 1070,
    "start_time": "2021-06-10T11:38:56.204Z"
   },
   {
    "duration": 939,
    "start_time": "2021-06-10T11:39:02.722Z"
   },
   {
    "duration": 1031,
    "start_time": "2021-06-10T11:39:09.460Z"
   },
   {
    "duration": 1090,
    "start_time": "2021-06-10T11:39:29.675Z"
   },
   {
    "duration": 1213,
    "start_time": "2021-06-10T11:39:37.393Z"
   },
   {
    "duration": 1105,
    "start_time": "2021-06-10T11:39:44.267Z"
   },
   {
    "duration": 1034,
    "start_time": "2021-06-10T11:40:22.503Z"
   },
   {
    "duration": 1184,
    "start_time": "2021-06-10T11:40:30.174Z"
   },
   {
    "duration": 1117,
    "start_time": "2021-06-10T11:40:37.007Z"
   },
   {
    "duration": 1505,
    "start_time": "2021-06-10T11:41:20.003Z"
   },
   {
    "duration": 1770,
    "start_time": "2021-06-10T11:41:36.599Z"
   },
   {
    "duration": 1489,
    "start_time": "2021-06-10T11:41:50.660Z"
   },
   {
    "duration": 1672,
    "start_time": "2021-06-10T11:41:57.775Z"
   },
   {
    "duration": 1514,
    "start_time": "2021-06-10T11:42:04.656Z"
   },
   {
    "duration": 1595,
    "start_time": "2021-06-10T11:42:12.005Z"
   },
   {
    "duration": 1446,
    "start_time": "2021-06-10T11:42:18.890Z"
   },
   {
    "duration": 1430,
    "start_time": "2021-06-10T11:42:31.375Z"
   },
   {
    "duration": 1566,
    "start_time": "2021-06-10T11:42:40.347Z"
   },
   {
    "duration": 1985,
    "start_time": "2021-06-10T11:42:49.071Z"
   },
   {
    "duration": 1481,
    "start_time": "2021-06-10T11:43:11.893Z"
   },
   {
    "duration": 1471,
    "start_time": "2021-06-10T11:43:26.167Z"
   },
   {
    "duration": 1769,
    "start_time": "2021-06-10T11:43:39.590Z"
   },
   {
    "duration": 1658,
    "start_time": "2021-06-10T11:43:52.559Z"
   },
   {
    "duration": 1681,
    "start_time": "2021-06-10T11:44:05.336Z"
   },
   {
    "duration": 1817,
    "start_time": "2021-06-10T11:44:19.094Z"
   },
   {
    "duration": 1630,
    "start_time": "2021-06-10T11:44:34.054Z"
   },
   {
    "duration": 1665,
    "start_time": "2021-06-10T11:44:51.373Z"
   },
   {
    "duration": 1523,
    "start_time": "2021-06-10T11:45:05.982Z"
   },
   {
    "duration": 1773,
    "start_time": "2021-06-10T11:45:30.050Z"
   },
   {
    "duration": 1507,
    "start_time": "2021-06-10T11:45:43.581Z"
   },
   {
    "duration": 1622,
    "start_time": "2021-06-10T11:46:27.496Z"
   },
   {
    "duration": 1578,
    "start_time": "2021-06-10T11:46:47.638Z"
   },
   {
    "duration": 1502,
    "start_time": "2021-06-10T11:47:21.095Z"
   },
   {
    "duration": 1608,
    "start_time": "2021-06-10T11:47:31.422Z"
   },
   {
    "duration": 1505,
    "start_time": "2021-06-10T11:47:41.593Z"
   },
   {
    "duration": 1585,
    "start_time": "2021-06-10T11:47:50.890Z"
   },
   {
    "duration": 1550,
    "start_time": "2021-06-10T11:48:08.650Z"
   },
   {
    "duration": 1692,
    "start_time": "2021-06-10T11:48:24.442Z"
   },
   {
    "duration": 1491,
    "start_time": "2021-06-10T11:48:47.746Z"
   },
   {
    "duration": 1757,
    "start_time": "2021-06-10T11:48:58.721Z"
   },
   {
    "duration": 1493,
    "start_time": "2021-06-10T11:49:11.557Z"
   },
   {
    "duration": 1752,
    "start_time": "2021-06-10T11:50:21.813Z"
   },
   {
    "duration": 1636,
    "start_time": "2021-06-10T11:50:38.626Z"
   },
   {
    "duration": 1495,
    "start_time": "2021-06-10T11:50:59.763Z"
   },
   {
    "duration": 2935,
    "start_time": "2021-06-10T11:51:53.802Z"
   },
   {
    "duration": 2641,
    "start_time": "2021-06-10T11:52:09.125Z"
   },
   {
    "duration": 407,
    "start_time": "2021-06-10T11:55:30.842Z"
   },
   {
    "duration": 459,
    "start_time": "2021-06-10T11:55:46.046Z"
   },
   {
    "duration": 484,
    "start_time": "2021-06-10T11:55:56.359Z"
   },
   {
    "duration": 537,
    "start_time": "2021-06-10T11:56:28.998Z"
   },
   {
    "duration": 553,
    "start_time": "2021-06-10T11:57:40.084Z"
   },
   {
    "duration": 521,
    "start_time": "2021-06-10T11:57:56.236Z"
   },
   {
    "duration": 1928,
    "start_time": "2021-06-10T12:03:05.660Z"
   },
   {
    "duration": 2333,
    "start_time": "2021-06-10T12:04:14.563Z"
   },
   {
    "duration": 2053,
    "start_time": "2021-06-10T12:05:17.963Z"
   },
   {
    "duration": 2695,
    "start_time": "2021-06-10T12:12:05.899Z"
   },
   {
    "duration": 2529,
    "start_time": "2021-06-10T12:12:50.744Z"
   },
   {
    "duration": 1936,
    "start_time": "2021-06-10T12:13:04.193Z"
   },
   {
    "duration": 2043,
    "start_time": "2021-06-10T12:13:16.826Z"
   },
   {
    "duration": 1910,
    "start_time": "2021-06-10T12:13:23.414Z"
   },
   {
    "duration": 2090,
    "start_time": "2021-06-10T12:13:46.480Z"
   },
   {
    "duration": 2087,
    "start_time": "2021-06-10T12:14:03.018Z"
   },
   {
    "duration": 2078,
    "start_time": "2021-06-10T12:14:16.908Z"
   },
   {
    "duration": 2911,
    "start_time": "2021-06-10T12:14:30.930Z"
   },
   {
    "duration": 2736,
    "start_time": "2021-06-10T12:14:43.360Z"
   },
   {
    "duration": 2962,
    "start_time": "2021-06-10T12:15:20.545Z"
   },
   {
    "duration": 2058,
    "start_time": "2021-06-10T12:16:00.115Z"
   },
   {
    "duration": 2091,
    "start_time": "2021-06-10T12:16:12.661Z"
   },
   {
    "duration": 2039,
    "start_time": "2021-06-10T12:16:32.396Z"
   },
   {
    "duration": 2777,
    "start_time": "2021-06-10T12:16:44.355Z"
   },
   {
    "duration": 2682,
    "start_time": "2021-06-10T12:18:35.882Z"
   },
   {
    "duration": 3069,
    "start_time": "2021-06-10T12:18:53.850Z"
   },
   {
    "duration": 2875,
    "start_time": "2021-06-10T12:19:14.114Z"
   },
   {
    "duration": 1804,
    "start_time": "2021-06-10T12:21:01.647Z"
   },
   {
    "duration": 1444,
    "start_time": "2021-06-10T12:21:12.884Z"
   },
   {
    "duration": 658,
    "start_time": "2021-06-10T12:21:56.129Z"
   },
   {
    "duration": 453,
    "start_time": "2021-06-10T12:28:12.770Z"
   },
   {
    "duration": 461,
    "start_time": "2021-06-10T12:33:02.206Z"
   },
   {
    "duration": 396,
    "start_time": "2021-06-10T12:33:13.917Z"
   },
   {
    "duration": 893,
    "start_time": "2021-06-10T12:36:33.272Z"
   },
   {
    "duration": 795,
    "start_time": "2021-06-10T12:36:58.965Z"
   },
   {
    "duration": 505,
    "start_time": "2021-06-10T12:37:11.236Z"
   },
   {
    "duration": 364,
    "start_time": "2021-06-10T12:38:48.269Z"
   },
   {
    "duration": 343,
    "start_time": "2021-06-10T12:43:54.065Z"
   },
   {
    "duration": 749,
    "start_time": "2021-06-10T12:44:33.293Z"
   },
   {
    "duration": 387,
    "start_time": "2021-06-10T12:44:50.405Z"
   },
   {
    "duration": 942,
    "start_time": "2021-06-10T15:13:30.608Z"
   },
   {
    "duration": 11227,
    "start_time": "2021-06-10T15:13:31.554Z"
   },
   {
    "duration": 2593,
    "start_time": "2021-06-10T15:13:42.784Z"
   },
   {
    "duration": 16723,
    "start_time": "2021-06-10T15:13:45.379Z"
   },
   {
    "duration": 4585,
    "start_time": "2021-06-10T15:14:02.105Z"
   },
   {
    "duration": 11,
    "start_time": "2021-06-10T15:14:06.692Z"
   },
   {
    "duration": 9289,
    "start_time": "2021-06-10T15:14:06.706Z"
   },
   {
    "duration": 11,
    "start_time": "2021-06-10T15:14:15.998Z"
   },
   {
    "duration": 84,
    "start_time": "2021-06-10T15:14:16.012Z"
   },
   {
    "duration": -583,
    "start_time": "2021-06-10T15:14:16.682Z"
   },
   {
    "duration": -624,
    "start_time": "2021-06-10T15:14:16.724Z"
   },
   {
    "duration": -634,
    "start_time": "2021-06-10T15:14:16.736Z"
   },
   {
    "duration": -647,
    "start_time": "2021-06-10T15:14:16.750Z"
   },
   {
    "duration": -657,
    "start_time": "2021-06-10T15:14:16.761Z"
   },
   {
    "duration": 1005,
    "start_time": "2021-06-10T18:43:26.180Z"
   },
   {
    "duration": 11773,
    "start_time": "2021-06-10T18:43:27.187Z"
   },
   {
    "duration": 2476,
    "start_time": "2021-06-10T18:43:38.963Z"
   },
   {
    "duration": 16981,
    "start_time": "2021-06-10T18:43:41.442Z"
   },
   {
    "duration": 4755,
    "start_time": "2021-06-10T18:43:58.426Z"
   },
   {
    "duration": 11,
    "start_time": "2021-06-10T18:44:03.183Z"
   },
   {
    "duration": 9487,
    "start_time": "2021-06-10T18:44:03.196Z"
   },
   {
    "duration": 23,
    "start_time": "2021-06-10T18:44:12.687Z"
   },
   {
    "duration": 132,
    "start_time": "2021-06-10T18:44:12.712Z"
   },
   {
    "duration": -1647,
    "start_time": "2021-06-10T18:44:14.494Z"
   },
   {
    "duration": -1669,
    "start_time": "2021-06-10T18:44:14.517Z"
   },
   {
    "duration": -2102,
    "start_time": "2021-06-10T18:44:14.951Z"
   },
   {
    "duration": -2135,
    "start_time": "2021-06-10T18:44:14.986Z"
   },
   {
    "duration": -2185,
    "start_time": "2021-06-10T18:44:15.037Z"
   },
   {
    "duration": 13,
    "start_time": "2021-06-10T18:45:48.452Z"
   },
   {
    "duration": 42,
    "start_time": "2021-06-10T18:46:13.015Z"
   },
   {
    "duration": 26,
    "start_time": "2021-06-10T18:48:13.525Z"
   },
   {
    "duration": 67,
    "start_time": "2021-06-10T18:48:33.350Z"
   },
   {
    "duration": 11680,
    "start_time": "2021-06-10T18:51:07.491Z"
   },
   {
    "duration": 10,
    "start_time": "2021-06-10T18:51:30.108Z"
   },
   {
    "duration": 208,
    "start_time": "2021-06-10T18:56:26.439Z"
   },
   {
    "duration": 11643,
    "start_time": "2021-06-10T18:56:27.169Z"
   },
   {
    "duration": 2495,
    "start_time": "2021-06-10T18:56:38.814Z"
   },
   {
    "duration": 16722,
    "start_time": "2021-06-10T18:56:41.312Z"
   },
   {
    "duration": 4773,
    "start_time": "2021-06-10T18:56:58.036Z"
   },
   {
    "duration": 9597,
    "start_time": "2021-06-10T18:57:02.824Z"
   },
   {
    "duration": 36,
    "start_time": "2021-06-10T18:57:12.423Z"
   },
   {
    "duration": 117,
    "start_time": "2021-06-10T18:57:12.461Z"
   },
   {
    "duration": -4861,
    "start_time": "2021-06-10T18:57:17.441Z"
   },
   {
    "duration": -4884,
    "start_time": "2021-06-10T18:57:17.466Z"
   },
   {
    "duration": -5458,
    "start_time": "2021-06-10T18:57:18.041Z"
   },
   {
    "duration": -112675,
    "start_time": "2021-06-10T18:59:05.259Z"
   },
   {
    "duration": -113446,
    "start_time": "2021-06-10T18:59:06.032Z"
   },
   {
    "duration": -113503,
    "start_time": "2021-06-10T18:59:06.090Z"
   },
   {
    "duration": 4861,
    "start_time": "2021-06-10T19:17:46.239Z"
   },
   {
    "duration": 222,
    "start_time": "2021-06-10T19:17:59.396Z"
   },
   {
    "duration": 11634,
    "start_time": "2021-06-10T19:17:59.621Z"
   },
   {
    "duration": 2559,
    "start_time": "2021-06-10T19:18:11.258Z"
   },
   {
    "duration": 16827,
    "start_time": "2021-06-10T19:18:13.820Z"
   },
   {
    "duration": 7,
    "start_time": "2021-06-10T19:18:35.382Z"
   },
   {
    "duration": 24,
    "start_time": "2021-06-10T19:18:35.392Z"
   },
   {
    "duration": 9652,
    "start_time": "2021-06-10T19:18:35.419Z"
   },
   {
    "duration": 52,
    "start_time": "2021-06-10T19:18:45.074Z"
   },
   {
    "duration": 129,
    "start_time": "2021-06-10T19:18:45.129Z"
   },
   {
    "duration": -1210,
    "start_time": "2021-06-10T19:18:46.471Z"
   },
   {
    "duration": -1215,
    "start_time": "2021-06-10T19:18:46.478Z"
   },
   {
    "duration": -1220,
    "start_time": "2021-06-10T19:18:46.485Z"
   },
   {
    "duration": -1225,
    "start_time": "2021-06-10T19:18:46.492Z"
   },
   {
    "duration": -1481,
    "start_time": "2021-06-10T19:18:46.750Z"
   },
   {
    "duration": -1492,
    "start_time": "2021-06-10T19:18:46.763Z"
   },
   {
    "duration": 4810,
    "start_time": "2021-06-10T19:20:03.758Z"
   },
   {
    "duration": 222,
    "start_time": "2021-06-10T19:20:19.645Z"
   },
   {
    "duration": 11445,
    "start_time": "2021-06-10T19:20:19.870Z"
   },
   {
    "duration": 2587,
    "start_time": "2021-06-10T19:20:31.318Z"
   },
   {
    "duration": 17138,
    "start_time": "2021-06-10T19:20:33.909Z"
   },
   {
    "duration": 4732,
    "start_time": "2021-06-10T19:20:51.050Z"
   },
   {
    "duration": 24,
    "start_time": "2021-06-10T19:20:55.785Z"
   },
   {
    "duration": 10,
    "start_time": "2021-06-10T19:20:55.812Z"
   },
   {
    "duration": 9808,
    "start_time": "2021-06-10T19:20:55.825Z"
   },
   {
    "duration": 37,
    "start_time": "2021-06-10T19:21:05.636Z"
   },
   {
    "duration": 140,
    "start_time": "2021-06-10T19:21:05.675Z"
   },
   {
    "duration": -772,
    "start_time": "2021-06-10T19:21:06.589Z"
   },
   {
    "duration": -795,
    "start_time": "2021-06-10T19:21:06.614Z"
   },
   {
    "duration": -809,
    "start_time": "2021-06-10T19:21:06.629Z"
   },
   {
    "duration": -816,
    "start_time": "2021-06-10T19:21:06.637Z"
   },
   {
    "duration": -822,
    "start_time": "2021-06-10T19:21:06.645Z"
   },
   {
    "duration": 11,
    "start_time": "2021-06-10T19:24:28.574Z"
   },
   {
    "duration": 206,
    "start_time": "2021-06-10T19:25:12.220Z"
   },
   {
    "duration": 11428,
    "start_time": "2021-06-10T19:25:12.640Z"
   },
   {
    "duration": 2523,
    "start_time": "2021-06-10T19:25:24.070Z"
   },
   {
    "duration": 17308,
    "start_time": "2021-06-10T19:25:26.595Z"
   },
   {
    "duration": 5,
    "start_time": "2021-06-10T19:25:43.906Z"
   },
   {
    "duration": 465,
    "start_time": "2021-06-10T19:25:43.913Z"
   },
   {
    "duration": -793,
    "start_time": "2021-06-10T19:25:45.174Z"
   },
   {
    "duration": -803,
    "start_time": "2021-06-10T19:25:45.185Z"
   },
   {
    "duration": -809,
    "start_time": "2021-06-10T19:25:45.193Z"
   },
   {
    "duration": -852,
    "start_time": "2021-06-10T19:25:45.237Z"
   },
   {
    "duration": -877,
    "start_time": "2021-06-10T19:25:45.263Z"
   },
   {
    "duration": -900,
    "start_time": "2021-06-10T19:25:45.288Z"
   },
   {
    "duration": -912,
    "start_time": "2021-06-10T19:25:45.301Z"
   },
   {
    "duration": -929,
    "start_time": "2021-06-10T19:25:45.319Z"
   },
   {
    "duration": -934,
    "start_time": "2021-06-10T19:25:45.325Z"
   },
   {
    "duration": 25,
    "start_time": "2021-06-10T19:25:59.384Z"
   },
   {
    "duration": 230,
    "start_time": "2021-06-10T19:26:14.113Z"
   },
   {
    "duration": 11762,
    "start_time": "2021-06-10T19:26:14.346Z"
   },
   {
    "duration": 2915,
    "start_time": "2021-06-10T19:26:26.111Z"
   },
   {
    "duration": 18456,
    "start_time": "2021-06-10T19:26:29.029Z"
   },
   {
    "duration": 6,
    "start_time": "2021-06-10T19:26:47.487Z"
   },
   {
    "duration": 32,
    "start_time": "2021-06-10T19:26:47.495Z"
   },
   {
    "duration": 14,
    "start_time": "2021-06-10T19:26:47.529Z"
   },
   {
    "duration": 9532,
    "start_time": "2021-06-10T19:26:47.546Z"
   },
   {
    "duration": 58,
    "start_time": "2021-06-10T19:26:57.080Z"
   },
   {
    "duration": 117,
    "start_time": "2021-06-10T19:26:57.142Z"
   },
   {
    "duration": -768,
    "start_time": "2021-06-10T19:26:58.029Z"
   },
   {
    "duration": -786,
    "start_time": "2021-06-10T19:26:58.049Z"
   },
   {
    "duration": -801,
    "start_time": "2021-06-10T19:26:58.066Z"
   },
   {
    "duration": -807,
    "start_time": "2021-06-10T19:26:58.074Z"
   },
   {
    "duration": -812,
    "start_time": "2021-06-10T19:26:58.081Z"
   },
   {
    "duration": 48,
    "start_time": "2021-06-10T19:29:41.157Z"
   },
   {
    "duration": 14,
    "start_time": "2021-06-10T19:29:49.993Z"
   },
   {
    "duration": 60,
    "start_time": "2021-06-10T19:31:10.289Z"
   },
   {
    "duration": 222,
    "start_time": "2021-06-10T19:31:24.330Z"
   },
   {
    "duration": 12001,
    "start_time": "2021-06-10T19:31:24.555Z"
   },
   {
    "duration": 2637,
    "start_time": "2021-06-10T19:31:36.559Z"
   },
   {
    "duration": 17115,
    "start_time": "2021-06-10T19:31:39.199Z"
   },
   {
    "duration": 5,
    "start_time": "2021-06-10T19:31:56.317Z"
   },
   {
    "duration": 43,
    "start_time": "2021-06-10T19:31:56.324Z"
   },
   {
    "duration": 10,
    "start_time": "2021-06-10T19:31:56.370Z"
   },
   {
    "duration": 16632,
    "start_time": "2021-06-10T19:31:56.412Z"
   },
   {
    "duration": 70,
    "start_time": "2021-06-10T19:32:13.047Z"
   },
   {
    "duration": 113,
    "start_time": "2021-06-10T19:32:13.121Z"
   },
   {
    "duration": -849,
    "start_time": "2021-06-10T19:32:14.087Z"
   },
   {
    "duration": -885,
    "start_time": "2021-06-10T19:32:14.125Z"
   },
   {
    "duration": -896,
    "start_time": "2021-06-10T19:32:14.138Z"
   },
   {
    "duration": -915,
    "start_time": "2021-06-10T19:32:14.159Z"
   },
   {
    "duration": -933,
    "start_time": "2021-06-10T19:32:14.179Z"
   },
   {
    "duration": 63,
    "start_time": "2021-06-10T19:32:49.640Z"
   },
   {
    "duration": 68,
    "start_time": "2021-06-10T19:33:30.253Z"
   },
   {
    "duration": 13,
    "start_time": "2021-06-10T19:33:37.778Z"
   },
   {
    "duration": 206,
    "start_time": "2021-06-10T19:33:53.656Z"
   },
   {
    "duration": 11775,
    "start_time": "2021-06-10T19:33:53.864Z"
   },
   {
    "duration": 2508,
    "start_time": "2021-06-10T19:34:05.642Z"
   },
   {
    "duration": 16927,
    "start_time": "2021-06-10T19:34:08.152Z"
   },
   {
    "duration": 6,
    "start_time": "2021-06-10T19:34:25.082Z"
   },
   {
    "duration": 83,
    "start_time": "2021-06-10T19:34:25.090Z"
   },
   {
    "duration": 12,
    "start_time": "2021-06-10T19:34:25.176Z"
   },
   {
    "duration": 9572,
    "start_time": "2021-06-10T19:34:25.209Z"
   },
   {
    "duration": 48,
    "start_time": "2021-06-10T19:34:34.784Z"
   },
   {
    "duration": 141,
    "start_time": "2021-06-10T19:34:34.835Z"
   },
   {
    "duration": -1457,
    "start_time": "2021-06-10T19:34:36.435Z"
   },
   {
    "duration": -1470,
    "start_time": "2021-06-10T19:34:36.450Z"
   },
   {
    "duration": -1478,
    "start_time": "2021-06-10T19:34:36.459Z"
   },
   {
    "duration": -1490,
    "start_time": "2021-06-10T19:34:36.473Z"
   },
   {
    "duration": -1606,
    "start_time": "2021-06-10T19:34:36.591Z"
   },
   {
    "duration": 29,
    "start_time": "2021-06-10T19:37:08.804Z"
   },
   {
    "duration": 59,
    "start_time": "2021-06-10T19:38:10.958Z"
   },
   {
    "duration": 59,
    "start_time": "2021-06-10T19:38:30.731Z"
   },
   {
    "duration": 13,
    "start_time": "2021-06-10T19:38:33.193Z"
   },
   {
    "duration": 10233,
    "start_time": "2021-06-10T19:40:12.617Z"
   },
   {
    "duration": 1484,
    "start_time": "2021-06-10T19:40:55.753Z"
   },
   {
    "duration": 870,
    "start_time": "2021-06-10T19:41:11.271Z"
   },
   {
    "duration": 1576,
    "start_time": "2021-06-10T19:41:16.038Z"
   },
   {
    "duration": 324,
    "start_time": "2021-06-10T19:41:24.874Z"
   },
   {
    "duration": 1465,
    "start_time": "2021-06-10T19:50:56.260Z"
   },
   {
    "duration": 1486,
    "start_time": "2021-06-10T19:51:30.289Z"
   },
   {
    "duration": 1428,
    "start_time": "2021-06-10T19:51:57.997Z"
   },
   {
    "duration": 1435,
    "start_time": "2021-06-10T19:52:18.927Z"
   },
   {
    "duration": 1477,
    "start_time": "2021-06-10T19:52:41.257Z"
   },
   {
    "duration": 1536,
    "start_time": "2021-06-10T19:53:16.813Z"
   },
   {
    "duration": 1538,
    "start_time": "2021-06-10T19:53:32.367Z"
   },
   {
    "duration": 1452,
    "start_time": "2021-06-10T19:55:19.533Z"
   },
   {
    "duration": 1563,
    "start_time": "2021-06-10T19:55:31.276Z"
   },
   {
    "duration": 1658,
    "start_time": "2021-06-10T19:55:43.885Z"
   },
   {
    "duration": 1418,
    "start_time": "2021-06-10T19:57:09.177Z"
   },
   {
    "duration": 1526,
    "start_time": "2021-06-10T19:57:28.410Z"
   },
   {
    "duration": 1450,
    "start_time": "2021-06-10T19:57:42.437Z"
   },
   {
    "duration": 1542,
    "start_time": "2021-06-10T19:58:02.507Z"
   },
   {
    "duration": 1787,
    "start_time": "2021-06-10T19:58:22.291Z"
   },
   {
    "duration": 1590,
    "start_time": "2021-06-10T19:58:44.251Z"
   },
   {
    "duration": 1581,
    "start_time": "2021-06-10T19:59:03.946Z"
   },
   {
    "duration": 975,
    "start_time": "2021-06-11T08:58:53.513Z"
   },
   {
    "duration": 11361,
    "start_time": "2021-06-11T08:58:54.490Z"
   },
   {
    "duration": 2422,
    "start_time": "2021-06-11T08:59:05.855Z"
   },
   {
    "duration": 16725,
    "start_time": "2021-06-11T08:59:08.280Z"
   },
   {
    "duration": 5,
    "start_time": "2021-06-11T08:59:25.008Z"
   },
   {
    "duration": 63,
    "start_time": "2021-06-11T08:59:25.016Z"
   },
   {
    "duration": 11,
    "start_time": "2021-06-11T08:59:25.082Z"
   },
   {
    "duration": 9558,
    "start_time": "2021-06-11T08:59:25.096Z"
   },
   {
    "duration": 38,
    "start_time": "2021-06-11T08:59:34.657Z"
   },
   {
    "duration": 84,
    "start_time": "2021-06-11T08:59:34.697Z"
   },
   {
    "duration": -4731,
    "start_time": "2021-06-11T08:59:39.514Z"
   },
   {
    "duration": -4740,
    "start_time": "2021-06-11T08:59:39.524Z"
   },
   {
    "duration": -4747,
    "start_time": "2021-06-11T08:59:39.533Z"
   },
   {
    "duration": -4760,
    "start_time": "2021-06-11T08:59:39.547Z"
   },
   {
    "duration": -4768,
    "start_time": "2021-06-11T08:59:39.557Z"
   },
   {
    "duration": 26,
    "start_time": "2021-06-11T09:01:47.149Z"
   },
   {
    "duration": 59,
    "start_time": "2021-06-11T09:02:41.505Z"
   },
   {
    "duration": 803,
    "start_time": "2021-06-11T09:03:00.000Z"
   },
   {
    "duration": 1602,
    "start_time": "2021-06-11T09:03:13.541Z"
   },
   {
    "duration": 338,
    "start_time": "2021-06-11T09:03:43.732Z"
   },
   {
    "duration": 1504,
    "start_time": "2021-06-11T09:04:05.688Z"
   },
   {
    "duration": 1495,
    "start_time": "2021-06-11T09:04:25.340Z"
   },
   {
    "duration": 339,
    "start_time": "2021-06-11T09:05:37.274Z"
   },
   {
    "duration": 1013,
    "start_time": "2021-06-11T15:19:53.377Z"
   },
   {
    "duration": 12041,
    "start_time": "2021-06-11T15:19:54.393Z"
   },
   {
    "duration": 2537,
    "start_time": "2021-06-11T15:20:06.437Z"
   },
   {
    "duration": 17102,
    "start_time": "2021-06-11T15:20:08.977Z"
   },
   {
    "duration": 5,
    "start_time": "2021-06-11T15:20:26.081Z"
   },
   {
    "duration": 59,
    "start_time": "2021-06-11T15:20:26.088Z"
   },
   {
    "duration": 11,
    "start_time": "2021-06-11T15:20:26.149Z"
   },
   {
    "duration": 9743,
    "start_time": "2021-06-11T15:20:26.164Z"
   },
   {
    "duration": 49,
    "start_time": "2021-06-11T15:20:35.910Z"
   },
   {
    "duration": 125,
    "start_time": "2021-06-11T15:20:35.961Z"
   },
   {
    "duration": -731,
    "start_time": "2021-06-11T15:20:36.821Z"
   },
   {
    "duration": -742,
    "start_time": "2021-06-11T15:20:36.834Z"
   },
   {
    "duration": -755,
    "start_time": "2021-06-11T15:20:36.849Z"
   },
   {
    "duration": -767,
    "start_time": "2021-06-11T15:20:36.863Z"
   },
   {
    "duration": -779,
    "start_time": "2021-06-11T15:20:36.877Z"
   },
   {
    "duration": 38,
    "start_time": "2021-06-11T15:21:08.447Z"
   },
   {
    "duration": 226,
    "start_time": "2021-06-11T15:21:27.979Z"
   },
   {
    "duration": 12209,
    "start_time": "2021-06-11T15:21:28.207Z"
   },
   {
    "duration": 2674,
    "start_time": "2021-06-11T15:21:40.419Z"
   },
   {
    "duration": 17308,
    "start_time": "2021-06-11T15:21:43.096Z"
   },
   {
    "duration": 6,
    "start_time": "2021-06-11T15:22:00.407Z"
   },
   {
    "duration": 42,
    "start_time": "2021-06-11T15:22:00.414Z"
   },
   {
    "duration": 12,
    "start_time": "2021-06-11T15:22:00.459Z"
   },
   {
    "duration": 10011,
    "start_time": "2021-06-11T15:22:00.474Z"
   },
   {
    "duration": 56,
    "start_time": "2021-06-11T15:22:10.488Z"
   },
   {
    "duration": 106,
    "start_time": "2021-06-11T15:22:10.547Z"
   },
   {
    "duration": -823,
    "start_time": "2021-06-11T15:22:11.478Z"
   },
   {
    "duration": -843,
    "start_time": "2021-06-11T15:22:11.500Z"
   },
   {
    "duration": -857,
    "start_time": "2021-06-11T15:22:11.515Z"
   },
   {
    "duration": -873,
    "start_time": "2021-06-11T15:22:11.533Z"
   },
   {
    "duration": -1252,
    "start_time": "2021-06-11T15:22:11.913Z"
   },
   {
    "duration": 31,
    "start_time": "2021-06-11T15:23:12.040Z"
   },
   {
    "duration": 12,
    "start_time": "2021-06-11T15:23:19.304Z"
   },
   {
    "duration": 58,
    "start_time": "2021-06-11T15:23:48.380Z"
   },
   {
    "duration": 13,
    "start_time": "2021-06-11T15:23:56.714Z"
   },
   {
    "duration": 210,
    "start_time": "2021-06-11T15:24:53.859Z"
   },
   {
    "duration": 19703,
    "start_time": "2021-06-11T15:24:54.073Z"
   },
   {
    "duration": 4576,
    "start_time": "2021-06-11T15:25:13.780Z"
   },
   {
    "duration": 28882,
    "start_time": "2021-06-11T15:25:18.360Z"
   },
   {
    "duration": 7,
    "start_time": "2021-06-11T15:25:47.245Z"
   },
   {
    "duration": 85,
    "start_time": "2021-06-11T15:25:47.255Z"
   },
   {
    "duration": 15,
    "start_time": "2021-06-11T15:25:47.345Z"
   },
   {
    "duration": 9662,
    "start_time": "2021-06-11T15:25:47.363Z"
   },
   {
    "duration": 41,
    "start_time": "2021-06-11T15:25:57.027Z"
   },
   {
    "duration": 122,
    "start_time": "2021-06-11T15:25:57.071Z"
   },
   {
    "duration": -1230,
    "start_time": "2021-06-11T15:25:58.426Z"
   },
   {
    "duration": -1240,
    "start_time": "2021-06-11T15:25:58.438Z"
   },
   {
    "duration": -1251,
    "start_time": "2021-06-11T15:25:58.451Z"
   },
   {
    "duration": -1261,
    "start_time": "2021-06-11T15:25:58.463Z"
   },
   {
    "duration": -1273,
    "start_time": "2021-06-11T15:25:58.477Z"
   },
   {
    "duration": 64,
    "start_time": "2021-06-11T15:26:50.614Z"
   },
   {
    "duration": 28,
    "start_time": "2021-06-11T15:29:11.905Z"
   },
   {
    "duration": 25,
    "start_time": "2021-06-11T15:30:59.797Z"
   },
   {
    "duration": 10,
    "start_time": "2021-06-11T15:31:11.220Z"
   },
   {
    "duration": 14048,
    "start_time": "2021-06-11T15:32:50.700Z"
   },
   {
    "duration": 11843,
    "start_time": "2021-06-11T15:33:22.840Z"
   },
   {
    "duration": 11845,
    "start_time": "2021-06-11T15:33:35.251Z"
   },
   {
    "duration": 2551,
    "start_time": "2021-06-11T15:33:47.099Z"
   },
   {
    "duration": 11839,
    "start_time": "2021-06-11T15:34:01.528Z"
   },
   {
    "duration": 17151,
    "start_time": "2021-06-11T15:34:22.089Z"
   },
   {
    "duration": 5,
    "start_time": "2021-06-11T15:34:39.243Z"
   },
   {
    "duration": 28,
    "start_time": "2021-06-11T15:34:39.251Z"
   },
   {
    "duration": 9,
    "start_time": "2021-06-11T15:34:39.282Z"
   },
   {
    "duration": 2549,
    "start_time": "2021-06-11T15:35:06.060Z"
   },
   {
    "duration": 10,
    "start_time": "2021-06-11T15:35:15.871Z"
   },
   {
    "duration": 217,
    "start_time": "2021-06-11T15:35:44.271Z"
   },
   {
    "duration": 11646,
    "start_time": "2021-06-11T15:35:44.491Z"
   },
   {
    "duration": 2730,
    "start_time": "2021-06-11T15:35:56.140Z"
   },
   {
    "duration": 17458,
    "start_time": "2021-06-11T15:35:58.873Z"
   },
   {
    "duration": 6,
    "start_time": "2021-06-11T15:36:16.333Z"
   },
   {
    "duration": 33,
    "start_time": "2021-06-11T15:36:16.341Z"
   },
   {
    "duration": 11,
    "start_time": "2021-06-11T15:36:16.376Z"
   },
   {
    "duration": 9892,
    "start_time": "2021-06-11T15:36:16.390Z"
   },
   {
    "duration": 53,
    "start_time": "2021-06-11T15:36:26.286Z"
   },
   {
    "duration": 109,
    "start_time": "2021-06-11T15:36:26.343Z"
   },
   {
    "duration": -1118,
    "start_time": "2021-06-11T15:36:27.573Z"
   },
   {
    "duration": -1129,
    "start_time": "2021-06-11T15:36:27.585Z"
   },
   {
    "duration": -1142,
    "start_time": "2021-06-11T15:36:27.600Z"
   },
   {
    "duration": -1152,
    "start_time": "2021-06-11T15:36:27.611Z"
   },
   {
    "duration": -1163,
    "start_time": "2021-06-11T15:36:27.624Z"
   },
   {
    "duration": 14245,
    "start_time": "2021-06-11T15:38:19.099Z"
   },
   {
    "duration": 4022,
    "start_time": "2021-06-11T15:38:33.347Z"
   },
   {
    "duration": 19244,
    "start_time": "2021-06-11T15:38:37.373Z"
   },
   {
    "duration": 8,
    "start_time": "2021-06-11T15:38:56.619Z"
   },
   {
    "duration": 29,
    "start_time": "2021-06-11T15:38:56.630Z"
   },
   {
    "duration": 14,
    "start_time": "2021-06-11T15:38:56.661Z"
   },
   {
    "duration": 10013,
    "start_time": "2021-06-11T15:38:56.679Z"
   },
   {
    "duration": 54,
    "start_time": "2021-06-11T15:39:06.695Z"
   },
   {
    "duration": 29,
    "start_time": "2021-06-11T15:39:36.503Z"
   },
   {
    "duration": 62,
    "start_time": "2021-06-11T15:39:44.837Z"
   },
   {
    "duration": 1026,
    "start_time": "2021-06-11T15:39:57.671Z"
   },
   {
    "duration": 1597,
    "start_time": "2021-06-11T15:40:12.593Z"
   },
   {
    "duration": 508,
    "start_time": "2021-06-11T15:40:22.356Z"
   },
   {
    "duration": 927,
    "start_time": "2021-06-11T16:28:36.421Z"
   },
   {
    "duration": 701,
    "start_time": "2021-06-11T16:28:57.961Z"
   },
   {
    "duration": 332,
    "start_time": "2021-06-11T16:29:05.126Z"
   },
   {
    "duration": 378,
    "start_time": "2021-06-11T16:29:16.520Z"
   },
   {
    "duration": 286,
    "start_time": "2021-06-11T16:29:52.481Z"
   },
   {
    "duration": 15385,
    "start_time": "2021-06-11T16:29:52.770Z"
   },
   {
    "duration": 2812,
    "start_time": "2021-06-11T16:30:08.158Z"
   },
   {
    "duration": 28767,
    "start_time": "2021-06-11T16:30:10.973Z"
   },
   {
    "duration": 8,
    "start_time": "2021-06-11T16:30:39.743Z"
   },
   {
    "duration": 28,
    "start_time": "2021-06-11T16:30:39.754Z"
   },
   {
    "duration": 42,
    "start_time": "2021-06-11T16:30:39.785Z"
   },
   {
    "duration": 10021,
    "start_time": "2021-06-11T16:30:39.833Z"
   },
   {
    "duration": 38,
    "start_time": "2021-06-11T16:30:49.856Z"
   },
   {
    "duration": 174,
    "start_time": "2021-06-11T16:30:49.898Z"
   },
   {
    "duration": -841,
    "start_time": "2021-06-11T16:30:50.915Z"
   },
   {
    "duration": -850,
    "start_time": "2021-06-11T16:30:50.925Z"
   },
   {
    "duration": -883,
    "start_time": "2021-06-11T16:30:50.960Z"
   },
   {
    "duration": -891,
    "start_time": "2021-06-11T16:30:50.969Z"
   },
   {
    "duration": -896,
    "start_time": "2021-06-11T16:30:50.975Z"
   },
   {
    "duration": 346,
    "start_time": "2021-06-11T16:31:54.812Z"
   },
   {
    "duration": 335,
    "start_time": "2021-06-11T16:32:21.663Z"
   },
   {
    "duration": 343,
    "start_time": "2021-06-11T16:34:35.954Z"
   },
   {
    "duration": 339,
    "start_time": "2021-06-11T16:36:22.723Z"
   },
   {
    "duration": 372,
    "start_time": "2021-06-11T16:37:44.820Z"
   },
   {
    "duration": 363,
    "start_time": "2021-06-11T16:38:36.992Z"
   },
   {
    "duration": 105,
    "start_time": "2021-06-11T16:39:58.213Z"
   },
   {
    "duration": 107,
    "start_time": "2021-06-11T16:40:16.150Z"
   },
   {
    "duration": 710,
    "start_time": "2021-06-11T16:40:58.106Z"
   },
   {
    "duration": 358,
    "start_time": "2021-06-11T16:41:40.606Z"
   },
   {
    "duration": 385,
    "start_time": "2021-06-11T16:42:02.682Z"
   },
   {
    "duration": 361,
    "start_time": "2021-06-11T16:49:56.673Z"
   },
   {
    "duration": 363,
    "start_time": "2021-06-11T16:50:21.920Z"
   },
   {
    "duration": 452,
    "start_time": "2021-06-11T16:50:47.524Z"
   },
   {
    "duration": 404,
    "start_time": "2021-06-11T16:50:59.441Z"
   },
   {
    "duration": 339,
    "start_time": "2021-06-11T17:05:15.454Z"
   },
   {
    "duration": 218,
    "start_time": "2021-06-11T17:05:31.662Z"
   },
   {
    "duration": 14279,
    "start_time": "2021-06-11T17:05:31.974Z"
   },
   {
    "duration": 2653,
    "start_time": "2021-06-11T17:05:46.256Z"
   },
   {
    "duration": 17357,
    "start_time": "2021-06-11T17:05:48.911Z"
   },
   {
    "duration": 6,
    "start_time": "2021-06-11T17:06:06.271Z"
   },
   {
    "duration": 29,
    "start_time": "2021-06-11T17:06:06.279Z"
   },
   {
    "duration": 20,
    "start_time": "2021-06-11T17:06:06.310Z"
   },
   {
    "duration": 9878,
    "start_time": "2021-06-11T17:06:06.333Z"
   },
   {
    "duration": 48,
    "start_time": "2021-06-11T17:06:16.214Z"
   },
   {
    "duration": 123,
    "start_time": "2021-06-11T17:06:16.265Z"
   },
   {
    "duration": -1472,
    "start_time": "2021-06-11T17:06:17.862Z"
   },
   {
    "duration": -1478,
    "start_time": "2021-06-11T17:06:17.870Z"
   },
   {
    "duration": -1483,
    "start_time": "2021-06-11T17:06:17.877Z"
   },
   {
    "duration": -1519,
    "start_time": "2021-06-11T17:06:17.914Z"
   },
   {
    "duration": -1526,
    "start_time": "2021-06-11T17:06:17.923Z"
   },
   {
    "duration": 823,
    "start_time": "2021-06-11T17:07:13.365Z"
   },
   {
    "duration": 1485,
    "start_time": "2021-06-11T17:07:18.819Z"
   },
   {
    "duration": 347,
    "start_time": "2021-06-11T17:07:29.594Z"
   },
   {
    "duration": 404,
    "start_time": "2021-06-11T17:08:56.759Z"
   },
   {
    "duration": 353,
    "start_time": "2021-06-11T17:09:11.733Z"
   },
   {
    "duration": 346,
    "start_time": "2021-06-11T17:09:35.382Z"
   },
   {
    "duration": 324,
    "start_time": "2021-06-11T17:09:47.873Z"
   },
   {
    "duration": 345,
    "start_time": "2021-06-11T17:09:59.405Z"
   },
   {
    "duration": 624,
    "start_time": "2021-06-11T17:12:21.862Z"
   },
   {
    "duration": 641,
    "start_time": "2021-06-11T17:12:53.153Z"
   },
   {
    "duration": 630,
    "start_time": "2021-06-11T17:13:21.235Z"
   },
   {
    "duration": 1390,
    "start_time": "2021-06-11T17:14:44.935Z"
   },
   {
    "duration": 1350,
    "start_time": "2021-06-11T17:16:14.913Z"
   },
   {
    "duration": 357,
    "start_time": "2021-06-11T17:17:50.118Z"
   },
   {
    "duration": 1323,
    "start_time": "2021-06-11T17:18:04.363Z"
   },
   {
    "duration": 1305,
    "start_time": "2021-06-11T17:19:18.474Z"
   },
   {
    "duration": 1212,
    "start_time": "2021-06-11T17:20:22.542Z"
   },
   {
    "duration": 2085,
    "start_time": "2021-06-11T17:22:00.626Z"
   },
   {
    "duration": 1216,
    "start_time": "2021-06-11T17:22:46.781Z"
   },
   {
    "duration": 1404,
    "start_time": "2021-06-11T17:24:01.622Z"
   },
   {
    "duration": 1218,
    "start_time": "2021-06-11T17:24:43.285Z"
   },
   {
    "duration": 1335,
    "start_time": "2021-06-11T17:25:07.376Z"
   },
   {
    "duration": 1382,
    "start_time": "2021-06-11T17:25:25.219Z"
   },
   {
    "duration": 1219,
    "start_time": "2021-06-11T17:25:40.379Z"
   },
   {
    "duration": 1230,
    "start_time": "2021-06-11T17:25:59.397Z"
   },
   {
    "duration": 1602,
    "start_time": "2021-06-11T17:26:33.741Z"
   },
   {
    "duration": 1310,
    "start_time": "2021-06-11T17:27:26.829Z"
   },
   {
    "duration": 1238,
    "start_time": "2021-06-11T17:27:56.337Z"
   },
   {
    "duration": 1358,
    "start_time": "2021-06-11T17:28:08.891Z"
   },
   {
    "duration": 1366,
    "start_time": "2021-06-11T17:28:22.362Z"
   },
   {
    "duration": 1234,
    "start_time": "2021-06-11T17:28:50.884Z"
   },
   {
    "duration": 1194,
    "start_time": "2021-06-11T17:29:40.546Z"
   },
   {
    "duration": 1360,
    "start_time": "2021-06-11T17:29:59.595Z"
   },
   {
    "duration": 1246,
    "start_time": "2021-06-11T17:30:12.697Z"
   },
   {
    "duration": 1218,
    "start_time": "2021-06-11T17:30:34.053Z"
   },
   {
    "duration": 1212,
    "start_time": "2021-06-11T17:31:04.975Z"
   },
   {
    "duration": 1344,
    "start_time": "2021-06-11T17:31:49.074Z"
   },
   {
    "duration": 1345,
    "start_time": "2021-06-11T17:32:50.487Z"
   },
   {
    "duration": 1321,
    "start_time": "2021-06-11T17:33:14.719Z"
   },
   {
    "duration": 1532,
    "start_time": "2021-06-11T17:33:27.917Z"
   },
   {
    "duration": 2202,
    "start_time": "2021-06-11T17:34:12.417Z"
   },
   {
    "duration": 1515,
    "start_time": "2021-06-11T17:34:48.429Z"
   },
   {
    "duration": 1678,
    "start_time": "2021-06-11T17:35:40.656Z"
   },
   {
    "duration": 1511,
    "start_time": "2021-06-11T17:36:21.597Z"
   },
   {
    "duration": 1516,
    "start_time": "2021-06-11T17:38:20.474Z"
   },
   {
    "duration": 1751,
    "start_time": "2021-06-11T17:38:46.270Z"
   },
   {
    "duration": 1567,
    "start_time": "2021-06-11T17:39:11.513Z"
   },
   {
    "duration": 1553,
    "start_time": "2021-06-11T17:39:42.096Z"
   },
   {
    "duration": 1660,
    "start_time": "2021-06-11T17:40:03.442Z"
   },
   {
    "duration": 1552,
    "start_time": "2021-06-11T17:40:36.365Z"
   },
   {
    "duration": 1598,
    "start_time": "2021-06-11T17:40:48.581Z"
   },
   {
    "duration": 1847,
    "start_time": "2021-06-11T17:41:02.999Z"
   },
   {
    "duration": 1562,
    "start_time": "2021-06-11T17:42:28.845Z"
   },
   {
    "duration": 1536,
    "start_time": "2021-06-11T17:43:00.392Z"
   },
   {
    "duration": 629,
    "start_time": "2021-06-11T17:43:42.626Z"
   },
   {
    "duration": 823,
    "start_time": "2021-06-11T17:53:15.407Z"
   },
   {
    "duration": 629,
    "start_time": "2021-06-11T17:53:37.061Z"
   },
   {
    "duration": 647,
    "start_time": "2021-06-11T17:54:04.727Z"
   },
   {
    "duration": 1555,
    "start_time": "2021-06-11T17:57:20.357Z"
   },
   {
    "duration": 1554,
    "start_time": "2021-06-11T17:59:34.594Z"
   },
   {
    "duration": 1760,
    "start_time": "2021-06-11T18:00:24.022Z"
   },
   {
    "duration": 359,
    "start_time": "2021-06-11T18:01:16.717Z"
   },
   {
    "duration": 330,
    "start_time": "2021-06-11T18:01:43.478Z"
   },
   {
    "duration": 1579,
    "start_time": "2021-06-11T18:02:29.925Z"
   },
   {
    "duration": 1563,
    "start_time": "2021-06-11T18:02:54.005Z"
   },
   {
    "duration": 142,
    "start_time": "2021-06-11T18:03:28.575Z"
   },
   {
    "duration": 1820,
    "start_time": "2021-06-11T18:04:58.774Z"
   },
   {
    "duration": 1661,
    "start_time": "2021-06-11T18:05:43.696Z"
   },
   {
    "duration": 1485,
    "start_time": "2021-06-11T18:06:01.733Z"
   },
   {
    "duration": 3050,
    "start_time": "2021-06-11T18:06:45.612Z"
   },
   {
    "duration": 1852,
    "start_time": "2021-06-11T18:09:39.453Z"
   },
   {
    "duration": 5350,
    "start_time": "2021-06-11T18:10:24.365Z"
   },
   {
    "duration": 4913,
    "start_time": "2021-06-11T18:11:12.949Z"
   },
   {
    "duration": 1948,
    "start_time": "2021-06-11T18:11:49.628Z"
   },
   {
    "duration": 1664,
    "start_time": "2021-06-11T18:12:10.554Z"
   },
   {
    "duration": 1668,
    "start_time": "2021-06-11T18:12:26.447Z"
   },
   {
    "duration": 1828,
    "start_time": "2021-06-11T18:13:05.028Z"
   },
   {
    "duration": 4874,
    "start_time": "2021-06-11T18:15:09.421Z"
   },
   {
    "duration": 4886,
    "start_time": "2021-06-11T18:16:20.483Z"
   },
   {
    "duration": 5175,
    "start_time": "2021-06-11T18:17:30.207Z"
   },
   {
    "duration": 4925,
    "start_time": "2021-06-11T18:17:56.821Z"
   },
   {
    "duration": 5604,
    "start_time": "2021-06-11T18:18:19.345Z"
   },
   {
    "duration": 5294,
    "start_time": "2021-06-11T18:18:40.891Z"
   },
   {
    "duration": 5165,
    "start_time": "2021-06-11T18:19:13.797Z"
   },
   {
    "duration": 5046,
    "start_time": "2021-06-11T18:20:01.906Z"
   },
   {
    "duration": 4995,
    "start_time": "2021-06-11T18:20:21.714Z"
   },
   {
    "duration": 4898,
    "start_time": "2021-06-11T18:20:45.023Z"
   },
   {
    "duration": 918,
    "start_time": "2021-06-11T18:29:48.182Z"
   },
   {
    "duration": 648,
    "start_time": "2021-06-11T18:30:12.833Z"
   },
   {
    "duration": 981,
    "start_time": "2021-06-11T18:48:35.092Z"
   },
   {
    "duration": 2018,
    "start_time": "2021-06-11T18:48:52.283Z"
   },
   {
    "duration": 2021,
    "start_time": "2021-06-11T18:50:36.999Z"
   },
   {
    "duration": 1993,
    "start_time": "2021-06-11T18:52:00.611Z"
   },
   {
    "duration": 1773,
    "start_time": "2021-06-11T18:52:18.788Z"
   },
   {
    "duration": 1757,
    "start_time": "2021-06-11T18:52:32.398Z"
   },
   {
    "duration": 1758,
    "start_time": "2021-06-11T18:52:50.434Z"
   },
   {
    "duration": 1757,
    "start_time": "2021-06-11T18:53:16.082Z"
   },
   {
    "duration": 2027,
    "start_time": "2021-06-11T18:53:27.730Z"
   },
   {
    "duration": 1932,
    "start_time": "2021-06-11T18:53:45.347Z"
   },
   {
    "duration": 1974,
    "start_time": "2021-06-11T18:54:29.370Z"
   },
   {
    "duration": 1995,
    "start_time": "2021-06-11T18:55:19.569Z"
   },
   {
    "duration": 1783,
    "start_time": "2021-06-11T18:56:58.904Z"
   },
   {
    "duration": 8585,
    "start_time": "2021-06-11T18:57:33.828Z"
   },
   {
    "duration": -1257,
    "start_time": "2021-06-11T18:58:21.239Z"
   },
   {
    "duration": 220,
    "start_time": "2021-06-11T18:58:43.420Z"
   },
   {
    "duration": 14295,
    "start_time": "2021-06-11T18:58:43.643Z"
   },
   {
    "duration": 2518,
    "start_time": "2021-06-11T18:58:57.940Z"
   },
   {
    "duration": 17138,
    "start_time": "2021-06-11T18:59:00.461Z"
   },
   {
    "duration": 5,
    "start_time": "2021-06-11T18:59:17.601Z"
   },
   {
    "duration": 37,
    "start_time": "2021-06-11T18:59:17.609Z"
   },
   {
    "duration": 11,
    "start_time": "2021-06-11T18:59:17.648Z"
   },
   {
    "duration": 9748,
    "start_time": "2021-06-11T18:59:17.663Z"
   },
   {
    "duration": 47,
    "start_time": "2021-06-11T18:59:27.414Z"
   },
   {
    "duration": 115,
    "start_time": "2021-06-11T18:59:27.463Z"
   },
   {
    "duration": -2527,
    "start_time": "2021-06-11T18:59:30.107Z"
   },
   {
    "duration": -2544,
    "start_time": "2021-06-11T18:59:30.126Z"
   },
   {
    "duration": -2824,
    "start_time": "2021-06-11T18:59:30.407Z"
   },
   {
    "duration": -2847,
    "start_time": "2021-06-11T18:59:30.432Z"
   },
   {
    "duration": -2860,
    "start_time": "2021-06-11T18:59:30.446Z"
   },
   {
    "duration": 32,
    "start_time": "2021-06-11T19:00:48.272Z"
   },
   {
    "duration": 62,
    "start_time": "2021-06-11T19:00:54.354Z"
   },
   {
    "duration": 1160,
    "start_time": "2021-06-11T19:01:02.685Z"
   },
   {
    "duration": 4961,
    "start_time": "2021-06-11T19:01:07.671Z"
   },
   {
    "duration": 43,
    "start_time": "2021-06-11T19:01:26.461Z"
   },
   {
    "duration": 817,
    "start_time": "2021-06-11T19:01:33.838Z"
   },
   {
    "duration": 5022,
    "start_time": "2021-06-11T19:01:40.286Z"
   },
   {
    "duration": 1926,
    "start_time": "2021-06-11T19:01:52.921Z"
   },
   {
    "duration": 1825,
    "start_time": "2021-06-11T19:15:00.564Z"
   },
   {
    "duration": 878,
    "start_time": "2021-06-11T19:45:33.293Z"
   },
   {
    "duration": 883,
    "start_time": "2021-06-11T19:45:53.017Z"
   },
   {
    "duration": 943,
    "start_time": "2021-06-11T19:48:13.554Z"
   },
   {
    "duration": 941,
    "start_time": "2021-06-11T19:57:39.256Z"
   },
   {
    "duration": 1051,
    "start_time": "2021-06-11T20:00:47.451Z"
   },
   {
    "duration": 906,
    "start_time": "2021-06-11T20:01:24.546Z"
   },
   {
    "duration": 1258,
    "start_time": "2021-06-11T20:03:12.286Z"
   },
   {
    "duration": 3833,
    "start_time": "2021-06-11T20:04:49.849Z"
   },
   {
    "duration": 303,
    "start_time": "2021-06-11T20:05:18.479Z"
   },
   {
    "duration": 595,
    "start_time": "2021-06-11T20:05:47.321Z"
   },
   {
    "duration": 126,
    "start_time": "2021-06-11T20:10:10.605Z"
   },
   {
    "duration": 307,
    "start_time": "2021-06-11T20:10:22.722Z"
   },
   {
    "duration": 64,
    "start_time": "2021-06-11T20:18:56.773Z"
   },
   {
    "duration": 35,
    "start_time": "2021-06-11T20:19:11.215Z"
   },
   {
    "duration": 294,
    "start_time": "2021-06-11T20:56:57.475Z"
   },
   {
    "duration": 973,
    "start_time": "2021-06-12T07:17:39.451Z"
   },
   {
    "duration": 13791,
    "start_time": "2021-06-12T07:17:40.427Z"
   },
   {
    "duration": 2531,
    "start_time": "2021-06-12T07:17:54.221Z"
   },
   {
    "duration": 16991,
    "start_time": "2021-06-12T07:17:56.755Z"
   },
   {
    "duration": 5,
    "start_time": "2021-06-12T07:18:13.748Z"
   },
   {
    "duration": 24,
    "start_time": "2021-06-12T07:18:13.756Z"
   },
   {
    "duration": 31,
    "start_time": "2021-06-12T07:18:13.782Z"
   },
   {
    "duration": 10019,
    "start_time": "2021-06-12T07:18:13.817Z"
   },
   {
    "duration": 40,
    "start_time": "2021-06-12T07:18:23.839Z"
   },
   {
    "duration": 106,
    "start_time": "2021-06-12T07:18:23.882Z"
   },
   {
    "duration": -1156,
    "start_time": "2021-06-12T07:18:25.146Z"
   },
   {
    "duration": -1159,
    "start_time": "2021-06-12T07:18:25.150Z"
   },
   {
    "duration": -1160,
    "start_time": "2021-06-12T07:18:25.152Z"
   },
   {
    "duration": -1162,
    "start_time": "2021-06-12T07:18:25.156Z"
   },
   {
    "duration": -1164,
    "start_time": "2021-06-12T07:18:25.159Z"
   },
   {
    "duration": -1167,
    "start_time": "2021-06-12T07:18:25.163Z"
   },
   {
    "duration": 822,
    "start_time": "2021-06-12T07:18:49.226Z"
   },
   {
    "duration": 840,
    "start_time": "2021-06-12T07:19:00.276Z"
   },
   {
    "duration": 878,
    "start_time": "2021-06-12T07:31:43.940Z"
   },
   {
    "duration": 675,
    "start_time": "2021-06-12T08:01:37.858Z"
   },
   {
    "duration": 302,
    "start_time": "2021-06-12T08:01:47.339Z"
   },
   {
    "duration": 422,
    "start_time": "2021-06-12T08:05:37.554Z"
   },
   {
    "duration": 712,
    "start_time": "2021-06-12T08:06:27.700Z"
   },
   {
    "duration": 638,
    "start_time": "2021-06-12T08:08:37.890Z"
   },
   {
    "duration": 125,
    "start_time": "2021-06-12T08:10:17.393Z"
   },
   {
    "duration": 129,
    "start_time": "2021-06-12T08:10:48.684Z"
   },
   {
    "duration": 941,
    "start_time": "2021-06-12T08:11:15.425Z"
   },
   {
    "duration": 828,
    "start_time": "2021-06-12T08:12:03.937Z"
   },
   {
    "duration": 366,
    "start_time": "2021-06-12T08:12:46.339Z"
   },
   {
    "duration": 684,
    "start_time": "2021-06-12T08:13:24.616Z"
   },
   {
    "duration": 775,
    "start_time": "2021-06-12T08:13:47.768Z"
   },
   {
    "duration": 347,
    "start_time": "2021-06-12T08:15:14.073Z"
   },
   {
    "duration": 352,
    "start_time": "2021-06-12T08:15:51.168Z"
   },
   {
    "duration": 706,
    "start_time": "2021-06-12T08:23:51.454Z"
   },
   {
    "duration": 663,
    "start_time": "2021-06-12T08:24:09.388Z"
   },
   {
    "duration": 347,
    "start_time": "2021-06-12T08:24:52.681Z"
   },
   {
    "duration": 709,
    "start_time": "2021-06-12T08:25:42.577Z"
   },
   {
    "duration": 347,
    "start_time": "2021-06-12T08:25:48.184Z"
   },
   {
    "duration": 117,
    "start_time": "2021-06-12T08:27:32.247Z"
   },
   {
    "duration": 340,
    "start_time": "2021-06-12T08:27:39.319Z"
   },
   {
    "duration": 343,
    "start_time": "2021-06-12T08:28:30.014Z"
   },
   {
    "duration": 345,
    "start_time": "2021-06-12T08:28:49.664Z"
   },
   {
    "duration": 451,
    "start_time": "2021-06-12T08:29:02.048Z"
   },
   {
    "duration": 756,
    "start_time": "2021-06-12T08:30:03.342Z"
   },
   {
    "duration": 843,
    "start_time": "2021-06-12T08:30:27.082Z"
   },
   {
    "duration": 336,
    "start_time": "2021-06-12T08:30:44.385Z"
   },
   {
    "duration": 387,
    "start_time": "2021-06-12T08:36:01.917Z"
   },
   {
    "duration": 346,
    "start_time": "2021-06-12T08:38:12.517Z"
   },
   {
    "duration": 656,
    "start_time": "2021-06-12T08:39:59.293Z"
   },
   {
    "duration": 9183,
    "start_time": "2021-06-12T08:40:11.464Z"
   },
   {
    "duration": 8794,
    "start_time": "2021-06-12T08:41:39.914Z"
   },
   {
    "duration": 354,
    "start_time": "2021-06-12T08:42:24.822Z"
   },
   {
    "duration": 623,
    "start_time": "2021-06-12T08:43:42.259Z"
   },
   {
    "duration": 742,
    "start_time": "2021-06-12T08:43:59.791Z"
   },
   {
    "duration": 720,
    "start_time": "2021-06-12T08:44:40.450Z"
   },
   {
    "duration": 349,
    "start_time": "2021-06-12T08:47:19.865Z"
   },
   {
    "duration": 658,
    "start_time": "2021-06-12T08:47:55.118Z"
   },
   {
    "duration": 364,
    "start_time": "2021-06-12T08:48:11.594Z"
   },
   {
    "duration": -958,
    "start_time": "2021-06-12T08:48:38.136Z"
   },
   {
    "duration": 354,
    "start_time": "2021-06-12T08:49:05.044Z"
   },
   {
    "duration": 119,
    "start_time": "2021-06-12T08:52:03.767Z"
   },
   {
    "duration": 134,
    "start_time": "2021-06-12T08:52:14.810Z"
   },
   {
    "duration": 420,
    "start_time": "2021-06-12T08:52:38.777Z"
   },
   {
    "duration": 395,
    "start_time": "2021-06-12T08:52:55.757Z"
   },
   {
    "duration": 389,
    "start_time": "2021-06-12T08:53:13.922Z"
   },
   {
    "duration": 409,
    "start_time": "2021-06-12T08:57:51.821Z"
   },
   {
    "duration": 413,
    "start_time": "2021-06-12T08:59:09.081Z"
   },
   {
    "duration": 336,
    "start_time": "2021-06-12T10:22:41.120Z"
   },
   {
    "duration": 354,
    "start_time": "2021-06-12T10:24:44.183Z"
   },
   {
    "duration": 24,
    "start_time": "2021-06-12T10:24:56.251Z"
   },
   {
    "duration": 1548,
    "start_time": "2021-06-12T10:25:52.285Z"
   },
   {
    "duration": 402,
    "start_time": "2021-06-12T10:37:53.662Z"
   },
   {
    "duration": 31,
    "start_time": "2021-06-12T10:38:15.934Z"
   },
   {
    "duration": 355,
    "start_time": "2021-06-12T10:38:38.545Z"
   },
   {
    "duration": 134,
    "start_time": "2021-06-12T10:39:02.000Z"
   },
   {
    "duration": 4716,
    "start_time": "2021-06-12T10:51:12.139Z"
   },
   {
    "duration": 5092,
    "start_time": "2021-06-12T11:02:23.149Z"
   },
   {
    "duration": 20629,
    "start_time": "2021-06-12T11:03:37.119Z"
   },
   {
    "duration": 21125,
    "start_time": "2021-06-12T11:06:30.199Z"
   },
   {
    "duration": 1289,
    "start_time": "2021-06-12T11:09:07.009Z"
   },
   {
    "duration": 1230,
    "start_time": "2021-06-12T11:09:27.476Z"
   },
   {
    "duration": 11044,
    "start_time": "2021-06-12T11:09:35.785Z"
   },
   {
    "duration": 1244,
    "start_time": "2021-06-12T11:10:22.459Z"
   },
   {
    "duration": 225,
    "start_time": "2021-06-12T11:10:35.357Z"
   },
   {
    "duration": 14483,
    "start_time": "2021-06-12T11:10:35.585Z"
   },
   {
    "duration": 2637,
    "start_time": "2021-06-12T11:10:50.072Z"
   },
   {
    "duration": 18228,
    "start_time": "2021-06-12T11:10:52.712Z"
   },
   {
    "duration": 5,
    "start_time": "2021-06-12T11:11:10.943Z"
   },
   {
    "duration": 30,
    "start_time": "2021-06-12T11:11:10.950Z"
   },
   {
    "duration": 32,
    "start_time": "2021-06-12T11:11:10.982Z"
   },
   {
    "duration": 10437,
    "start_time": "2021-06-12T11:11:11.018Z"
   },
   {
    "duration": 39,
    "start_time": "2021-06-12T11:11:21.457Z"
   },
   {
    "duration": 124,
    "start_time": "2021-06-12T11:11:21.498Z"
   },
   {
    "duration": -1592,
    "start_time": "2021-06-12T11:11:23.217Z"
   },
   {
    "duration": -1901,
    "start_time": "2021-06-12T11:11:23.527Z"
   },
   {
    "duration": -2000,
    "start_time": "2021-06-12T11:11:23.627Z"
   },
   {
    "duration": -2005,
    "start_time": "2021-06-12T11:11:23.633Z"
   },
   {
    "duration": -2008,
    "start_time": "2021-06-12T11:11:23.637Z"
   },
   {
    "duration": -2027,
    "start_time": "2021-06-12T11:11:23.658Z"
   },
   {
    "duration": -2033,
    "start_time": "2021-06-12T11:11:23.665Z"
   },
   {
    "duration": 88,
    "start_time": "2021-06-12T11:12:07.179Z"
   },
   {
    "duration": 930,
    "start_time": "2021-06-12T11:12:19.512Z"
   },
   {
    "duration": 4949,
    "start_time": "2021-06-12T11:12:35.585Z"
   },
   {
    "duration": 575,
    "start_time": "2021-06-12T11:12:40.536Z"
   },
   {
    "duration": 460,
    "start_time": "2021-06-12T11:12:42.198Z"
   },
   {
    "duration": 1194,
    "start_time": "2021-06-12T11:14:13.327Z"
   },
   {
    "duration": 6783,
    "start_time": "2021-06-12T11:14:23.039Z"
   },
   {
    "duration": 1558,
    "start_time": "2021-06-12T11:14:38.727Z"
   },
   {
    "duration": 1550,
    "start_time": "2021-06-12T11:14:51.360Z"
   },
   {
    "duration": 8058,
    "start_time": "2021-06-12T11:15:18.740Z"
   },
   {
    "duration": 7368,
    "start_time": "2021-06-12T11:15:45.466Z"
   },
   {
    "duration": 6951,
    "start_time": "2021-06-12T11:17:20.018Z"
   },
   {
    "duration": 6571,
    "start_time": "2021-06-12T11:17:43.743Z"
   },
   {
    "duration": 6502,
    "start_time": "2021-06-12T11:18:08.534Z"
   },
   {
    "duration": 6821,
    "start_time": "2021-06-12T11:19:34.343Z"
   },
   {
    "duration": 6528,
    "start_time": "2021-06-12T11:20:14.459Z"
   },
   {
    "duration": 6550,
    "start_time": "2021-06-12T11:20:52.288Z"
   },
   {
    "duration": 127,
    "start_time": "2021-06-12T11:22:03.149Z"
   },
   {
    "duration": 1179,
    "start_time": "2021-06-12T11:31:11.523Z"
   },
   {
    "duration": 213,
    "start_time": "2021-06-12T11:39:11.713Z"
   },
   {
    "duration": 14115,
    "start_time": "2021-06-12T11:39:11.929Z"
   },
   {
    "duration": 2600,
    "start_time": "2021-06-12T11:39:26.047Z"
   },
   {
    "duration": 17296,
    "start_time": "2021-06-12T11:39:28.650Z"
   },
   {
    "duration": 6,
    "start_time": "2021-06-12T11:39:45.949Z"
   },
   {
    "duration": 28,
    "start_time": "2021-06-12T11:39:45.957Z"
   },
   {
    "duration": 30,
    "start_time": "2021-06-12T11:39:45.987Z"
   },
   {
    "duration": 10147,
    "start_time": "2021-06-12T11:39:46.021Z"
   },
   {
    "duration": 47,
    "start_time": "2021-06-12T11:39:56.171Z"
   },
   {
    "duration": 117,
    "start_time": "2021-06-12T11:39:56.221Z"
   },
   {
    "duration": -667,
    "start_time": "2021-06-12T11:39:57.007Z"
   },
   {
    "duration": -673,
    "start_time": "2021-06-12T11:39:57.014Z"
   },
   {
    "duration": -689,
    "start_time": "2021-06-12T11:39:57.032Z"
   },
   {
    "duration": -695,
    "start_time": "2021-06-12T11:39:57.039Z"
   },
   {
    "duration": -701,
    "start_time": "2021-06-12T11:39:57.046Z"
   },
   {
    "duration": -709,
    "start_time": "2021-06-12T11:39:57.056Z"
   },
   {
    "duration": -715,
    "start_time": "2021-06-12T11:39:57.063Z"
   },
   {
    "duration": 63,
    "start_time": "2021-06-12T11:40:01.058Z"
   },
   {
    "duration": 822,
    "start_time": "2021-06-12T11:40:07.992Z"
   },
   {
    "duration": 5143,
    "start_time": "2021-06-12T11:40:15.416Z"
   },
   {
    "duration": 602,
    "start_time": "2021-06-12T11:40:20.562Z"
   },
   {
    "duration": 408,
    "start_time": "2021-06-12T11:40:26.643Z"
   },
   {
    "duration": 869,
    "start_time": "2021-06-12T11:40:32.964Z"
   },
   {
    "duration": 1547,
    "start_time": "2021-06-12T11:41:24.259Z"
   },
   {
    "duration": 1474,
    "start_time": "2021-06-12T11:43:31.449Z"
   },
   {
    "duration": 1315,
    "start_time": "2021-06-12T11:43:59.028Z"
   },
   {
    "duration": 966,
    "start_time": "2021-06-12T11:44:12.581Z"
   },
   {
    "duration": 340,
    "start_time": "2021-06-12T11:45:37.641Z"
   },
   {
    "duration": 1194,
    "start_time": "2021-06-12T11:46:07.829Z"
   },
   {
    "duration": 334,
    "start_time": "2021-06-12T11:47:53.605Z"
   },
   {
    "duration": 118,
    "start_time": "2021-06-12T12:03:12.234Z"
   },
   {
    "duration": 117,
    "start_time": "2021-06-12T12:03:42.046Z"
   },
   {
    "duration": 1087,
    "start_time": "2021-06-12T12:04:14.936Z"
   },
   {
    "duration": 1278,
    "start_time": "2021-06-12T12:04:52.897Z"
   },
   {
    "duration": 1080,
    "start_time": "2021-06-12T12:05:12.029Z"
   },
   {
    "duration": 1293,
    "start_time": "2021-06-12T12:05:57.136Z"
   },
   {
    "duration": 338,
    "start_time": "2021-06-12T12:06:26.884Z"
   },
   {
    "duration": 1071,
    "start_time": "2021-06-12T12:06:40.040Z"
   },
   {
    "duration": 431,
    "start_time": "2021-06-12T12:08:35.809Z"
   },
   {
    "duration": 1357,
    "start_time": "2021-06-12T12:09:35.879Z"
   },
   {
    "duration": 949,
    "start_time": "2021-06-12T12:10:06.973Z"
   },
   {
    "duration": 10602,
    "start_time": "2021-06-12T12:11:00.736Z"
   },
   {
    "duration": 11041,
    "start_time": "2021-06-12T12:12:27.509Z"
   },
   {
    "duration": 7888,
    "start_time": "2021-06-12T12:13:16.097Z"
   },
   {
    "duration": 15253,
    "start_time": "2021-06-12T12:13:52.229Z"
   },
   {
    "duration": 15253,
    "start_time": "2021-06-12T12:14:23.959Z"
   },
   {
    "duration": 8060,
    "start_time": "2021-06-12T12:17:42.602Z"
   },
   {
    "duration": 7744,
    "start_time": "2021-06-12T12:18:24.681Z"
   },
   {
    "duration": 225,
    "start_time": "2021-06-12T12:21:57.434Z"
   },
   {
    "duration": 14437,
    "start_time": "2021-06-12T12:21:57.663Z"
   },
   {
    "duration": 2606,
    "start_time": "2021-06-12T12:22:12.103Z"
   },
   {
    "duration": 17198,
    "start_time": "2021-06-12T12:22:14.711Z"
   },
   {
    "duration": 6,
    "start_time": "2021-06-12T12:22:31.911Z"
   },
   {
    "duration": 31,
    "start_time": "2021-06-12T12:22:31.920Z"
   },
   {
    "duration": 12,
    "start_time": "2021-06-12T12:22:31.954Z"
   },
   {
    "duration": 9867,
    "start_time": "2021-06-12T12:22:31.969Z"
   },
   {
    "duration": 39,
    "start_time": "2021-06-12T12:22:41.838Z"
   },
   {
    "duration": 124,
    "start_time": "2021-06-12T12:22:41.879Z"
   },
   {
    "duration": -1251,
    "start_time": "2021-06-12T12:22:43.256Z"
   },
   {
    "duration": -1257,
    "start_time": "2021-06-12T12:22:43.264Z"
   },
   {
    "duration": -1260,
    "start_time": "2021-06-12T12:22:43.268Z"
   },
   {
    "duration": -1262,
    "start_time": "2021-06-12T12:22:43.272Z"
   },
   {
    "duration": -1266,
    "start_time": "2021-06-12T12:22:43.277Z"
   },
   {
    "duration": -1267,
    "start_time": "2021-06-12T12:22:43.280Z"
   },
   {
    "duration": -1270,
    "start_time": "2021-06-12T12:22:43.284Z"
   },
   {
    "duration": 121,
    "start_time": "2021-06-12T12:23:17.963Z"
   },
   {
    "duration": 4,
    "start_time": "2021-06-12T12:23:33.637Z"
   },
   {
    "duration": 64,
    "start_time": "2021-06-12T12:23:43.896Z"
   },
   {
    "duration": 23,
    "start_time": "2021-06-12T12:24:02.075Z"
   },
   {
    "duration": 34,
    "start_time": "2021-06-12T12:24:06.977Z"
   },
   {
    "duration": 865,
    "start_time": "2021-06-12T12:24:20.754Z"
   },
   {
    "duration": 803,
    "start_time": "2021-06-12T12:24:36.271Z"
   },
   {
    "duration": 5286,
    "start_time": "2021-06-12T12:24:44.791Z"
   },
   {
    "duration": 569,
    "start_time": "2021-06-12T12:24:55.009Z"
   },
   {
    "duration": 409,
    "start_time": "2021-06-12T12:24:59.903Z"
   },
   {
    "duration": 8447,
    "start_time": "2021-06-12T12:25:17.135Z"
   },
   {
    "duration": 1504,
    "start_time": "2021-06-12T12:25:44.748Z"
   },
   {
    "duration": 8682,
    "start_time": "2021-06-12T12:25:59.341Z"
   },
   {
    "duration": 14951,
    "start_time": "2021-06-12T12:26:42.153Z"
   },
   {
    "duration": 15334,
    "start_time": "2021-06-12T12:27:51.158Z"
   },
   {
    "duration": 14829,
    "start_time": "2021-06-12T12:29:51.738Z"
   },
   {
    "duration": 14770,
    "start_time": "2021-06-12T12:32:35.783Z"
   },
   {
    "duration": 15181,
    "start_time": "2021-06-12T12:32:51.803Z"
   },
   {
    "duration": 7679,
    "start_time": "2021-06-12T12:34:02.696Z"
   },
   {
    "duration": 1285,
    "start_time": "2021-06-12T12:37:57.065Z"
   },
   {
    "duration": 841,
    "start_time": "2021-06-12T12:38:42.749Z"
   },
   {
    "duration": 887,
    "start_time": "2021-06-12T12:40:16.958Z"
   },
   {
    "duration": 2248,
    "start_time": "2021-06-12T12:41:01.272Z"
   },
   {
    "duration": 1247,
    "start_time": "2021-06-12T12:41:15.993Z"
   },
   {
    "duration": 847,
    "start_time": "2021-06-12T12:41:30.548Z"
   },
   {
    "duration": 2292,
    "start_time": "2021-06-12T12:41:49.707Z"
   },
   {
    "duration": 825,
    "start_time": "2021-06-12T12:42:05.995Z"
   },
   {
    "duration": 9159,
    "start_time": "2021-06-12T12:43:35.111Z"
   },
   {
    "duration": 9588,
    "start_time": "2021-06-12T12:44:09.642Z"
   },
   {
    "duration": 14892,
    "start_time": "2021-06-12T12:46:09.497Z"
   },
   {
    "duration": 10202,
    "start_time": "2021-06-12T12:47:11.899Z"
   },
   {
    "duration": 8605,
    "start_time": "2021-06-12T12:50:40.739Z"
   },
   {
    "duration": 15775,
    "start_time": "2021-06-12T13:36:57.726Z"
   },
   {
    "duration": 15608,
    "start_time": "2021-06-12T13:44:13.860Z"
   },
   {
    "duration": 102,
    "start_time": "2021-06-12T13:48:25.311Z"
   },
   {
    "duration": 120,
    "start_time": "2021-06-12T13:48:37.737Z"
   },
   {
    "duration": 128,
    "start_time": "2021-06-12T13:48:42.165Z"
   },
   {
    "duration": 136,
    "start_time": "2021-06-12T13:49:16.681Z"
   },
   {
    "duration": -209,
    "start_time": "2021-06-12T14:00:38.074Z"
   },
   {
    "duration": 16083,
    "start_time": "2021-06-12T14:00:51.200Z"
   },
   {
    "duration": 15196,
    "start_time": "2021-06-12T14:01:15.047Z"
   },
   {
    "duration": 15886,
    "start_time": "2021-06-12T14:05:05.745Z"
   },
   {
    "duration": 14970,
    "start_time": "2021-06-12T14:05:25.229Z"
   },
   {
    "duration": 15345,
    "start_time": "2021-06-12T14:06:51.696Z"
   },
   {
    "duration": 23957,
    "start_time": "2021-06-12T14:07:48.109Z"
   },
   {
    "duration": 15744,
    "start_time": "2021-06-12T14:10:31.960Z"
   },
   {
    "duration": 16260,
    "start_time": "2021-06-12T14:12:38.355Z"
   },
   {
    "duration": 15595,
    "start_time": "2021-06-12T14:22:18.103Z"
   },
   {
    "duration": 26067,
    "start_time": "2021-06-12T14:23:05.203Z"
   },
   {
    "duration": 16230,
    "start_time": "2021-06-12T14:23:52.924Z"
   },
   {
    "duration": 15909,
    "start_time": "2021-06-12T14:27:33.914Z"
   },
   {
    "duration": 15616,
    "start_time": "2021-06-12T14:28:42.888Z"
   },
   {
    "duration": 16419,
    "start_time": "2021-06-12T14:29:15.555Z"
   },
   {
    "duration": 16838,
    "start_time": "2021-06-12T14:29:46.375Z"
   },
   {
    "duration": 14890,
    "start_time": "2021-06-12T14:30:14.262Z"
   },
   {
    "duration": 15723,
    "start_time": "2021-06-12T14:31:23.828Z"
   },
   {
    "duration": 1009,
    "start_time": "2021-06-12T17:00:00.746Z"
   },
   {
    "duration": 152,
    "start_time": "2021-06-12T17:00:55.277Z"
   },
   {
    "duration": 148,
    "start_time": "2021-06-12T17:00:55.283Z"
   },
   {
    "duration": 146,
    "start_time": "2021-06-12T17:00:55.286Z"
   },
   {
    "duration": 131,
    "start_time": "2021-06-12T17:00:55.302Z"
   },
   {
    "duration": 118,
    "start_time": "2021-06-12T17:00:55.316Z"
   },
   {
    "duration": 112,
    "start_time": "2021-06-12T17:00:55.324Z"
   },
   {
    "duration": 109,
    "start_time": "2021-06-12T17:00:55.328Z"
   },
   {
    "duration": 100,
    "start_time": "2021-06-12T17:00:55.338Z"
   },
   {
    "duration": 89,
    "start_time": "2021-06-12T17:00:55.350Z"
   },
   {
    "duration": 75,
    "start_time": "2021-06-12T17:00:55.366Z"
   },
   {
    "duration": 70,
    "start_time": "2021-06-12T17:00:55.372Z"
   },
   {
    "duration": 66,
    "start_time": "2021-06-12T17:00:55.377Z"
   },
   {
    "duration": -11,
    "start_time": "2021-06-12T17:00:55.455Z"
   },
   {
    "duration": -54,
    "start_time": "2021-06-12T17:00:55.500Z"
   },
   {
    "duration": -57,
    "start_time": "2021-06-12T17:00:55.504Z"
   },
   {
    "duration": -59,
    "start_time": "2021-06-12T17:00:55.508Z"
   },
   {
    "duration": -61,
    "start_time": "2021-06-12T17:00:55.511Z"
   },
   {
    "duration": 222,
    "start_time": "2021-06-12T17:01:06.290Z"
   },
   {
    "duration": 14206,
    "start_time": "2021-06-12T17:01:13.274Z"
   },
   {
    "duration": 2668,
    "start_time": "2021-06-12T17:01:27.482Z"
   },
   {
    "duration": 17333,
    "start_time": "2021-06-12T17:01:30.153Z"
   },
   {
    "duration": 6,
    "start_time": "2021-06-12T17:01:47.488Z"
   },
   {
    "duration": 35,
    "start_time": "2021-06-12T17:01:47.496Z"
   },
   {
    "duration": 11,
    "start_time": "2021-06-12T17:01:47.534Z"
   },
   {
    "duration": 9682,
    "start_time": "2021-06-12T17:01:47.548Z"
   },
   {
    "duration": 39,
    "start_time": "2021-06-12T17:01:57.232Z"
   },
   {
    "duration": 54,
    "start_time": "2021-06-12T17:01:57.273Z"
   },
   {
    "duration": 31,
    "start_time": "2021-06-12T17:01:57.330Z"
   },
   {
    "duration": 9908,
    "start_time": "2021-06-12T17:01:57.363Z"
   },
   {
    "duration": 149,
    "start_time": "2021-06-12T17:02:07.126Z"
   },
   {
    "duration": 146,
    "start_time": "2021-06-12T17:02:07.132Z"
   },
   {
    "duration": 144,
    "start_time": "2021-06-12T17:02:07.136Z"
   },
   {
    "duration": 141,
    "start_time": "2021-06-12T17:02:07.141Z"
   },
   {
    "duration": 139,
    "start_time": "2021-06-12T17:02:07.145Z"
   },
   {
    "duration": 855,
    "start_time": "2021-06-12T17:02:53.884Z"
   },
   {
    "duration": 4818,
    "start_time": "2021-06-12T17:02:58.160Z"
   },
   {
    "duration": 691,
    "start_time": "2021-06-12T17:03:03.982Z"
   },
   {
    "duration": 456,
    "start_time": "2021-06-12T17:03:04.676Z"
   },
   {
    "duration": 996,
    "start_time": "2021-06-12T17:15:43.700Z"
   },
   {
    "duration": 14113,
    "start_time": "2021-06-12T17:15:44.708Z"
   },
   {
    "duration": 2507,
    "start_time": "2021-06-12T17:15:58.824Z"
   },
   {
    "duration": 17600,
    "start_time": "2021-06-12T17:16:01.334Z"
   },
   {
    "duration": 6,
    "start_time": "2021-06-12T17:16:18.937Z"
   },
   {
    "duration": 33,
    "start_time": "2021-06-12T17:16:18.945Z"
   },
   {
    "duration": 9750,
    "start_time": "2021-06-12T17:16:18.980Z"
   },
   {
    "duration": 10,
    "start_time": "2021-06-12T17:16:28.734Z"
   },
   {
    "duration": 41,
    "start_time": "2021-06-12T17:16:28.747Z"
   },
   {
    "duration": 857,
    "start_time": "2021-06-12T17:16:28.790Z"
   },
   {
    "duration": 5042,
    "start_time": "2021-06-12T17:16:29.650Z"
   },
   {
    "duration": 590,
    "start_time": "2021-06-12T17:16:34.694Z"
   },
   {
    "duration": 448,
    "start_time": "2021-06-12T17:16:35.286Z"
   },
   {
    "duration": 34,
    "start_time": "2021-06-12T17:16:35.737Z"
   },
   {
    "duration": 704,
    "start_time": "2021-06-12T17:16:35.774Z"
   },
   {
    "duration": 282,
    "start_time": "2021-06-12T17:16:36.199Z"
   },
   {
    "duration": 14048,
    "start_time": "2021-06-12T17:18:24.109Z"
   },
   {
    "duration": 1078,
    "start_time": "2021-06-12T17:22:37.147Z"
   },
   {
    "duration": 1135,
    "start_time": "2021-06-12T17:26:33.564Z"
   },
   {
    "duration": 13816,
    "start_time": "2021-06-12T17:26:34.708Z"
   },
   {
    "duration": 2502,
    "start_time": "2021-06-12T17:26:48.527Z"
   },
   {
    "duration": 17205,
    "start_time": "2021-06-12T17:26:51.031Z"
   },
   {
    "duration": 5,
    "start_time": "2021-06-12T17:27:08.239Z"
   },
   {
    "duration": 29,
    "start_time": "2021-06-12T17:27:08.247Z"
   },
   {
    "duration": 9673,
    "start_time": "2021-06-12T17:27:08.278Z"
   },
   {
    "duration": 11,
    "start_time": "2021-06-12T17:27:17.954Z"
   },
   {
    "duration": 58,
    "start_time": "2021-06-12T17:27:17.967Z"
   },
   {
    "duration": 858,
    "start_time": "2021-06-12T17:27:18.028Z"
   },
   {
    "duration": 4755,
    "start_time": "2021-06-12T17:27:18.888Z"
   },
   {
    "duration": 713,
    "start_time": "2021-06-12T17:27:23.645Z"
   },
   {
    "duration": 412,
    "start_time": "2021-06-12T17:27:24.361Z"
   },
   {
    "duration": 52,
    "start_time": "2021-06-12T17:27:24.775Z"
   },
   {
    "duration": 625,
    "start_time": "2021-06-12T17:27:24.830Z"
   },
   {
    "duration": 207,
    "start_time": "2021-06-12T17:27:25.252Z"
   },
   {
    "duration": 1066,
    "start_time": "2021-06-12T17:30:43.046Z"
   },
   {
    "duration": 14261,
    "start_time": "2021-06-12T17:30:44.115Z"
   },
   {
    "duration": 2744,
    "start_time": "2021-06-12T17:30:58.379Z"
   },
   {
    "duration": 18054,
    "start_time": "2021-06-12T17:31:01.126Z"
   },
   {
    "duration": 5,
    "start_time": "2021-06-12T17:31:19.183Z"
   },
   {
    "duration": 45,
    "start_time": "2021-06-12T17:31:19.190Z"
   },
   {
    "duration": 10363,
    "start_time": "2021-06-12T17:31:19.237Z"
   },
   {
    "duration": 12,
    "start_time": "2021-06-12T17:31:29.604Z"
   },
   {
    "duration": 45,
    "start_time": "2021-06-12T17:31:29.619Z"
   },
   {
    "duration": 845,
    "start_time": "2021-06-12T17:31:29.666Z"
   },
   {
    "duration": 5091,
    "start_time": "2021-06-12T17:31:30.513Z"
   },
   {
    "duration": 599,
    "start_time": "2021-06-12T17:31:35.607Z"
   },
   {
    "duration": 421,
    "start_time": "2021-06-12T17:31:36.209Z"
   },
   {
    "duration": 34,
    "start_time": "2021-06-12T17:31:36.633Z"
   },
   {
    "duration": 1120,
    "start_time": "2021-06-12T17:40:24.533Z"
   },
   {
    "duration": 14192,
    "start_time": "2021-06-12T17:40:25.656Z"
   },
   {
    "duration": 2512,
    "start_time": "2021-06-12T17:40:39.851Z"
   },
   {
    "duration": 16926,
    "start_time": "2021-06-12T17:40:42.365Z"
   },
   {
    "duration": 17,
    "start_time": "2021-06-12T17:40:59.294Z"
   },
   {
    "duration": 34,
    "start_time": "2021-06-12T17:40:59.313Z"
   },
   {
    "duration": 10703,
    "start_time": "2021-06-12T17:40:59.351Z"
   },
   {
    "duration": 11,
    "start_time": "2021-06-12T17:41:10.057Z"
   },
   {
    "duration": 51,
    "start_time": "2021-06-12T17:41:10.070Z"
   },
   {
    "duration": 859,
    "start_time": "2021-06-12T17:41:10.123Z"
   },
   {
    "duration": 5070,
    "start_time": "2021-06-12T17:41:10.984Z"
   },
   {
    "duration": 593,
    "start_time": "2021-06-12T17:41:16.056Z"
   },
   {
    "duration": 425,
    "start_time": "2021-06-12T17:41:16.652Z"
   },
   {
    "duration": 51,
    "start_time": "2021-06-12T17:41:17.080Z"
   },
   {
    "duration": 1126,
    "start_time": "2021-06-12T17:43:20.983Z"
   },
   {
    "duration": 14129,
    "start_time": "2021-06-12T17:43:22.112Z"
   },
   {
    "duration": 2751,
    "start_time": "2021-06-12T17:43:36.245Z"
   },
   {
    "duration": 17083,
    "start_time": "2021-06-12T17:43:38.999Z"
   },
   {
    "duration": 7,
    "start_time": "2021-06-12T17:43:56.085Z"
   },
   {
    "duration": 26,
    "start_time": "2021-06-12T17:43:56.110Z"
   },
   {
    "duration": 10183,
    "start_time": "2021-06-12T17:43:56.139Z"
   },
   {
    "duration": 12,
    "start_time": "2021-06-12T17:44:06.326Z"
   },
   {
    "duration": 43,
    "start_time": "2021-06-12T17:44:06.341Z"
   },
   {
    "duration": 874,
    "start_time": "2021-06-12T17:44:06.387Z"
   },
   {
    "duration": 5085,
    "start_time": "2021-06-12T17:44:07.263Z"
   },
   {
    "duration": 586,
    "start_time": "2021-06-12T17:44:12.350Z"
   },
   {
    "duration": 425,
    "start_time": "2021-06-12T17:44:12.939Z"
   },
   {
    "duration": 16,
    "start_time": "2021-06-12T17:44:13.367Z"
   },
   {
    "duration": 9271,
    "start_time": "2021-06-12T17:44:13.386Z"
   },
   {
    "duration": 8405,
    "start_time": "2021-06-12T17:50:58.360Z"
   },
   {
    "duration": 401,
    "start_time": "2021-06-12T17:55:01.784Z"
   },
   {
    "duration": 2418,
    "start_time": "2021-06-12T17:56:33.742Z"
   },
   {
    "duration": 351,
    "start_time": "2021-06-12T17:58:17.118Z"
   },
   {
    "duration": 330,
    "start_time": "2021-06-12T17:59:11.765Z"
   },
   {
    "duration": 366,
    "start_time": "2021-06-12T17:59:25.328Z"
   },
   {
    "duration": 348,
    "start_time": "2021-06-12T17:59:35.610Z"
   },
   {
    "duration": 368,
    "start_time": "2021-06-12T18:00:08.627Z"
   },
   {
    "duration": 358,
    "start_time": "2021-06-12T18:00:50.962Z"
   },
   {
    "duration": 187,
    "start_time": "2021-06-12T18:02:59.458Z"
   },
   {
    "duration": 345,
    "start_time": "2021-06-12T18:06:15.371Z"
   },
   {
    "duration": 329,
    "start_time": "2021-06-12T18:12:03.236Z"
   },
   {
    "duration": 345,
    "start_time": "2021-06-12T18:12:17.785Z"
   },
   {
    "duration": 611,
    "start_time": "2021-06-12T18:12:33.124Z"
   },
   {
    "duration": 453,
    "start_time": "2021-06-12T18:12:43.558Z"
   },
   {
    "duration": 333,
    "start_time": "2021-06-12T18:14:20.649Z"
   },
   {
    "duration": 136,
    "start_time": "2021-06-12T18:15:16.336Z"
   },
   {
    "duration": 126,
    "start_time": "2021-06-12T18:15:24.547Z"
   },
   {
    "duration": 389,
    "start_time": "2021-06-12T18:15:43.297Z"
   },
   {
    "duration": 388,
    "start_time": "2021-06-12T18:17:02.931Z"
   },
   {
    "duration": 119,
    "start_time": "2021-06-12T18:21:23.557Z"
   },
   {
    "duration": 120,
    "start_time": "2021-06-12T18:21:36.823Z"
   },
   {
    "duration": 116,
    "start_time": "2021-06-12T18:22:04.179Z"
   },
   {
    "duration": 167,
    "start_time": "2021-06-12T18:22:19.275Z"
   },
   {
    "duration": 330,
    "start_time": "2021-06-12T18:24:11.375Z"
   },
   {
    "duration": 643,
    "start_time": "2021-06-12T18:24:28.260Z"
   },
   {
    "duration": 591,
    "start_time": "2021-06-12T18:24:39.628Z"
   },
   {
    "duration": 336,
    "start_time": "2021-06-12T18:25:22.058Z"
   },
   {
    "duration": 350,
    "start_time": "2021-06-12T18:25:38.684Z"
   },
   {
    "duration": 8161,
    "start_time": "2021-06-12T18:26:49.274Z"
   },
   {
    "duration": 8860,
    "start_time": "2021-06-12T18:29:43.913Z"
   },
   {
    "duration": 10615,
    "start_time": "2021-06-12T18:29:55.134Z"
   },
   {
    "duration": 14,
    "start_time": "2021-06-12T18:35:25.151Z"
   },
   {
    "duration": 14,
    "start_time": "2021-06-12T18:35:35.954Z"
   },
   {
    "duration": 9417,
    "start_time": "2021-06-12T18:35:51.078Z"
   },
   {
    "duration": 51,
    "start_time": "2021-06-12T18:39:15.674Z"
   },
   {
    "duration": 379,
    "start_time": "2021-06-12T18:40:00.851Z"
   },
   {
    "duration": 46,
    "start_time": "2021-06-12T18:40:24.918Z"
   },
   {
    "duration": 29,
    "start_time": "2021-06-12T18:41:39.914Z"
   },
   {
    "duration": 29,
    "start_time": "2021-06-12T18:41:58.577Z"
   },
   {
    "duration": 395,
    "start_time": "2021-06-12T18:43:20.549Z"
   },
   {
    "duration": 455,
    "start_time": "2021-06-12T18:47:03.575Z"
   },
   {
    "duration": 436,
    "start_time": "2021-06-12T18:47:39.492Z"
   },
   {
    "duration": 38,
    "start_time": "2021-06-12T18:47:47.013Z"
   },
   {
    "duration": 37,
    "start_time": "2021-06-12T18:49:36.193Z"
   },
   {
    "duration": 9,
    "start_time": "2021-06-12T18:51:58.029Z"
   },
   {
    "duration": 8,
    "start_time": "2021-06-12T18:52:11.690Z"
   },
   {
    "duration": 10,
    "start_time": "2021-06-12T18:52:59.810Z"
   },
   {
    "duration": 8,
    "start_time": "2021-06-12T18:53:19.314Z"
   },
   {
    "duration": 553,
    "start_time": "2021-06-12T18:59:38.597Z"
   },
   {
    "duration": 291,
    "start_time": "2021-06-12T18:59:52.159Z"
   },
   {
    "duration": 8373,
    "start_time": "2021-06-12T19:04:24.357Z"
   },
   {
    "duration": 298,
    "start_time": "2021-06-12T19:13:01.033Z"
   },
   {
    "duration": 7,
    "start_time": "2021-06-12T19:13:13.135Z"
   },
   {
    "duration": 7,
    "start_time": "2021-06-12T19:13:28.038Z"
   },
   {
    "duration": 159,
    "start_time": "2021-06-12T19:16:05.139Z"
   },
   {
    "duration": 114,
    "start_time": "2021-06-12T19:16:18.764Z"
   },
   {
    "duration": 127,
    "start_time": "2021-06-12T19:16:41.171Z"
   },
   {
    "duration": 17,
    "start_time": "2021-06-12T19:17:17.519Z"
   },
   {
    "duration": 12,
    "start_time": "2021-06-12T19:17:23.200Z"
   },
   {
    "duration": 116,
    "start_time": "2021-06-12T19:19:54.921Z"
   },
   {
    "duration": 11,
    "start_time": "2021-06-12T19:20:00.853Z"
   },
   {
    "duration": 11,
    "start_time": "2021-06-12T19:20:06.957Z"
   },
   {
    "duration": 454,
    "start_time": "2021-06-12T19:20:20.299Z"
   },
   {
    "duration": 126,
    "start_time": "2021-06-12T19:20:35.320Z"
   },
   {
    "duration": 351,
    "start_time": "2021-06-12T19:20:39.607Z"
   },
   {
    "duration": 7,
    "start_time": "2021-06-12T19:20:57.256Z"
   },
   {
    "duration": 16806,
    "start_time": "2021-06-12T19:25:09.728Z"
   },
   {
    "duration": 7,
    "start_time": "2021-06-12T19:25:26.538Z"
   },
   {
    "duration": 17104,
    "start_time": "2021-06-12T19:25:34.131Z"
   },
   {
    "duration": 31,
    "start_time": "2021-06-12T19:34:25.936Z"
   },
   {
    "duration": 127,
    "start_time": "2021-06-12T19:35:44.433Z"
   },
   {
    "duration": 29,
    "start_time": "2021-06-12T19:37:23.682Z"
   },
   {
    "duration": 31,
    "start_time": "2021-06-12T19:37:46.280Z"
   },
   {
    "duration": 365,
    "start_time": "2021-06-12T19:45:25.142Z"
   },
   {
    "duration": 6,
    "start_time": "2021-06-12T19:49:21.501Z"
   },
   {
    "duration": 340,
    "start_time": "2021-06-12T19:52:34.017Z"
   },
   {
    "duration": 262,
    "start_time": "2021-06-12T19:52:50.701Z"
   },
   {
    "duration": 246,
    "start_time": "2021-06-12T19:56:40.494Z"
   },
   {
    "duration": 14,
    "start_time": "2021-06-12T19:56:56.655Z"
   },
   {
    "duration": 15,
    "start_time": "2021-06-12T20:01:54.751Z"
   },
   {
    "duration": 12,
    "start_time": "2021-06-12T20:02:31.490Z"
   },
   {
    "duration": 13,
    "start_time": "2021-06-12T20:02:45.775Z"
   },
   {
    "duration": 13,
    "start_time": "2021-06-12T20:03:11.308Z"
   },
   {
    "duration": 14,
    "start_time": "2021-06-12T20:03:23.876Z"
   },
   {
    "duration": 36,
    "start_time": "2021-06-12T20:30:58.014Z"
   },
   {
    "duration": 39,
    "start_time": "2021-06-12T20:31:14.599Z"
   },
   {
    "duration": 390,
    "start_time": "2021-06-12T20:31:53.384Z"
   },
   {
    "duration": 39,
    "start_time": "2021-06-12T20:32:23.192Z"
   },
   {
    "duration": 26,
    "start_time": "2021-06-12T20:32:27.963Z"
   },
   {
    "duration": 20,
    "start_time": "2021-06-12T20:32:36.518Z"
   },
   {
    "duration": 21,
    "start_time": "2021-06-12T20:34:29.364Z"
   },
   {
    "duration": 26,
    "start_time": "2021-06-12T20:34:45.155Z"
   },
   {
    "duration": 26,
    "start_time": "2021-06-12T20:41:23.959Z"
   },
   {
    "duration": 20,
    "start_time": "2021-06-12T20:46:48.648Z"
   },
   {
    "duration": 2250,
    "start_time": "2021-06-12T20:47:18.494Z"
   },
   {
    "duration": 22,
    "start_time": "2021-06-12T20:47:47.734Z"
   },
   {
    "duration": 387,
    "start_time": "2021-06-12T20:53:51.209Z"
   },
   {
    "duration": 403,
    "start_time": "2021-06-12T20:54:33.758Z"
   },
   {
    "duration": 427,
    "start_time": "2021-06-12T20:55:20.005Z"
   },
   {
    "duration": 404,
    "start_time": "2021-06-12T20:56:30.265Z"
   },
   {
    "duration": 387,
    "start_time": "2021-06-12T20:56:40.964Z"
   },
   {
    "duration": 386,
    "start_time": "2021-06-12T20:56:56.614Z"
   },
   {
    "duration": 387,
    "start_time": "2021-06-12T20:58:05.327Z"
   },
   {
    "duration": 335,
    "start_time": "2021-06-12T20:58:32.092Z"
   },
   {
    "duration": 366,
    "start_time": "2021-06-12T20:58:54.751Z"
   },
   {
    "duration": 368,
    "start_time": "2021-06-12T20:59:16.916Z"
   },
   {
    "duration": 330,
    "start_time": "2021-06-12T21:00:25.711Z"
   },
   {
    "duration": 356,
    "start_time": "2021-06-12T21:00:52.487Z"
   },
   {
    "duration": 352,
    "start_time": "2021-06-12T21:01:50.206Z"
   },
   {
    "duration": 399,
    "start_time": "2021-06-12T21:04:04.894Z"
   },
   {
    "duration": 53,
    "start_time": "2021-06-12T21:04:22.987Z"
   },
   {
    "duration": 50,
    "start_time": "2021-06-12T21:05:13.093Z"
   },
   {
    "duration": 357,
    "start_time": "2021-06-12T21:06:55.368Z"
   },
   {
    "duration": 59,
    "start_time": "2021-06-12T21:15:46.009Z"
   },
   {
    "duration": 58,
    "start_time": "2021-06-12T21:16:04.070Z"
   },
   {
    "duration": 56,
    "start_time": "2021-06-12T21:16:40.421Z"
   },
   {
    "duration": 74,
    "start_time": "2021-06-12T21:18:37.872Z"
   },
   {
    "duration": 385,
    "start_time": "2021-06-12T21:20:46.353Z"
   },
   {
    "duration": 318,
    "start_time": "2021-06-12T21:24:27.645Z"
   },
   {
    "duration": 74,
    "start_time": "2021-06-12T21:24:42.131Z"
   },
   {
    "duration": 419,
    "start_time": "2021-06-12T21:25:21.715Z"
   },
   {
    "duration": 74,
    "start_time": "2021-06-12T21:25:56.203Z"
   },
   {
    "duration": 77,
    "start_time": "2021-06-12T21:28:43.541Z"
   },
   {
    "duration": 77,
    "start_time": "2021-06-12T21:29:04.611Z"
   },
   {
    "duration": 80,
    "start_time": "2021-06-12T21:30:31.099Z"
   },
   {
    "duration": 369,
    "start_time": "2021-06-12T21:32:25.866Z"
   },
   {
    "duration": 76,
    "start_time": "2021-06-12T21:32:57.619Z"
   },
   {
    "duration": 94,
    "start_time": "2021-06-12T21:34:00.093Z"
   },
   {
    "duration": 85,
    "start_time": "2021-06-12T21:34:47.629Z"
   },
   {
    "duration": 79,
    "start_time": "2021-06-12T21:35:48.478Z"
   },
   {
    "duration": 78,
    "start_time": "2021-06-12T21:36:33.119Z"
   },
   {
    "duration": 401,
    "start_time": "2021-06-12T21:39:49.890Z"
   },
   {
    "duration": 462,
    "start_time": "2021-06-12T21:40:26.964Z"
   },
   {
    "duration": 78,
    "start_time": "2021-06-12T21:40:42.689Z"
   },
   {
    "duration": 75,
    "start_time": "2021-06-12T21:41:05.042Z"
   },
   {
    "duration": 419,
    "start_time": "2021-06-12T21:41:53.984Z"
   },
   {
    "duration": 368,
    "start_time": "2021-06-13T06:07:32.016Z"
   },
   {
    "duration": 316,
    "start_time": "2021-06-13T06:07:51.964Z"
   },
   {
    "duration": 319,
    "start_time": "2021-06-13T06:08:04.761Z"
   },
   {
    "duration": 294,
    "start_time": "2021-06-13T06:08:40.961Z"
   },
   {
    "duration": 454,
    "start_time": "2021-06-13T06:29:54.040Z"
   },
   {
    "duration": 1273,
    "start_time": "2021-06-13T06:30:00.881Z"
   },
   {
    "duration": 14267,
    "start_time": "2021-06-13T06:30:02.157Z"
   },
   {
    "duration": 2625,
    "start_time": "2021-06-13T06:30:16.427Z"
   },
   {
    "duration": 17013,
    "start_time": "2021-06-13T06:30:19.056Z"
   },
   {
    "duration": 17,
    "start_time": "2021-06-13T06:30:36.071Z"
   },
   {
    "duration": 28,
    "start_time": "2021-06-13T06:30:36.091Z"
   },
   {
    "duration": 9478,
    "start_time": "2021-06-13T06:30:36.122Z"
   },
   {
    "duration": 10,
    "start_time": "2021-06-13T06:30:45.604Z"
   },
   {
    "duration": 36,
    "start_time": "2021-06-13T06:30:45.617Z"
   },
   {
    "duration": 849,
    "start_time": "2021-06-13T06:30:45.656Z"
   },
   {
    "duration": 4727,
    "start_time": "2021-06-13T06:30:46.508Z"
   },
   {
    "duration": 551,
    "start_time": "2021-06-13T06:30:51.238Z"
   },
   {
    "duration": 414,
    "start_time": "2021-06-13T06:30:51.792Z"
   },
   {
    "duration": 15,
    "start_time": "2021-06-13T06:30:52.209Z"
   },
   {
    "duration": 345,
    "start_time": "2021-06-13T06:30:52.226Z"
   },
   {
    "duration": 435,
    "start_time": "2021-06-13T06:30:52.574Z"
   },
   {
    "duration": -214,
    "start_time": "2021-06-13T06:30:53.225Z"
   },
   {
    "duration": -231,
    "start_time": "2021-06-13T06:30:53.243Z"
   },
   {
    "duration": -237,
    "start_time": "2021-06-13T06:30:53.251Z"
   },
   {
    "duration": 1950,
    "start_time": "2021-06-13T06:31:44.881Z"
   },
   {
    "duration": 382,
    "start_time": "2021-06-13T06:32:07.202Z"
   },
   {
    "duration": 19,
    "start_time": "2021-06-13T06:32:30.561Z"
   },
   {
    "duration": 17,
    "start_time": "2021-06-13T06:32:41.566Z"
   },
   {
    "duration": 21,
    "start_time": "2021-06-13T06:33:40.310Z"
   },
   {
    "duration": 22,
    "start_time": "2021-06-13T06:33:50.246Z"
   },
   {
    "duration": 22,
    "start_time": "2021-06-13T06:34:00.592Z"
   },
   {
    "duration": 22,
    "start_time": "2021-06-13T06:34:24.015Z"
   },
   {
    "duration": 20,
    "start_time": "2021-06-13T06:34:56.452Z"
   },
   {
    "duration": 159,
    "start_time": "2021-06-13T06:36:32.512Z"
   },
   {
    "duration": 18,
    "start_time": "2021-06-13T06:36:59.019Z"
   },
   {
    "duration": 20,
    "start_time": "2021-06-13T06:37:23.011Z"
   },
   {
    "duration": 33,
    "start_time": "2021-06-13T06:44:54.014Z"
   },
   {
    "duration": 120,
    "start_time": "2021-06-13T06:45:50.706Z"
   },
   {
    "duration": 24,
    "start_time": "2021-06-13T06:46:00.004Z"
   },
   {
    "duration": 24,
    "start_time": "2021-06-13T06:46:14.875Z"
   },
   {
    "duration": 23,
    "start_time": "2021-06-13T06:46:23.717Z"
   },
   {
    "duration": 112,
    "start_time": "2021-06-13T06:47:21.069Z"
   },
   {
    "duration": 106,
    "start_time": "2021-06-13T06:47:37.864Z"
   },
   {
    "duration": 7808,
    "start_time": "2021-06-13T06:49:08.941Z"
   },
   {
    "duration": 29,
    "start_time": "2021-06-13T06:49:41.531Z"
   },
   {
    "duration": 23,
    "start_time": "2021-06-13T06:51:00.713Z"
   },
   {
    "duration": 24,
    "start_time": "2021-06-13T06:51:23.756Z"
   },
   {
    "duration": 7917,
    "start_time": "2021-06-13T07:33:22.830Z"
   },
   {
    "duration": 8391,
    "start_time": "2021-06-13T07:33:41.371Z"
   },
   {
    "duration": 120,
    "start_time": "2021-06-13T07:37:11.739Z"
   },
   {
    "duration": 8730,
    "start_time": "2021-06-13T07:37:37.211Z"
   },
   {
    "duration": 116,
    "start_time": "2021-06-13T07:39:55.483Z"
   },
   {
    "duration": 110,
    "start_time": "2021-06-13T07:40:04.158Z"
   },
   {
    "duration": 24,
    "start_time": "2021-06-13T07:40:26.652Z"
   },
   {
    "duration": 10642,
    "start_time": "2021-06-13T07:43:38.458Z"
   },
   {
    "duration": 7318,
    "start_time": "2021-06-13T07:43:53.879Z"
   },
   {
    "duration": 7517,
    "start_time": "2021-06-13T07:44:12.373Z"
   },
   {
    "duration": 22,
    "start_time": "2021-06-13T07:45:24.545Z"
   },
   {
    "duration": 22,
    "start_time": "2021-06-13T07:46:01.283Z"
   },
   {
    "duration": 121,
    "start_time": "2021-06-13T07:47:21.346Z"
   },
   {
    "duration": 21,
    "start_time": "2021-06-13T07:47:53.810Z"
   },
   {
    "duration": 20,
    "start_time": "2021-06-13T07:48:09.569Z"
   },
   {
    "duration": 19,
    "start_time": "2021-06-13T07:48:53.365Z"
   },
   {
    "duration": 7516,
    "start_time": "2021-06-13T07:49:15.262Z"
   },
   {
    "duration": 331,
    "start_time": "2021-06-13T07:50:01.793Z"
   },
   {
    "duration": 319,
    "start_time": "2021-06-13T08:03:16.791Z"
   },
   {
    "duration": 14,
    "start_time": "2021-06-13T08:03:19.784Z"
   },
   {
    "duration": 18205,
    "start_time": "2021-06-13T08:03:22.191Z"
   },
   {
    "duration": 1025,
    "start_time": "2021-06-13T09:10:14.236Z"
   },
   {
    "duration": 442,
    "start_time": "2021-06-13T09:10:15.264Z"
   },
   {
    "duration": -63,
    "start_time": "2021-06-13T09:10:15.772Z"
   },
   {
    "duration": -67,
    "start_time": "2021-06-13T09:10:15.778Z"
   },
   {
    "duration": -72,
    "start_time": "2021-06-13T09:10:15.784Z"
   },
   {
    "duration": -74,
    "start_time": "2021-06-13T09:10:15.788Z"
   },
   {
    "duration": -77,
    "start_time": "2021-06-13T09:10:15.792Z"
   },
   {
    "duration": -78,
    "start_time": "2021-06-13T09:10:15.795Z"
   },
   {
    "duration": -81,
    "start_time": "2021-06-13T09:10:15.799Z"
   },
   {
    "duration": -86,
    "start_time": "2021-06-13T09:10:15.806Z"
   },
   {
    "duration": -89,
    "start_time": "2021-06-13T09:10:15.810Z"
   },
   {
    "duration": -91,
    "start_time": "2021-06-13T09:10:15.814Z"
   },
   {
    "duration": -95,
    "start_time": "2021-06-13T09:10:15.819Z"
   },
   {
    "duration": -98,
    "start_time": "2021-06-13T09:10:15.823Z"
   },
   {
    "duration": -113,
    "start_time": "2021-06-13T09:10:15.839Z"
   },
   {
    "duration": -117,
    "start_time": "2021-06-13T09:10:15.845Z"
   },
   {
    "duration": -120,
    "start_time": "2021-06-13T09:10:15.849Z"
   },
   {
    "duration": -121,
    "start_time": "2021-06-13T09:10:15.852Z"
   },
   {
    "duration": -124,
    "start_time": "2021-06-13T09:10:15.856Z"
   },
   {
    "duration": 221,
    "start_time": "2021-06-13T09:10:57.185Z"
   },
   {
    "duration": 355,
    "start_time": "2021-06-13T09:10:57.409Z"
   },
   {
    "duration": -888,
    "start_time": "2021-06-13T09:10:58.655Z"
   },
   {
    "duration": -893,
    "start_time": "2021-06-13T09:10:58.662Z"
   },
   {
    "duration": -895,
    "start_time": "2021-06-13T09:10:58.665Z"
   },
   {
    "duration": -897,
    "start_time": "2021-06-13T09:10:58.669Z"
   },
   {
    "duration": -899,
    "start_time": "2021-06-13T09:10:58.672Z"
   },
   {
    "duration": -901,
    "start_time": "2021-06-13T09:10:58.675Z"
   },
   {
    "duration": -903,
    "start_time": "2021-06-13T09:10:58.679Z"
   },
   {
    "duration": -906,
    "start_time": "2021-06-13T09:10:58.683Z"
   },
   {
    "duration": -907,
    "start_time": "2021-06-13T09:10:58.686Z"
   },
   {
    "duration": -909,
    "start_time": "2021-06-13T09:10:58.689Z"
   },
   {
    "duration": -911,
    "start_time": "2021-06-13T09:10:58.692Z"
   },
   {
    "duration": -913,
    "start_time": "2021-06-13T09:10:58.696Z"
   },
   {
    "duration": -915,
    "start_time": "2021-06-13T09:10:58.699Z"
   },
   {
    "duration": -919,
    "start_time": "2021-06-13T09:10:58.705Z"
   },
   {
    "duration": -921,
    "start_time": "2021-06-13T09:10:58.708Z"
   },
   {
    "duration": -924,
    "start_time": "2021-06-13T09:10:58.712Z"
   },
   {
    "duration": -925,
    "start_time": "2021-06-13T09:10:58.715Z"
   },
   {
    "duration": 217,
    "start_time": "2021-06-13T09:11:09.247Z"
   },
   {
    "duration": 333,
    "start_time": "2021-06-13T09:11:17.527Z"
   },
   {
    "duration": 15116,
    "start_time": "2021-06-13T09:11:54.432Z"
   },
   {
    "duration": 2540,
    "start_time": "2021-06-13T09:12:09.550Z"
   },
   {
    "duration": 16706,
    "start_time": "2021-06-13T09:12:12.093Z"
   },
   {
    "duration": 6,
    "start_time": "2021-06-13T09:12:28.802Z"
   },
   {
    "duration": 30,
    "start_time": "2021-06-13T09:12:30.068Z"
   },
   {
    "duration": 9431,
    "start_time": "2021-06-13T09:12:37.447Z"
   },
   {
    "duration": 12,
    "start_time": "2021-06-13T09:12:46.881Z"
   },
   {
    "duration": 29,
    "start_time": "2021-06-13T09:12:58.575Z"
   },
   {
    "duration": 796,
    "start_time": "2021-06-13T09:13:16.654Z"
   },
   {
    "duration": 4609,
    "start_time": "2021-06-13T09:13:21.533Z"
   },
   {
    "duration": 559,
    "start_time": "2021-06-13T09:13:32.877Z"
   },
   {
    "duration": 389,
    "start_time": "2021-06-13T09:13:42.259Z"
   },
   {
    "duration": 16,
    "start_time": "2021-06-13T09:13:50.161Z"
   },
   {
    "duration": 209,
    "start_time": "2021-06-13T09:16:47.241Z"
   },
   {
    "duration": 14250,
    "start_time": "2021-06-13T09:16:47.453Z"
   },
   {
    "duration": 2599,
    "start_time": "2021-06-13T09:17:01.706Z"
   },
   {
    "duration": 17465,
    "start_time": "2021-06-13T09:17:04.308Z"
   },
   {
    "duration": 12,
    "start_time": "2021-06-13T09:17:21.776Z"
   },
   {
    "duration": 32,
    "start_time": "2021-06-13T09:17:21.790Z"
   },
   {
    "duration": 10061,
    "start_time": "2021-06-13T09:17:21.824Z"
   },
   {
    "duration": 11,
    "start_time": "2021-06-13T09:17:31.889Z"
   },
   {
    "duration": 37,
    "start_time": "2021-06-13T09:17:31.903Z"
   },
   {
    "duration": 846,
    "start_time": "2021-06-13T09:17:31.943Z"
   },
   {
    "duration": 4696,
    "start_time": "2021-06-13T09:17:32.792Z"
   },
   {
    "duration": 569,
    "start_time": "2021-06-13T09:17:37.491Z"
   },
   {
    "duration": 403,
    "start_time": "2021-06-13T09:17:38.062Z"
   },
   {
    "duration": 23,
    "start_time": "2021-06-13T09:17:38.468Z"
   },
   {
    "duration": 341,
    "start_time": "2021-06-13T09:17:38.494Z"
   },
   {
    "duration": 21,
    "start_time": "2021-06-13T09:17:38.838Z"
   },
   {
    "duration": 31,
    "start_time": "2021-06-13T09:17:38.862Z"
   },
   {
    "duration": 18033,
    "start_time": "2021-06-13T09:17:38.896Z"
   },
   {
    "duration": 1255,
    "start_time": "2021-06-13T09:17:56.931Z"
   },
   {
    "duration": 327,
    "start_time": "2021-06-13T09:19:50.613Z"
   },
   {
    "duration": 590,
    "start_time": "2021-06-13T09:20:28.298Z"
   },
   {
    "duration": 602,
    "start_time": "2021-06-13T09:20:38.908Z"
   },
   {
    "duration": 65,
    "start_time": "2021-06-13T09:23:25.081Z"
   },
   {
    "duration": 13,
    "start_time": "2021-06-13T09:25:00.444Z"
   },
   {
    "duration": 286,
    "start_time": "2021-06-13T09:25:49.432Z"
   },
   {
    "duration": 314,
    "start_time": "2021-06-13T09:26:07.388Z"
   },
   {
    "duration": 320,
    "start_time": "2021-06-13T09:26:13.586Z"
   },
   {
    "duration": 298,
    "start_time": "2021-06-13T09:26:22.067Z"
   },
   {
    "duration": 594,
    "start_time": "2021-06-13T09:26:58.583Z"
   },
   {
    "duration": 571,
    "start_time": "2021-06-13T09:27:14.149Z"
   },
   {
    "duration": 1445,
    "start_time": "2021-06-13T09:27:39.803Z"
   },
   {
    "duration": 869,
    "start_time": "2021-06-13T09:28:00.095Z"
   },
   {
    "duration": 846,
    "start_time": "2021-06-13T09:28:15.205Z"
   },
   {
    "duration": 101,
    "start_time": "2021-06-13T09:28:41.171Z"
   },
   {
    "duration": 842,
    "start_time": "2021-06-13T09:28:44.182Z"
   },
   {
    "duration": 1118,
    "start_time": "2021-06-13T09:29:09.115Z"
   },
   {
    "duration": 1132,
    "start_time": "2021-06-13T09:29:31.167Z"
   },
   {
    "duration": 1110,
    "start_time": "2021-06-13T09:29:43.540Z"
   },
   {
    "duration": 1218,
    "start_time": "2021-06-13T09:29:51.615Z"
   },
   {
    "duration": 1140,
    "start_time": "2021-06-13T09:29:59.599Z"
   },
   {
    "duration": 1382,
    "start_time": "2021-06-13T09:31:21.874Z"
   },
   {
    "duration": 1455,
    "start_time": "2021-06-13T09:31:37.361Z"
   },
   {
    "duration": 1449,
    "start_time": "2021-06-13T09:31:50.136Z"
   },
   {
    "duration": 1527,
    "start_time": "2021-06-13T09:32:00.973Z"
   },
   {
    "duration": 1100,
    "start_time": "2021-06-13T09:33:31.399Z"
   },
   {
    "duration": 1471,
    "start_time": "2021-06-13T09:34:38.475Z"
   },
   {
    "duration": 1919,
    "start_time": "2021-06-13T09:35:38.122Z"
   },
   {
    "duration": 1127,
    "start_time": "2021-06-13T09:36:20.630Z"
   },
   {
    "duration": 1109,
    "start_time": "2021-06-13T09:37:29.027Z"
   },
   {
    "duration": 223,
    "start_time": "2021-06-13T10:03:50.099Z"
   },
   {
    "duration": 4660,
    "start_time": "2021-06-13T10:08:32.969Z"
   },
   {
    "duration": 4770,
    "start_time": "2021-06-13T10:08:57.925Z"
   },
   {
    "duration": 210,
    "start_time": "2021-06-13T10:09:18.727Z"
   },
   {
    "duration": 4683,
    "start_time": "2021-06-13T10:09:19.184Z"
   },
   {
    "duration": 2491,
    "start_time": "2021-06-13T10:09:23.871Z"
   },
   {
    "duration": 17133,
    "start_time": "2021-06-13T10:09:26.365Z"
   },
   {
    "duration": 6,
    "start_time": "2021-06-13T10:09:43.501Z"
   },
   {
    "duration": 27,
    "start_time": "2021-06-13T10:09:43.510Z"
   },
   {
    "duration": 9571,
    "start_time": "2021-06-13T10:09:43.540Z"
   },
   {
    "duration": 11,
    "start_time": "2021-06-13T10:09:53.114Z"
   },
   {
    "duration": 29,
    "start_time": "2021-06-13T10:09:53.128Z"
   },
   {
    "duration": 802,
    "start_time": "2021-06-13T10:09:53.184Z"
   },
   {
    "duration": 4686,
    "start_time": "2021-06-13T10:09:53.988Z"
   },
   {
    "duration": 592,
    "start_time": "2021-06-13T10:09:58.677Z"
   },
   {
    "duration": 1113,
    "start_time": "2021-06-13T10:09:59.272Z"
   },
   {
    "duration": 15,
    "start_time": "2021-06-13T10:10:00.387Z"
   },
   {
    "duration": 363,
    "start_time": "2021-06-13T10:10:00.404Z"
   },
   {
    "duration": 27,
    "start_time": "2021-06-13T10:10:00.769Z"
   },
   {
    "duration": 12,
    "start_time": "2021-06-13T10:10:00.799Z"
   },
   {
    "duration": 17072,
    "start_time": "2021-06-13T10:10:00.814Z"
   },
   {
    "duration": 1221,
    "start_time": "2021-06-13T10:10:17.890Z"
   },
   {
    "duration": 2299,
    "start_time": "2021-06-13T10:10:19.113Z"
   },
   {
    "duration": 1179,
    "start_time": "2021-06-13T10:10:21.415Z"
   },
   {
    "duration": 205,
    "start_time": "2021-06-13T10:12:39.343Z"
   },
   {
    "duration": 4653,
    "start_time": "2021-06-13T10:12:39.551Z"
   },
   {
    "duration": 2472,
    "start_time": "2021-06-13T10:12:44.208Z"
   },
   {
    "duration": 17374,
    "start_time": "2021-06-13T10:12:46.683Z"
   },
   {
    "duration": 6,
    "start_time": "2021-06-13T10:13:04.060Z"
   },
   {
    "duration": 39,
    "start_time": "2021-06-13T10:13:04.069Z"
   },
   {
    "duration": 9670,
    "start_time": "2021-06-13T10:13:04.111Z"
   },
   {
    "duration": 11,
    "start_time": "2021-06-13T10:13:13.787Z"
   },
   {
    "duration": 26,
    "start_time": "2021-06-13T10:13:13.801Z"
   },
   {
    "duration": 814,
    "start_time": "2021-06-13T10:13:13.830Z"
   },
   {
    "duration": 5389,
    "start_time": "2021-06-13T10:13:14.646Z"
   },
   {
    "duration": 557,
    "start_time": "2021-06-13T10:13:20.038Z"
   },
   {
    "duration": 410,
    "start_time": "2021-06-13T10:13:20.598Z"
   },
   {
    "duration": 15,
    "start_time": "2021-06-13T10:13:21.011Z"
   },
   {
    "duration": 360,
    "start_time": "2021-06-13T10:13:21.028Z"
   },
   {
    "duration": 19,
    "start_time": "2021-06-13T10:13:21.390Z"
   },
   {
    "duration": 12,
    "start_time": "2021-06-13T10:13:21.411Z"
   },
   {
    "duration": 16873,
    "start_time": "2021-06-13T10:13:21.426Z"
   },
   {
    "duration": 1224,
    "start_time": "2021-06-13T10:13:38.302Z"
   },
   {
    "duration": 2386,
    "start_time": "2021-06-13T10:13:39.529Z"
   },
   {
    "duration": 1096,
    "start_time": "2021-06-13T10:22:41.462Z"
   },
   {
    "duration": 119,
    "start_time": "2021-06-13T10:22:42.561Z"
   },
   {
    "duration": -1804,
    "start_time": "2021-06-13T10:22:44.487Z"
   },
   {
    "duration": -1805,
    "start_time": "2021-06-13T10:22:44.490Z"
   },
   {
    "duration": -1807,
    "start_time": "2021-06-13T10:22:44.493Z"
   },
   {
    "duration": -1808,
    "start_time": "2021-06-13T10:22:44.496Z"
   },
   {
    "duration": -1811,
    "start_time": "2021-06-13T10:22:44.500Z"
   },
   {
    "duration": -1813,
    "start_time": "2021-06-13T10:22:44.503Z"
   },
   {
    "duration": -1815,
    "start_time": "2021-06-13T10:22:44.507Z"
   },
   {
    "duration": -1817,
    "start_time": "2021-06-13T10:22:44.510Z"
   },
   {
    "duration": -1818,
    "start_time": "2021-06-13T10:22:44.513Z"
   },
   {
    "duration": -1821,
    "start_time": "2021-06-13T10:22:44.518Z"
   },
   {
    "duration": -1824,
    "start_time": "2021-06-13T10:22:44.522Z"
   },
   {
    "duration": -1827,
    "start_time": "2021-06-13T10:22:44.526Z"
   },
   {
    "duration": -1834,
    "start_time": "2021-06-13T10:22:44.535Z"
   },
   {
    "duration": -1836,
    "start_time": "2021-06-13T10:22:44.538Z"
   },
   {
    "duration": -1839,
    "start_time": "2021-06-13T10:22:44.542Z"
   },
   {
    "duration": -1841,
    "start_time": "2021-06-13T10:22:44.546Z"
   },
   {
    "duration": 389,
    "start_time": "2021-06-13T10:22:44.364Z"
   },
   {
    "duration": -232,
    "start_time": "2021-06-13T10:22:44.988Z"
   },
   {
    "duration": -236,
    "start_time": "2021-06-13T10:22:44.993Z"
   },
   {
    "duration": 209,
    "start_time": "2021-06-13T10:22:51.242Z"
   },
   {
    "duration": 111,
    "start_time": "2021-06-13T10:23:01.684Z"
   },
   {
    "duration": 107,
    "start_time": "2021-06-13T10:23:24.969Z"
   },
   {
    "duration": 80,
    "start_time": "2021-06-13T10:24:03.355Z"
   },
   {
    "duration": 1192,
    "start_time": "2021-06-13T10:24:18.743Z"
   },
   {
    "duration": 107,
    "start_time": "2021-06-13T10:27:17.929Z"
   },
   {
    "duration": 1146,
    "start_time": "2021-06-13T10:27:36.132Z"
   },
   {
    "duration": 1245,
    "start_time": "2021-06-13T10:29:18.766Z"
   },
   {
    "duration": 1170,
    "start_time": "2021-06-13T10:30:36.067Z"
   },
   {
    "duration": 211,
    "start_time": "2021-06-13T10:30:51.627Z"
   },
   {
    "duration": 4929,
    "start_time": "2021-06-13T10:30:51.841Z"
   },
   {
    "duration": 2726,
    "start_time": "2021-06-13T10:30:56.774Z"
   },
   {
    "duration": 17811,
    "start_time": "2021-06-13T10:30:59.503Z"
   },
   {
    "duration": 6,
    "start_time": "2021-06-13T10:31:17.316Z"
   },
   {
    "duration": 26,
    "start_time": "2021-06-13T10:31:17.325Z"
   },
   {
    "duration": 10207,
    "start_time": "2021-06-13T10:31:17.354Z"
   },
   {
    "duration": 22,
    "start_time": "2021-06-13T10:31:27.565Z"
   },
   {
    "duration": 41,
    "start_time": "2021-06-13T10:31:27.589Z"
   },
   {
    "duration": 1009,
    "start_time": "2021-06-13T10:31:27.632Z"
   },
   {
    "duration": 4757,
    "start_time": "2021-06-13T10:31:28.644Z"
   },
   {
    "duration": 592,
    "start_time": "2021-06-13T10:31:33.404Z"
   },
   {
    "duration": 414,
    "start_time": "2021-06-13T10:31:34.000Z"
   },
   {
    "duration": 16,
    "start_time": "2021-06-13T10:31:34.417Z"
   },
   {
    "duration": 366,
    "start_time": "2021-06-13T10:31:34.436Z"
   },
   {
    "duration": 19,
    "start_time": "2021-06-13T10:31:34.805Z"
   },
   {
    "duration": 14,
    "start_time": "2021-06-13T10:31:34.826Z"
   },
   {
    "duration": 17315,
    "start_time": "2021-06-13T10:31:34.842Z"
   },
   {
    "duration": 1252,
    "start_time": "2021-06-13T10:31:52.160Z"
   },
   {
    "duration": 2514,
    "start_time": "2021-06-13T10:31:53.415Z"
   },
   {
    "duration": 1249,
    "start_time": "2021-06-13T10:31:55.986Z"
   },
   {
    "duration": 216,
    "start_time": "2021-06-13T10:33:50.451Z"
   },
   {
    "duration": 14886,
    "start_time": "2021-06-13T10:33:50.669Z"
   },
   {
    "duration": 2656,
    "start_time": "2021-06-13T10:34:05.558Z"
   },
   {
    "duration": 18290,
    "start_time": "2021-06-13T10:34:08.218Z"
   },
   {
    "duration": 6,
    "start_time": "2021-06-13T10:34:26.511Z"
   },
   {
    "duration": 27,
    "start_time": "2021-06-13T10:34:26.519Z"
   },
   {
    "duration": 9995,
    "start_time": "2021-06-13T10:34:26.550Z"
   },
   {
    "duration": 11,
    "start_time": "2021-06-13T10:34:36.548Z"
   },
   {
    "duration": 49,
    "start_time": "2021-06-13T10:34:36.562Z"
   },
   {
    "duration": 808,
    "start_time": "2021-06-13T10:34:36.614Z"
   },
   {
    "duration": 5302,
    "start_time": "2021-06-13T10:34:37.425Z"
   },
   {
    "duration": 584,
    "start_time": "2021-06-13T10:34:42.730Z"
   },
   {
    "duration": 415,
    "start_time": "2021-06-13T10:34:43.317Z"
   },
   {
    "duration": 14,
    "start_time": "2021-06-13T10:34:43.735Z"
   },
   {
    "duration": 405,
    "start_time": "2021-06-13T10:34:43.751Z"
   },
   {
    "duration": 32,
    "start_time": "2021-06-13T10:34:44.158Z"
   },
   {
    "duration": 12,
    "start_time": "2021-06-13T10:34:44.193Z"
   },
   {
    "duration": 17760,
    "start_time": "2021-06-13T10:34:44.207Z"
   },
   {
    "duration": 220,
    "start_time": "2021-06-13T10:35:31.865Z"
   },
   {
    "duration": 12152,
    "start_time": "2021-06-13T10:35:32.733Z"
   },
   {
    "duration": 2356,
    "start_time": "2021-06-13T10:35:44.888Z"
   },
   {
    "duration": 2551,
    "start_time": "2021-06-13T10:35:47.247Z"
   },
   {
    "duration": 1067,
    "start_time": "2021-06-13T10:39:28.684Z"
   },
   {
    "duration": 11459,
    "start_time": "2021-06-13T10:39:29.754Z"
   },
   {
    "duration": 2289,
    "start_time": "2021-06-13T10:39:41.216Z"
   },
   {
    "duration": 2465,
    "start_time": "2021-06-13T10:39:43.508Z"
   },
   {
    "duration": 16921,
    "start_time": "2021-06-13T10:39:45.976Z"
   },
   {
    "duration": 6,
    "start_time": "2021-06-13T10:40:02.899Z"
   },
   {
    "duration": 31,
    "start_time": "2021-06-13T10:40:02.907Z"
   },
   {
    "duration": 9644,
    "start_time": "2021-06-13T10:40:02.941Z"
   },
   {
    "duration": 11,
    "start_time": "2021-06-13T10:40:12.588Z"
   },
   {
    "duration": 29,
    "start_time": "2021-06-13T10:40:12.601Z"
   },
   {
    "duration": 805,
    "start_time": "2021-06-13T10:40:12.632Z"
   },
   {
    "duration": 4610,
    "start_time": "2021-06-13T10:40:13.440Z"
   },
   {
    "duration": 546,
    "start_time": "2021-06-13T10:40:18.052Z"
   },
   {
    "duration": 420,
    "start_time": "2021-06-13T10:40:18.601Z"
   },
   {
    "duration": 15,
    "start_time": "2021-06-13T10:40:19.024Z"
   },
   {
    "duration": 350,
    "start_time": "2021-06-13T10:40:19.042Z"
   },
   {
    "duration": 18,
    "start_time": "2021-06-13T10:40:19.395Z"
   },
   {
    "duration": 14,
    "start_time": "2021-06-13T10:40:19.415Z"
   },
   {
    "duration": 16720,
    "start_time": "2021-06-13T10:40:19.431Z"
   },
   {
    "duration": 1242,
    "start_time": "2021-06-13T10:40:36.154Z"
   },
   {
    "duration": 3321,
    "start_time": "2021-06-13T10:40:37.398Z"
   },
   {
    "duration": 17475,
    "start_time": "2021-06-13T10:44:23.617Z"
   },
   {
    "duration": 219,
    "start_time": "2021-06-13T10:48:30.525Z"
   },
   {
    "duration": 11824,
    "start_time": "2021-06-13T10:48:30.747Z"
   },
   {
    "duration": 2411,
    "start_time": "2021-06-13T10:48:42.574Z"
   },
   {
    "duration": 2547,
    "start_time": "2021-06-13T10:48:44.989Z"
   },
   {
    "duration": 18100,
    "start_time": "2021-06-13T10:48:47.539Z"
   },
   {
    "duration": 16,
    "start_time": "2021-06-13T10:49:05.641Z"
   },
   {
    "duration": 41,
    "start_time": "2021-06-13T10:49:05.660Z"
   },
   {
    "duration": 10353,
    "start_time": "2021-06-13T10:49:05.705Z"
   },
   {
    "duration": 11,
    "start_time": "2021-06-13T10:49:16.061Z"
   },
   {
    "duration": 30,
    "start_time": "2021-06-13T10:49:16.086Z"
   },
   {
    "duration": 827,
    "start_time": "2021-06-13T10:49:16.118Z"
   },
   {
    "duration": 5062,
    "start_time": "2021-06-13T10:49:16.948Z"
   },
   {
    "duration": 823,
    "start_time": "2021-06-13T10:49:22.014Z"
   },
   {
    "duration": 419,
    "start_time": "2021-06-13T10:49:22.840Z"
   },
   {
    "duration": 32,
    "start_time": "2021-06-13T10:49:23.262Z"
   },
   {
    "duration": 348,
    "start_time": "2021-06-13T10:49:23.297Z"
   },
   {
    "duration": 18,
    "start_time": "2021-06-13T10:49:23.648Z"
   },
   {
    "duration": 28,
    "start_time": "2021-06-13T10:49:23.668Z"
   },
   {
    "duration": 28281,
    "start_time": "2021-06-13T10:49:23.699Z"
   },
   {
    "duration": 1194,
    "start_time": "2021-06-13T10:50:01.855Z"
   },
   {
    "duration": 12452,
    "start_time": "2021-06-13T10:50:03.052Z"
   },
   {
    "duration": 2556,
    "start_time": "2021-06-13T10:50:15.507Z"
   },
   {
    "duration": 2844,
    "start_time": "2021-06-13T10:50:18.066Z"
   },
   {
    "duration": 82,
    "start_time": "2021-06-13T11:49:51.148Z"
   },
   {
    "duration": 56,
    "start_time": "2021-06-13T11:51:21.443Z"
   },
   {
    "duration": 796,
    "start_time": "2021-06-13T11:53:49.627Z"
   },
   {
    "duration": 215,
    "start_time": "2021-06-13T11:58:01.386Z"
   },
   {
    "duration": 8,
    "start_time": "2021-06-13T11:58:01.604Z"
   },
   {
    "duration": 48,
    "start_time": "2021-06-13T11:58:01.615Z"
   },
   {
    "duration": 14072,
    "start_time": "2021-06-13T11:58:01.666Z"
   },
   {
    "duration": 2457,
    "start_time": "2021-06-13T11:58:15.741Z"
   },
   {
    "duration": 17465,
    "start_time": "2021-06-13T11:58:18.201Z"
   },
   {
    "duration": 19,
    "start_time": "2021-06-13T11:58:35.669Z"
   },
   {
    "duration": 9879,
    "start_time": "2021-06-13T11:58:35.692Z"
   },
   {
    "duration": 18,
    "start_time": "2021-06-13T11:58:45.574Z"
   },
   {
    "duration": 327,
    "start_time": "2021-06-13T11:58:45.595Z"
   },
   {
    "duration": -1595,
    "start_time": "2021-06-13T11:58:47.520Z"
   },
   {
    "duration": -1601,
    "start_time": "2021-06-13T11:58:47.527Z"
   },
   {
    "duration": -1692,
    "start_time": "2021-06-13T11:58:47.619Z"
   },
   {
    "duration": -1704,
    "start_time": "2021-06-13T11:58:47.633Z"
   },
   {
    "duration": -1719,
    "start_time": "2021-06-13T11:58:47.649Z"
   },
   {
    "duration": -1722,
    "start_time": "2021-06-13T11:58:47.654Z"
   },
   {
    "duration": -1730,
    "start_time": "2021-06-13T11:58:47.664Z"
   },
   {
    "duration": -1732,
    "start_time": "2021-06-13T11:58:47.667Z"
   },
   {
    "duration": -1734,
    "start_time": "2021-06-13T11:58:47.671Z"
   },
   {
    "duration": -1737,
    "start_time": "2021-06-13T11:58:47.675Z"
   },
   {
    "duration": -1741,
    "start_time": "2021-06-13T11:58:47.680Z"
   },
   {
    "duration": 59,
    "start_time": "2021-06-13T11:59:31.448Z"
   },
   {
    "duration": 806,
    "start_time": "2021-06-13T11:59:38.540Z"
   },
   {
    "duration": 4543,
    "start_time": "2021-06-13T11:59:50.066Z"
   },
   {
    "duration": 5716,
    "start_time": "2021-06-13T12:04:03.448Z"
   },
   {
    "duration": 5141,
    "start_time": "2021-06-13T12:04:33.353Z"
   },
   {
    "duration": 4961,
    "start_time": "2021-06-13T12:04:44.299Z"
   },
   {
    "duration": 5094,
    "start_time": "2021-06-13T12:04:55.685Z"
   },
   {
    "duration": 5043,
    "start_time": "2021-06-13T12:05:52.083Z"
   },
   {
    "duration": 4689,
    "start_time": "2021-06-13T12:06:41.441Z"
   },
   {
    "duration": 4700,
    "start_time": "2021-06-13T12:06:51.089Z"
   },
   {
    "duration": 4733,
    "start_time": "2021-06-13T12:07:14.052Z"
   },
   {
    "duration": 4658,
    "start_time": "2021-06-13T12:07:29.194Z"
   },
   {
    "duration": 4906,
    "start_time": "2021-06-13T12:07:39.854Z"
   },
   {
    "duration": 4854,
    "start_time": "2021-06-13T12:07:55.868Z"
   },
   {
    "duration": 4996,
    "start_time": "2021-06-13T12:08:04.247Z"
   },
   {
    "duration": 1409,
    "start_time": "2021-06-13T12:08:28.123Z"
   },
   {
    "duration": 1351,
    "start_time": "2021-06-13T12:08:40.387Z"
   },
   {
    "duration": 1317,
    "start_time": "2021-06-13T12:09:09.277Z"
   },
   {
    "duration": 1837,
    "start_time": "2021-06-13T12:14:17.797Z"
   },
   {
    "duration": 1740,
    "start_time": "2021-06-13T12:15:01.145Z"
   },
   {
    "duration": 2149,
    "start_time": "2021-06-13T12:16:20.721Z"
   },
   {
    "duration": 1778,
    "start_time": "2021-06-13T12:16:38.334Z"
   },
   {
    "duration": 2062,
    "start_time": "2021-06-13T12:17:46.431Z"
   },
   {
    "duration": 2041,
    "start_time": "2021-06-13T12:17:59.675Z"
   },
   {
    "duration": 590,
    "start_time": "2021-06-13T12:24:25.522Z"
   },
   {
    "duration": 553,
    "start_time": "2021-06-13T12:26:15.854Z"
   },
   {
    "duration": 543,
    "start_time": "2021-06-13T12:29:22.245Z"
   },
   {
    "duration": 549,
    "start_time": "2021-06-13T12:29:40.973Z"
   },
   {
    "duration": 868,
    "start_time": "2021-06-13T12:32:24.655Z"
   },
   {
    "duration": 542,
    "start_time": "2021-06-13T12:32:47.174Z"
   },
   {
    "duration": 548,
    "start_time": "2021-06-13T12:33:22.311Z"
   },
   {
    "duration": 936,
    "start_time": "2021-06-13T12:33:28.570Z"
   },
   {
    "duration": 589,
    "start_time": "2021-06-13T12:35:09.542Z"
   },
   {
    "duration": 1128,
    "start_time": "2021-06-13T12:35:33.931Z"
   },
   {
    "duration": 570,
    "start_time": "2021-06-13T12:35:53.675Z"
   },
   {
    "duration": 539,
    "start_time": "2021-06-13T12:42:46.398Z"
   },
   {
    "duration": 546,
    "start_time": "2021-06-13T12:43:22.284Z"
   },
   {
    "duration": 584,
    "start_time": "2021-06-13T12:44:57.953Z"
   },
   {
    "duration": 605,
    "start_time": "2021-06-13T12:45:10.547Z"
   },
   {
    "duration": 423,
    "start_time": "2021-06-13T12:47:38.473Z"
   },
   {
    "duration": 399,
    "start_time": "2021-06-13T12:48:28.719Z"
   },
   {
    "duration": 388,
    "start_time": "2021-06-13T12:50:04.200Z"
   },
   {
    "duration": 371,
    "start_time": "2021-06-13T12:50:34.743Z"
   },
   {
    "duration": 7301,
    "start_time": "2021-06-13T12:53:44.781Z"
   },
   {
    "duration": 7588,
    "start_time": "2021-06-13T12:54:18.991Z"
   },
   {
    "duration": 377,
    "start_time": "2021-06-13T12:55:01.663Z"
   },
   {
    "duration": 376,
    "start_time": "2021-06-13T12:55:33.680Z"
   },
   {
    "duration": 210,
    "start_time": "2021-06-13T13:06:51.340Z"
   },
   {
    "duration": 8,
    "start_time": "2021-06-13T13:06:51.791Z"
   },
   {
    "duration": 24,
    "start_time": "2021-06-13T13:06:52.590Z"
   },
   {
    "duration": 14689,
    "start_time": "2021-06-13T13:06:52.634Z"
   },
   {
    "duration": 2918,
    "start_time": "2021-06-13T13:07:07.325Z"
   },
   {
    "duration": 17439,
    "start_time": "2021-06-13T13:07:10.246Z"
   },
   {
    "duration": 7,
    "start_time": "2021-06-13T13:07:27.688Z"
   },
   {
    "duration": 9904,
    "start_time": "2021-06-13T13:07:27.697Z"
   },
   {
    "duration": 11,
    "start_time": "2021-06-13T13:07:37.604Z"
   },
   {
    "duration": 86,
    "start_time": "2021-06-13T13:07:37.617Z"
   },
   {
    "duration": 839,
    "start_time": "2021-06-13T13:07:37.707Z"
   },
   {
    "duration": 2091,
    "start_time": "2021-06-13T13:07:38.549Z"
   },
   {
    "duration": 599,
    "start_time": "2021-06-13T13:07:40.643Z"
   },
   {
    "duration": 413,
    "start_time": "2021-06-13T13:07:41.244Z"
   },
   {
    "duration": 30,
    "start_time": "2021-06-13T13:07:41.660Z"
   },
   {
    "duration": 766,
    "start_time": "2021-06-13T13:07:41.692Z"
   },
   {
    "duration": 34,
    "start_time": "2021-06-13T13:07:42.461Z"
   },
   {
    "duration": 11,
    "start_time": "2021-06-13T13:07:42.498Z"
   },
   {
    "duration": 17533,
    "start_time": "2021-06-13T13:07:42.511Z"
   },
   {
    "duration": 18,
    "start_time": "2021-06-13T14:24:05.392Z"
   },
   {
    "duration": 332,
    "start_time": "2021-06-13T14:27:56.668Z"
   },
   {
    "duration": 302,
    "start_time": "2021-06-13T14:28:08.592Z"
   },
   {
    "duration": 327,
    "start_time": "2021-06-13T14:28:56.685Z"
   },
   {
    "duration": 310,
    "start_time": "2021-06-13T14:29:01.701Z"
   },
   {
    "duration": 327,
    "start_time": "2021-06-13T14:29:06.561Z"
   },
   {
    "duration": 313,
    "start_time": "2021-06-13T14:31:23.641Z"
   },
   {
    "duration": 336,
    "start_time": "2021-06-13T14:31:44.173Z"
   },
   {
    "duration": 642,
    "start_time": "2021-06-13T14:36:02.337Z"
   },
   {
    "duration": 648,
    "start_time": "2021-06-13T14:36:16.759Z"
   },
   {
    "duration": 637,
    "start_time": "2021-06-13T14:41:22.631Z"
   },
   {
    "duration": 635,
    "start_time": "2021-06-13T14:41:41.009Z"
   },
   {
    "duration": 637,
    "start_time": "2021-06-13T14:41:52.624Z"
   },
   {
    "duration": 648,
    "start_time": "2021-06-13T14:41:58.008Z"
   },
   {
    "duration": 665,
    "start_time": "2021-06-13T14:42:03.405Z"
   },
   {
    "duration": 615,
    "start_time": "2021-06-13T14:42:13.099Z"
   },
   {
    "duration": 652,
    "start_time": "2021-06-13T14:42:26.359Z"
   },
   {
    "duration": 25,
    "start_time": "2021-06-13T14:44:04.308Z"
   },
   {
    "duration": 24,
    "start_time": "2021-06-13T14:44:08.348Z"
   },
   {
    "duration": 339,
    "start_time": "2021-06-13T14:46:40.577Z"
   },
   {
    "duration": 21,
    "start_time": "2021-06-13T14:46:50.332Z"
   },
   {
    "duration": 12,
    "start_time": "2021-06-13T14:59:03.414Z"
   },
   {
    "duration": 18110,
    "start_time": "2021-06-13T14:59:16.391Z"
   },
   {
    "duration": 229,
    "start_time": "2021-06-13T15:04:37.568Z"
   },
   {
    "duration": 10,
    "start_time": "2021-06-13T15:04:37.802Z"
   },
   {
    "duration": 73,
    "start_time": "2021-06-13T15:04:37.817Z"
   },
   {
    "duration": 14622,
    "start_time": "2021-06-13T15:04:37.894Z"
   },
   {
    "duration": 2682,
    "start_time": "2021-06-13T15:04:52.518Z"
   },
   {
    "duration": 18158,
    "start_time": "2021-06-13T15:04:55.202Z"
   },
   {
    "duration": 6,
    "start_time": "2021-06-13T15:05:13.362Z"
   },
   {
    "duration": 220,
    "start_time": "2021-06-13T16:55:46.877Z"
   },
   {
    "duration": 8,
    "start_time": "2021-06-13T16:55:47.100Z"
   },
   {
    "duration": 28,
    "start_time": "2021-06-13T16:55:47.256Z"
   },
   {
    "duration": 14588,
    "start_time": "2021-06-13T16:55:47.287Z"
   },
   {
    "duration": 3518,
    "start_time": "2021-06-13T16:56:01.878Z"
   },
   {
    "duration": 17586,
    "start_time": "2021-06-13T16:56:05.399Z"
   },
   {
    "duration": 7,
    "start_time": "2021-06-13T16:56:22.988Z"
   },
   {
    "duration": 10933,
    "start_time": "2021-06-13T16:56:22.998Z"
   },
   {
    "duration": 14,
    "start_time": "2021-06-13T16:56:33.936Z"
   },
   {
    "duration": 102,
    "start_time": "2021-06-13T16:56:33.954Z"
   },
   {
    "duration": 1181,
    "start_time": "2021-06-13T16:56:34.058Z"
   },
   {
    "duration": 2021,
    "start_time": "2021-06-13T16:56:35.242Z"
   },
   {
    "duration": 576,
    "start_time": "2021-06-13T16:56:37.265Z"
   },
   {
    "duration": 382,
    "start_time": "2021-06-13T16:56:37.843Z"
   },
   {
    "duration": 15,
    "start_time": "2021-06-13T16:56:38.227Z"
   },
   {
    "duration": 643,
    "start_time": "2021-06-13T16:56:38.245Z"
   },
   {
    "duration": 27,
    "start_time": "2021-06-13T16:56:38.891Z"
   },
   {
    "duration": 12,
    "start_time": "2021-06-13T16:56:38.920Z"
   },
   {
    "duration": 18158,
    "start_time": "2021-06-13T16:56:38.935Z"
   },
   {
    "duration": 1122,
    "start_time": "2021-06-13T17:20:24.448Z"
   },
   {
    "duration": 1117,
    "start_time": "2021-06-13T17:22:12.341Z"
   },
   {
    "duration": 1195,
    "start_time": "2021-06-13T17:22:29.048Z"
   },
   {
    "duration": 569,
    "start_time": "2021-06-13T17:33:59.846Z"
   },
   {
    "duration": 5,
    "start_time": "2021-06-14T03:34:15.756Z"
   },
   {
    "duration": 86,
    "start_time": "2021-06-14T03:40:51.826Z"
   },
   {
    "duration": 74,
    "start_time": "2021-06-14T03:41:07.375Z"
   },
   {
    "duration": 60,
    "start_time": "2021-06-14T03:41:32.124Z"
   },
   {
    "duration": 4351,
    "start_time": "2021-06-14T03:41:36.334Z"
   },
   {
    "duration": 4283,
    "start_time": "2021-06-14T03:41:59.886Z"
   },
   {
    "duration": 4580,
    "start_time": "2021-06-14T03:42:18.985Z"
   },
   {
    "duration": 23,
    "start_time": "2021-06-14T03:42:27.697Z"
   },
   {
    "duration": 23,
    "start_time": "2021-06-14T03:42:32.297Z"
   },
   {
    "duration": 1081,
    "start_time": "2021-06-14T14:42:23.787Z"
   },
   {
    "duration": 230,
    "start_time": "2021-06-14T14:42:41.736Z"
   },
   {
    "duration": 6,
    "start_time": "2021-06-14T14:42:41.969Z"
   },
   {
    "duration": 29,
    "start_time": "2021-06-14T14:42:41.978Z"
   },
   {
    "duration": 15303,
    "start_time": "2021-06-14T14:42:42.009Z"
   },
   {
    "duration": 2870,
    "start_time": "2021-06-14T14:42:57.315Z"
   },
   {
    "duration": 18498,
    "start_time": "2021-06-14T14:43:00.188Z"
   },
   {
    "duration": 7,
    "start_time": "2021-06-14T14:43:18.689Z"
   },
   {
    "duration": 10777,
    "start_time": "2021-06-14T14:43:18.699Z"
   },
   {
    "duration": 11,
    "start_time": "2021-06-14T14:43:29.478Z"
   },
   {
    "duration": 81,
    "start_time": "2021-06-14T14:43:29.492Z"
   },
   {
    "duration": 907,
    "start_time": "2021-06-14T14:43:29.575Z"
   },
   {
    "duration": 2187,
    "start_time": "2021-06-14T14:43:30.485Z"
   },
   {
    "duration": 680,
    "start_time": "2021-06-14T14:43:32.675Z"
   },
   {
    "duration": 415,
    "start_time": "2021-06-14T14:43:33.358Z"
   },
   {
    "duration": 53,
    "start_time": "2021-06-14T14:43:33.776Z"
   },
   {
    "duration": 18,
    "start_time": "2021-06-14T14:43:33.833Z"
   },
   {
    "duration": 701,
    "start_time": "2021-06-14T14:43:33.854Z"
   },
   {
    "duration": 24,
    "start_time": "2021-06-14T14:43:34.558Z"
   },
   {
    "duration": 50,
    "start_time": "2021-06-14T14:43:34.584Z"
   },
   {
    "duration": 20080,
    "start_time": "2021-06-14T14:43:34.637Z"
   },
   {
    "duration": 758,
    "start_time": "2021-06-15T09:36:01.857Z"
   },
   {
    "duration": 321,
    "start_time": "2021-06-15T09:38:47.738Z"
   },
   {
    "duration": 1099,
    "start_time": "2021-06-15T09:50:17.865Z"
   },
   {
    "duration": 7,
    "start_time": "2021-06-15T09:50:18.967Z"
   },
   {
    "duration": 56,
    "start_time": "2021-06-15T09:50:18.978Z"
   },
   {
    "duration": 4376,
    "start_time": "2021-06-15T09:50:19.038Z"
   },
   {
    "duration": 4469,
    "start_time": "2021-06-15T09:50:23.417Z"
   },
   {
    "duration": 18550,
    "start_time": "2021-06-15T09:50:27.889Z"
   },
   {
    "duration": 9,
    "start_time": "2021-06-15T09:50:46.441Z"
   },
   {
    "duration": 28,
    "start_time": "2021-06-15T09:50:46.454Z"
   },
   {
    "duration": 49,
    "start_time": "2021-06-15T09:50:46.487Z"
   },
   {
    "duration": 89,
    "start_time": "2021-06-15T09:50:46.539Z"
   },
   {
    "duration": 830,
    "start_time": "2021-06-15T09:50:46.630Z"
   },
   {
    "duration": 2609,
    "start_time": "2021-06-15T09:50:47.462Z"
   },
   {
    "duration": 616,
    "start_time": "2021-06-15T09:50:50.074Z"
   },
   {
    "duration": 402,
    "start_time": "2021-06-15T09:50:50.693Z"
   },
   {
    "duration": 47,
    "start_time": "2021-06-15T09:50:51.097Z"
   },
   {
    "duration": 19,
    "start_time": "2021-06-15T09:50:51.148Z"
   },
   {
    "duration": 692,
    "start_time": "2021-06-15T09:50:51.170Z"
   },
   {
    "duration": 24,
    "start_time": "2021-06-15T09:50:51.865Z"
   },
   {
    "duration": 39,
    "start_time": "2021-06-15T09:50:51.891Z"
   },
   {
    "duration": 16516,
    "start_time": "2021-06-15T09:50:51.932Z"
   },
   {
    "duration": 37,
    "start_time": "2021-06-15T10:09:12.366Z"
   },
   {
    "duration": 241,
    "start_time": "2021-06-15T10:09:49.604Z"
   },
   {
    "duration": 10,
    "start_time": "2021-06-15T10:09:49.849Z"
   },
   {
    "duration": 80,
    "start_time": "2021-06-15T10:09:49.862Z"
   },
   {
    "duration": 2521,
    "start_time": "2021-06-15T10:09:49.946Z"
   },
   {
    "duration": 2854,
    "start_time": "2021-06-15T10:09:52.470Z"
   },
   {
    "duration": 938,
    "start_time": "2021-06-15T10:27:24.046Z"
   },
   {
    "duration": 277,
    "start_time": "2021-06-15T10:27:39.427Z"
   },
   {
    "duration": 20,
    "start_time": "2021-06-15T10:27:39.707Z"
   },
   {
    "duration": 26,
    "start_time": "2021-06-15T10:27:39.731Z"
   },
   {
    "duration": 2480,
    "start_time": "2021-06-15T10:27:39.760Z"
   },
   {
    "duration": 2598,
    "start_time": "2021-06-15T10:27:42.242Z"
   },
   {
    "duration": 17846,
    "start_time": "2021-06-15T10:27:44.843Z"
   },
   {
    "duration": 6,
    "start_time": "2021-06-15T10:28:02.692Z"
   },
   {
    "duration": 43,
    "start_time": "2021-06-15T10:28:02.702Z"
   },
   {
    "duration": 12,
    "start_time": "2021-06-15T10:28:02.748Z"
   },
   {
    "duration": 93,
    "start_time": "2021-06-15T10:28:02.763Z"
   },
   {
    "duration": 844,
    "start_time": "2021-06-15T10:28:02.859Z"
   },
   {
    "duration": 1033,
    "start_time": "2021-06-15T10:28:03.705Z"
   },
   {
    "duration": -1075,
    "start_time": "2021-06-15T10:28:05.817Z"
   },
   {
    "duration": -1092,
    "start_time": "2021-06-15T10:28:05.836Z"
   },
   {
    "duration": -1104,
    "start_time": "2021-06-15T10:28:05.850Z"
   },
   {
    "duration": -1115,
    "start_time": "2021-06-15T10:28:05.863Z"
   },
   {
    "duration": -1130,
    "start_time": "2021-06-15T10:28:05.881Z"
   },
   {
    "duration": -1135,
    "start_time": "2021-06-15T10:28:05.888Z"
   },
   {
    "duration": -1143,
    "start_time": "2021-06-15T10:28:05.898Z"
   },
   {
    "duration": -1160,
    "start_time": "2021-06-15T10:28:05.917Z"
   },
   {
    "duration": -1172,
    "start_time": "2021-06-15T10:28:05.931Z"
   },
   {
    "duration": -1175,
    "start_time": "2021-06-15T10:28:05.936Z"
   },
   {
    "duration": 929,
    "start_time": "2021-06-15T10:28:47.498Z"
   },
   {
    "duration": 985,
    "start_time": "2021-06-15T10:29:14.934Z"
   },
   {
    "duration": 1103,
    "start_time": "2021-06-15T10:29:21.503Z"
   },
   {
    "duration": 2089,
    "start_time": "2021-06-15T10:29:27.269Z"
   },
   {
    "duration": 2141,
    "start_time": "2021-06-15T10:29:38.672Z"
   },
   {
    "duration": 2061,
    "start_time": "2021-06-15T10:30:31.458Z"
   },
   {
    "duration": 2969,
    "start_time": "2021-06-15T10:31:26.278Z"
   },
   {
    "duration": 1994,
    "start_time": "2021-06-15T10:32:07.151Z"
   },
   {
    "duration": 1615,
    "start_time": "2021-06-15T10:33:39.200Z"
   },
   {
    "duration": 1838,
    "start_time": "2021-06-15T10:34:47.540Z"
   },
   {
    "duration": 1633,
    "start_time": "2021-06-15T11:16:11.280Z"
   },
   {
    "duration": 337,
    "start_time": "2021-06-15T11:16:51.454Z"
   },
   {
    "duration": 1594,
    "start_time": "2021-06-15T11:17:07.796Z"
   },
   {
    "duration": 2109,
    "start_time": "2021-06-15T11:20:56.782Z"
   },
   {
    "duration": 677,
    "start_time": "2021-06-15T11:22:33.374Z"
   },
   {
    "duration": 2160,
    "start_time": "2021-06-15T11:23:35.249Z"
   },
   {
    "duration": 1722,
    "start_time": "2021-06-15T11:24:42.780Z"
   },
   {
    "duration": 1638,
    "start_time": "2021-06-15T11:25:23.264Z"
   },
   {
    "duration": 1625,
    "start_time": "2021-06-15T11:26:22.855Z"
   },
   {
    "duration": 1299,
    "start_time": "2021-06-15T11:31:20.116Z"
   },
   {
    "duration": 968,
    "start_time": "2021-06-15T11:42:15.201Z"
   },
   {
    "duration": 566,
    "start_time": "2021-06-15T11:42:39.328Z"
   },
   {
    "duration": 567,
    "start_time": "2021-06-15T11:42:56.184Z"
   },
   {
    "duration": 563,
    "start_time": "2021-06-15T11:43:12.565Z"
   },
   {
    "duration": 227,
    "start_time": "2021-06-15T11:45:19.111Z"
   },
   {
    "duration": 228,
    "start_time": "2021-06-15T11:45:36.744Z"
   },
   {
    "duration": 223,
    "start_time": "2021-06-15T11:45:49.508Z"
   },
   {
    "duration": 8,
    "start_time": "2021-06-15T11:45:49.734Z"
   },
   {
    "duration": 35,
    "start_time": "2021-06-15T11:45:49.745Z"
   },
   {
    "duration": 2585,
    "start_time": "2021-06-15T11:45:49.783Z"
   },
   {
    "duration": 2727,
    "start_time": "2021-06-15T11:45:52.372Z"
   },
   {
    "duration": 19505,
    "start_time": "2021-06-15T11:45:55.103Z"
   },
   {
    "duration": 14,
    "start_time": "2021-06-15T11:46:14.611Z"
   },
   {
    "duration": 29,
    "start_time": "2021-06-15T11:46:14.629Z"
   },
   {
    "duration": 13,
    "start_time": "2021-06-15T11:46:14.661Z"
   },
   {
    "duration": 104,
    "start_time": "2021-06-15T11:46:14.678Z"
   },
   {
    "duration": 841,
    "start_time": "2021-06-15T11:46:14.784Z"
   },
   {
    "duration": 1668,
    "start_time": "2021-06-15T11:46:15.627Z"
   },
   {
    "duration": 602,
    "start_time": "2021-06-15T11:46:17.298Z"
   },
   {
    "duration": 247,
    "start_time": "2021-06-15T11:46:17.903Z"
   },
   {
    "duration": 388,
    "start_time": "2021-06-15T11:46:18.153Z"
   },
   {
    "duration": 44,
    "start_time": "2021-06-15T11:46:18.544Z"
   },
   {
    "duration": 131,
    "start_time": "2021-06-15T11:46:18.592Z"
   },
   {
    "duration": 932,
    "start_time": "2021-06-15T11:46:18.726Z"
   },
   {
    "duration": 25,
    "start_time": "2021-06-15T11:46:19.662Z"
   },
   {
    "duration": 457,
    "start_time": "2021-06-15T11:46:19.691Z"
   },
   {
    "duration": 1130,
    "start_time": "2021-06-15T11:51:46.129Z"
   },
   {
    "duration": 7,
    "start_time": "2021-06-15T11:51:47.262Z"
   },
   {
    "duration": 54,
    "start_time": "2021-06-15T11:51:47.272Z"
   },
   {
    "duration": 2610,
    "start_time": "2021-06-15T11:51:47.329Z"
   },
   {
    "duration": 2693,
    "start_time": "2021-06-15T11:51:49.942Z"
   },
   {
    "duration": 17963,
    "start_time": "2021-06-15T11:51:52.637Z"
   },
   {
    "duration": 23,
    "start_time": "2021-06-15T11:52:10.603Z"
   },
   {
    "duration": 25,
    "start_time": "2021-06-15T11:52:10.630Z"
   },
   {
    "duration": 11,
    "start_time": "2021-06-15T11:52:10.658Z"
   },
   {
    "duration": 93,
    "start_time": "2021-06-15T11:52:10.671Z"
   },
   {
    "duration": 958,
    "start_time": "2021-06-15T11:52:10.767Z"
   },
   {
    "duration": 1776,
    "start_time": "2021-06-15T11:52:11.727Z"
   },
   {
    "duration": 1155,
    "start_time": "2021-06-15T11:58:52.907Z"
   },
   {
    "duration": 8,
    "start_time": "2021-06-15T11:58:54.065Z"
   },
   {
    "duration": 61,
    "start_time": "2021-06-15T11:58:54.077Z"
   },
   {
    "duration": 2453,
    "start_time": "2021-06-15T11:58:54.141Z"
   },
   {
    "duration": 2791,
    "start_time": "2021-06-15T11:58:56.596Z"
   },
   {
    "duration": 18208,
    "start_time": "2021-06-15T11:58:59.389Z"
   },
   {
    "duration": 10,
    "start_time": "2021-06-15T11:59:17.599Z"
   },
   {
    "duration": 29,
    "start_time": "2021-06-15T11:59:17.629Z"
   },
   {
    "duration": 12,
    "start_time": "2021-06-15T11:59:17.662Z"
   },
   {
    "duration": 108,
    "start_time": "2021-06-15T11:59:17.677Z"
   },
   {
    "duration": 905,
    "start_time": "2021-06-15T11:59:17.788Z"
   },
   {
    "duration": 1759,
    "start_time": "2021-06-15T11:59:18.695Z"
   },
   {
    "duration": 1119,
    "start_time": "2021-06-15T12:01:57.563Z"
   },
   {
    "duration": 8,
    "start_time": "2021-06-15T12:01:58.685Z"
   },
   {
    "duration": 46,
    "start_time": "2021-06-15T12:01:58.696Z"
   },
   {
    "duration": 2570,
    "start_time": "2021-06-15T12:01:58.745Z"
   },
   {
    "duration": 2570,
    "start_time": "2021-06-15T12:02:01.317Z"
   },
   {
    "duration": 17750,
    "start_time": "2021-06-15T12:02:03.890Z"
   },
   {
    "duration": 7,
    "start_time": "2021-06-15T12:02:21.643Z"
   },
   {
    "duration": 58,
    "start_time": "2021-06-15T12:02:21.655Z"
   },
   {
    "duration": 16,
    "start_time": "2021-06-15T12:02:21.717Z"
   },
   {
    "duration": 113,
    "start_time": "2021-06-15T12:02:21.736Z"
   },
   {
    "duration": 1373,
    "start_time": "2021-06-15T12:02:21.852Z"
   },
   {
    "duration": 2416,
    "start_time": "2021-06-15T12:02:23.228Z"
   },
   {
    "duration": 1201,
    "start_time": "2021-06-15T12:10:57.054Z"
   },
   {
    "duration": 8,
    "start_time": "2021-06-15T12:10:58.257Z"
   },
   {
    "duration": 27,
    "start_time": "2021-06-15T12:10:58.269Z"
   },
   {
    "duration": 2556,
    "start_time": "2021-06-15T12:10:58.325Z"
   },
   {
    "duration": 2673,
    "start_time": "2021-06-15T12:11:00.883Z"
   },
   {
    "duration": 17690,
    "start_time": "2021-06-15T12:11:03.559Z"
   },
   {
    "duration": 7,
    "start_time": "2021-06-15T12:11:21.251Z"
   },
   {
    "duration": 24,
    "start_time": "2021-06-15T12:11:21.261Z"
   },
   {
    "duration": 39,
    "start_time": "2021-06-15T12:11:21.288Z"
   },
   {
    "duration": 60,
    "start_time": "2021-06-15T12:11:21.330Z"
   },
   {
    "duration": 856,
    "start_time": "2021-06-15T12:11:21.392Z"
   },
   {
    "duration": 1677,
    "start_time": "2021-06-15T12:11:22.251Z"
   },
   {
    "duration": 129,
    "start_time": "2021-06-15T12:11:23.930Z"
   },
   {
    "duration": -1282,
    "start_time": "2021-06-15T12:11:25.344Z"
   },
   {
    "duration": -1326,
    "start_time": "2021-06-15T12:11:25.390Z"
   },
   {
    "duration": -1332,
    "start_time": "2021-06-15T12:11:25.398Z"
   },
   {
    "duration": -1336,
    "start_time": "2021-06-15T12:11:25.404Z"
   },
   {
    "duration": -1339,
    "start_time": "2021-06-15T12:11:25.410Z"
   },
   {
    "duration": -1343,
    "start_time": "2021-06-15T12:11:25.416Z"
   },
   {
    "duration": -1347,
    "start_time": "2021-06-15T12:11:25.422Z"
   },
   {
    "duration": -1350,
    "start_time": "2021-06-15T12:11:25.427Z"
   },
   {
    "duration": -1354,
    "start_time": "2021-06-15T12:11:25.433Z"
   },
   {
    "duration": -1366,
    "start_time": "2021-06-15T12:11:25.447Z"
   },
   {
    "duration": 1661,
    "start_time": "2021-06-15T12:12:10.796Z"
   },
   {
    "duration": 1748,
    "start_time": "2021-06-15T12:12:46.870Z"
   },
   {
    "duration": 1733,
    "start_time": "2021-06-15T12:13:22.401Z"
   },
   {
    "duration": 1740,
    "start_time": "2021-06-15T12:13:38.197Z"
   },
   {
    "duration": 1711,
    "start_time": "2021-06-15T12:14:11.352Z"
   },
   {
    "duration": 130,
    "start_time": "2021-06-15T12:14:46.582Z"
   },
   {
    "duration": 1112,
    "start_time": "2021-06-15T12:29:00.981Z"
   },
   {
    "duration": 8,
    "start_time": "2021-06-15T12:29:02.096Z"
   },
   {
    "duration": 43,
    "start_time": "2021-06-15T12:29:02.107Z"
   },
   {
    "duration": 2669,
    "start_time": "2021-06-15T12:29:02.153Z"
   },
   {
    "duration": 2608,
    "start_time": "2021-06-15T12:29:04.824Z"
   },
   {
    "duration": 18152,
    "start_time": "2021-06-15T12:29:07.434Z"
   },
   {
    "duration": 6,
    "start_time": "2021-06-15T12:29:25.589Z"
   },
   {
    "duration": 46,
    "start_time": "2021-06-15T12:29:25.598Z"
   },
   {
    "duration": 12,
    "start_time": "2021-06-15T12:29:25.648Z"
   },
   {
    "duration": 89,
    "start_time": "2021-06-15T12:29:25.663Z"
   },
   {
    "duration": 913,
    "start_time": "2021-06-15T12:29:25.755Z"
   },
   {
    "duration": 1788,
    "start_time": "2021-06-15T12:29:26.671Z"
   },
   {
    "duration": 326,
    "start_time": "2021-06-15T14:27:44.665Z"
   },
   {
    "duration": 1207,
    "start_time": "2021-06-15T14:27:59.703Z"
   },
   {
    "duration": 8,
    "start_time": "2021-06-15T14:28:00.913Z"
   },
   {
    "duration": 63,
    "start_time": "2021-06-15T14:28:00.924Z"
   },
   {
    "duration": 2561,
    "start_time": "2021-06-15T14:28:00.989Z"
   },
   {
    "duration": 3079,
    "start_time": "2021-06-15T14:28:03.554Z"
   },
   {
    "duration": 20755,
    "start_time": "2021-06-15T14:28:06.636Z"
   },
   {
    "duration": 6,
    "start_time": "2021-06-15T14:28:27.394Z"
   },
   {
    "duration": 34,
    "start_time": "2021-06-15T14:28:27.404Z"
   },
   {
    "duration": 20,
    "start_time": "2021-06-15T14:28:27.441Z"
   },
   {
    "duration": 66,
    "start_time": "2021-06-15T14:28:27.463Z"
   },
   {
    "duration": 802,
    "start_time": "2021-06-15T14:28:27.554Z"
   },
   {
    "duration": 1615,
    "start_time": "2021-06-15T14:28:28.359Z"
   },
   {
    "duration": 1199,
    "start_time": "2021-06-15T17:52:00.562Z"
   },
   {
    "duration": 11,
    "start_time": "2021-06-15T17:52:01.766Z"
   },
   {
    "duration": 41,
    "start_time": "2021-06-15T17:52:01.781Z"
   },
   {
    "duration": 3355,
    "start_time": "2021-06-15T17:52:01.826Z"
   },
   {
    "duration": 3244,
    "start_time": "2021-06-15T17:52:05.184Z"
   },
   {
    "duration": 19005,
    "start_time": "2021-06-15T17:52:08.431Z"
   },
   {
    "duration": 19,
    "start_time": "2021-06-15T17:52:27.439Z"
   },
   {
    "duration": 39,
    "start_time": "2021-06-15T17:52:27.463Z"
   },
   {
    "duration": 13,
    "start_time": "2021-06-15T17:52:27.506Z"
   },
   {
    "duration": 132,
    "start_time": "2021-06-15T17:52:27.522Z"
   },
   {
    "duration": 1719,
    "start_time": "2021-06-15T17:52:27.658Z"
   },
   {
    "duration": 2249,
    "start_time": "2021-06-15T17:52:29.380Z"
   },
   {
    "duration": 1098,
    "start_time": "2021-06-15T18:01:28.173Z"
   },
   {
    "duration": 7,
    "start_time": "2021-06-15T18:01:29.274Z"
   },
   {
    "duration": 33,
    "start_time": "2021-06-15T18:01:29.284Z"
   },
   {
    "duration": 3044,
    "start_time": "2021-06-15T18:01:29.319Z"
   },
   {
    "duration": 2900,
    "start_time": "2021-06-15T18:01:32.365Z"
   },
   {
    "duration": 19069,
    "start_time": "2021-06-15T18:01:35.268Z"
   },
   {
    "duration": 17,
    "start_time": "2021-06-15T18:01:54.340Z"
   },
   {
    "duration": 35,
    "start_time": "2021-06-15T18:01:54.362Z"
   },
   {
    "duration": 16,
    "start_time": "2021-06-15T18:01:54.401Z"
   },
   {
    "duration": 114,
    "start_time": "2021-06-15T18:01:54.420Z"
   },
   {
    "duration": 895,
    "start_time": "2021-06-15T18:01:54.537Z"
   },
   {
    "duration": 1671,
    "start_time": "2021-06-15T18:01:55.435Z"
   },
   {
    "duration": 1098,
    "start_time": "2021-06-15T18:03:45.328Z"
   },
   {
    "duration": 7,
    "start_time": "2021-06-15T18:03:46.429Z"
   },
   {
    "duration": 41,
    "start_time": "2021-06-15T18:03:46.440Z"
   },
   {
    "duration": 2974,
    "start_time": "2021-06-15T18:03:46.484Z"
   },
   {
    "duration": 2781,
    "start_time": "2021-06-15T18:03:49.460Z"
   },
   {
    "duration": 18429,
    "start_time": "2021-06-15T18:03:52.243Z"
   },
   {
    "duration": 7,
    "start_time": "2021-06-15T18:04:10.674Z"
   },
   {
    "duration": 26,
    "start_time": "2021-06-15T18:04:10.685Z"
   },
   {
    "duration": 44,
    "start_time": "2021-06-15T18:04:10.714Z"
   },
   {
    "duration": 61,
    "start_time": "2021-06-15T18:04:10.760Z"
   },
   {
    "duration": 842,
    "start_time": "2021-06-15T18:04:10.823Z"
   },
   {
    "duration": 1755,
    "start_time": "2021-06-15T18:04:11.667Z"
   },
   {
    "duration": 354,
    "start_time": "2021-06-15T18:04:13.424Z"
   },
   {
    "duration": 1263,
    "start_time": "2021-06-15T18:09:34.811Z"
   },
   {
    "duration": 9,
    "start_time": "2021-06-15T18:09:36.077Z"
   },
   {
    "duration": 50,
    "start_time": "2021-06-15T18:09:36.090Z"
   },
   {
    "duration": 2378,
    "start_time": "2021-06-15T18:09:36.144Z"
   },
   {
    "duration": 2562,
    "start_time": "2021-06-15T18:09:38.524Z"
   },
   {
    "duration": 17612,
    "start_time": "2021-06-15T18:09:41.088Z"
   },
   {
    "duration": 7,
    "start_time": "2021-06-15T18:09:58.702Z"
   },
   {
    "duration": 46,
    "start_time": "2021-06-15T18:09:58.713Z"
   },
   {
    "duration": 11,
    "start_time": "2021-06-15T18:09:58.762Z"
   },
   {
    "duration": 61,
    "start_time": "2021-06-15T18:09:58.775Z"
   },
   {
    "duration": 913,
    "start_time": "2021-06-15T18:09:58.855Z"
   },
   {
    "duration": 1655,
    "start_time": "2021-06-15T18:09:59.771Z"
   },
   {
    "duration": 352,
    "start_time": "2021-06-15T18:10:01.428Z"
   },
   {
    "duration": 1095,
    "start_time": "2021-06-15T18:11:45.515Z"
   },
   {
    "duration": 7,
    "start_time": "2021-06-15T18:11:46.614Z"
   },
   {
    "duration": 48,
    "start_time": "2021-06-15T18:11:46.624Z"
   },
   {
    "duration": 2374,
    "start_time": "2021-06-15T18:11:46.675Z"
   },
   {
    "duration": 2543,
    "start_time": "2021-06-15T18:11:49.051Z"
   },
   {
    "duration": 18273,
    "start_time": "2021-06-15T18:11:51.596Z"
   },
   {
    "duration": 7,
    "start_time": "2021-06-15T18:12:09.872Z"
   },
   {
    "duration": 41,
    "start_time": "2021-06-15T18:12:09.884Z"
   },
   {
    "duration": 26,
    "start_time": "2021-06-15T18:12:09.928Z"
   },
   {
    "duration": 61,
    "start_time": "2021-06-15T18:12:09.957Z"
   },
   {
    "duration": 1033,
    "start_time": "2021-06-15T18:12:10.021Z"
   },
   {
    "duration": 1925,
    "start_time": "2021-06-15T18:12:11.057Z"
   },
   {
    "duration": 352,
    "start_time": "2021-06-15T18:12:12.985Z"
   },
   {
    "duration": 267,
    "start_time": "2021-06-15T18:12:13.339Z"
   },
   {
    "duration": 492,
    "start_time": "2021-06-15T18:12:13.609Z"
   },
   {
    "duration": 33,
    "start_time": "2021-06-15T18:12:14.103Z"
   },
   {
    "duration": 14,
    "start_time": "2021-06-15T18:12:14.155Z"
   },
   {
    "duration": 670,
    "start_time": "2021-06-15T18:12:14.172Z"
   },
   {
    "duration": 31,
    "start_time": "2021-06-15T18:12:14.844Z"
   },
   {
    "duration": 17,
    "start_time": "2021-06-15T18:12:14.879Z"
   },
   {
    "duration": 13314,
    "start_time": "2021-06-15T18:12:14.900Z"
   },
   {
    "duration": 1473,
    "start_time": "2021-06-15T18:12:28.218Z"
   },
   {
    "duration": 2331,
    "start_time": "2021-06-15T18:12:29.695Z"
   },
   {
    "duration": 250,
    "start_time": "2021-06-15T18:14:37.086Z"
   },
   {
    "duration": 348,
    "start_time": "2021-06-15T18:17:43.148Z"
   },
   {
    "duration": 226,
    "start_time": "2021-06-15T18:20:55.702Z"
   },
   {
    "duration": 219,
    "start_time": "2021-06-15T18:21:33.997Z"
   },
   {
    "duration": 229,
    "start_time": "2021-06-15T18:21:55.011Z"
   },
   {
    "duration": 219,
    "start_time": "2021-06-15T18:22:08.466Z"
   },
   {
    "duration": 242,
    "start_time": "2021-06-15T18:23:10.150Z"
   },
   {
    "duration": 242,
    "start_time": "2021-06-15T18:23:23.678Z"
   },
   {
    "duration": 249,
    "start_time": "2021-06-15T18:24:09.680Z"
   },
   {
    "duration": 248,
    "start_time": "2021-06-15T18:26:54.055Z"
   },
   {
    "duration": 741,
    "start_time": "2021-06-15T18:29:16.382Z"
   },
   {
    "duration": 290,
    "start_time": "2021-06-15T18:29:57.616Z"
   },
   {
    "duration": 261,
    "start_time": "2021-06-15T18:30:10.028Z"
   },
   {
    "duration": 328,
    "start_time": "2021-06-15T18:30:24.787Z"
   },
   {
    "duration": 256,
    "start_time": "2021-06-15T18:32:02.699Z"
   },
   {
    "duration": 235,
    "start_time": "2021-06-15T18:32:16.259Z"
   },
   {
    "duration": 250,
    "start_time": "2021-06-15T18:32:30.755Z"
   },
   {
    "duration": 244,
    "start_time": "2021-06-15T18:32:40.280Z"
   },
   {
    "duration": 247,
    "start_time": "2021-06-15T18:38:57.238Z"
   },
   {
    "duration": 364,
    "start_time": "2021-06-15T18:54:19.298Z"
   },
   {
    "duration": 267,
    "start_time": "2021-06-15T18:54:34.262Z"
   },
   {
    "duration": 251,
    "start_time": "2021-06-15T18:54:45.574Z"
   },
   {
    "duration": 101,
    "start_time": "2021-06-15T19:04:56.938Z"
   },
   {
    "duration": 105,
    "start_time": "2021-06-15T19:21:35.677Z"
   },
   {
    "duration": 289,
    "start_time": "2021-06-15T19:22:10.193Z"
   },
   {
    "duration": 330,
    "start_time": "2021-06-15T19:23:26.062Z"
   },
   {
    "duration": 288,
    "start_time": "2021-06-15T19:24:06.905Z"
   },
   {
    "duration": 1089,
    "start_time": "2021-06-15T19:24:26.933Z"
   },
   {
    "duration": 7,
    "start_time": "2021-06-15T19:24:28.025Z"
   },
   {
    "duration": 43,
    "start_time": "2021-06-15T19:24:28.036Z"
   },
   {
    "duration": 2421,
    "start_time": "2021-06-15T19:24:28.082Z"
   },
   {
    "duration": 2555,
    "start_time": "2021-06-15T19:24:30.505Z"
   },
   {
    "duration": 17527,
    "start_time": "2021-06-15T19:24:33.062Z"
   },
   {
    "duration": 9,
    "start_time": "2021-06-15T19:24:50.591Z"
   },
   {
    "duration": 54,
    "start_time": "2021-06-15T19:24:50.606Z"
   },
   {
    "duration": 11,
    "start_time": "2021-06-15T19:24:50.663Z"
   },
   {
    "duration": 86,
    "start_time": "2021-06-15T19:24:50.677Z"
   },
   {
    "duration": 831,
    "start_time": "2021-06-15T19:24:50.766Z"
   },
   {
    "duration": 1654,
    "start_time": "2021-06-15T19:24:51.600Z"
   },
   {
    "duration": 361,
    "start_time": "2021-06-15T19:24:53.256Z"
   },
   {
    "duration": 261,
    "start_time": "2021-06-15T19:24:53.620Z"
   },
   {
    "duration": 269,
    "start_time": "2021-06-15T19:24:53.884Z"
   },
   {
    "duration": 259,
    "start_time": "2021-06-15T19:24:54.156Z"
   },
   {
    "duration": 263,
    "start_time": "2021-06-15T19:24:54.418Z"
   },
   {
    "duration": 424,
    "start_time": "2021-06-15T19:24:54.683Z"
   },
   {
    "duration": -1243,
    "start_time": "2021-06-15T19:24:56.353Z"
   },
   {
    "duration": -1259,
    "start_time": "2021-06-15T19:24:56.370Z"
   },
   {
    "duration": -1264,
    "start_time": "2021-06-15T19:24:56.377Z"
   },
   {
    "duration": -1268,
    "start_time": "2021-06-15T19:24:56.382Z"
   },
   {
    "duration": -1274,
    "start_time": "2021-06-15T19:24:56.389Z"
   },
   {
    "duration": -1279,
    "start_time": "2021-06-15T19:24:56.395Z"
   },
   {
    "duration": -1284,
    "start_time": "2021-06-15T19:24:56.402Z"
   },
   {
    "duration": -1288,
    "start_time": "2021-06-15T19:24:56.407Z"
   },
   {
    "duration": 697,
    "start_time": "2021-06-15T19:25:30.830Z"
   },
   {
    "duration": 523,
    "start_time": "2021-06-15T19:27:48.217Z"
   },
   {
    "duration": 470,
    "start_time": "2021-06-15T19:28:00.204Z"
   },
   {
    "duration": 397,
    "start_time": "2021-06-15T19:42:20.494Z"
   },
   {
    "duration": 220,
    "start_time": "2021-06-15T19:45:44.507Z"
   },
   {
    "duration": 240,
    "start_time": "2021-06-15T19:45:55.536Z"
   },
   {
    "duration": 228,
    "start_time": "2021-06-15T19:46:03.028Z"
   },
   {
    "duration": 246,
    "start_time": "2021-06-15T19:46:49.464Z"
   },
   {
    "duration": 461,
    "start_time": "2021-06-15T19:48:39.396Z"
   },
   {
    "duration": 1036,
    "start_time": "2021-06-15T19:58:05.397Z"
   },
   {
    "duration": 20,
    "start_time": "2021-06-15T19:58:06.436Z"
   },
   {
    "duration": 27,
    "start_time": "2021-06-15T19:58:06.460Z"
   },
   {
    "duration": 2336,
    "start_time": "2021-06-15T19:58:06.490Z"
   },
   {
    "duration": 2526,
    "start_time": "2021-06-15T19:58:08.828Z"
   },
   {
    "duration": 16946,
    "start_time": "2021-06-15T19:58:11.357Z"
   },
   {
    "duration": 7,
    "start_time": "2021-06-15T19:58:28.306Z"
   },
   {
    "duration": 47,
    "start_time": "2021-06-15T19:58:28.317Z"
   },
   {
    "duration": 12,
    "start_time": "2021-06-15T19:58:28.366Z"
   },
   {
    "duration": 83,
    "start_time": "2021-06-15T19:58:28.381Z"
   },
   {
    "duration": 813,
    "start_time": "2021-06-15T19:58:28.467Z"
   },
   {
    "duration": 1640,
    "start_time": "2021-06-15T19:58:29.283Z"
   },
   {
    "duration": 358,
    "start_time": "2021-06-15T19:58:30.925Z"
   },
   {
    "duration": 244,
    "start_time": "2021-06-15T19:58:31.286Z"
   },
   {
    "duration": 260,
    "start_time": "2021-06-15T19:58:31.533Z"
   },
   {
    "duration": 248,
    "start_time": "2021-06-15T19:58:31.795Z"
   },
   {
    "duration": 259,
    "start_time": "2021-06-15T19:58:32.046Z"
   },
   {
    "duration": 258,
    "start_time": "2021-06-15T19:58:32.308Z"
   },
   {
    "duration": 523,
    "start_time": "2021-06-15T19:58:32.569Z"
   },
   {
    "duration": 33,
    "start_time": "2021-06-15T19:58:33.094Z"
   },
   {
    "duration": 35,
    "start_time": "2021-06-15T19:58:33.129Z"
   },
   {
    "duration": 668,
    "start_time": "2021-06-15T19:58:33.166Z"
   },
   {
    "duration": 39,
    "start_time": "2021-06-15T19:58:33.838Z"
   },
   {
    "duration": 11,
    "start_time": "2021-06-15T19:58:33.879Z"
   },
   {
    "duration": 16842,
    "start_time": "2021-06-15T19:58:33.893Z"
   },
   {
    "duration": 641,
    "start_time": "2021-06-15T20:04:08.906Z"
   },
   {
    "duration": 1089,
    "start_time": "2021-06-15T20:07:00.487Z"
   },
   {
    "duration": 7,
    "start_time": "2021-06-15T20:07:01.579Z"
   },
   {
    "duration": 27,
    "start_time": "2021-06-15T20:07:01.589Z"
   },
   {
    "duration": 2379,
    "start_time": "2021-06-15T20:07:01.619Z"
   },
   {
    "duration": 2488,
    "start_time": "2021-06-15T20:07:04.000Z"
   },
   {
    "duration": 18265,
    "start_time": "2021-06-15T20:07:06.491Z"
   },
   {
    "duration": 7,
    "start_time": "2021-06-15T20:07:24.759Z"
   },
   {
    "duration": 26,
    "start_time": "2021-06-15T20:07:24.771Z"
   },
   {
    "duration": 13,
    "start_time": "2021-06-15T20:07:24.801Z"
   },
   {
    "duration": 98,
    "start_time": "2021-06-15T20:07:24.817Z"
   },
   {
    "duration": 843,
    "start_time": "2021-06-15T20:07:24.918Z"
   },
   {
    "duration": 1786,
    "start_time": "2021-06-15T20:07:25.763Z"
   },
   {
    "duration": 345,
    "start_time": "2021-06-15T20:07:27.555Z"
   },
   {
    "duration": 354,
    "start_time": "2021-06-15T20:07:27.903Z"
   },
   {
    "duration": 363,
    "start_time": "2021-06-15T20:07:28.260Z"
   },
   {
    "duration": 345,
    "start_time": "2021-06-15T20:07:28.626Z"
   },
   {
    "duration": 365,
    "start_time": "2021-06-15T20:07:28.974Z"
   },
   {
    "duration": 333,
    "start_time": "2021-06-15T20:07:29.342Z"
   },
   {
    "duration": 528,
    "start_time": "2021-06-15T20:07:29.678Z"
   },
   {
    "duration": 47,
    "start_time": "2021-06-15T20:07:30.209Z"
   },
   {
    "duration": 15,
    "start_time": "2021-06-15T20:07:30.258Z"
   },
   {
    "duration": 672,
    "start_time": "2021-06-15T20:07:30.276Z"
   },
   {
    "duration": 1249,
    "start_time": "2021-06-15T20:13:29.036Z"
   },
   {
    "duration": 8,
    "start_time": "2021-06-15T20:13:30.287Z"
   },
   {
    "duration": 61,
    "start_time": "2021-06-15T20:13:30.297Z"
   },
   {
    "duration": 2395,
    "start_time": "2021-06-15T20:13:30.361Z"
   },
   {
    "duration": 2514,
    "start_time": "2021-06-15T20:13:32.759Z"
   },
   {
    "duration": 17859,
    "start_time": "2021-06-15T20:13:35.275Z"
   },
   {
    "duration": 7,
    "start_time": "2021-06-15T20:13:53.136Z"
   },
   {
    "duration": 28,
    "start_time": "2021-06-15T20:13:53.155Z"
   },
   {
    "duration": 11,
    "start_time": "2021-06-15T20:13:53.186Z"
   },
   {
    "duration": 94,
    "start_time": "2021-06-15T20:13:53.199Z"
   },
   {
    "duration": 859,
    "start_time": "2021-06-15T20:13:53.295Z"
   },
   {
    "duration": 1686,
    "start_time": "2021-06-15T20:13:54.157Z"
   },
   {
    "duration": 369,
    "start_time": "2021-06-15T20:13:55.845Z"
   },
   {
    "duration": 259,
    "start_time": "2021-06-15T20:13:56.216Z"
   },
   {
    "duration": 261,
    "start_time": "2021-06-15T20:13:56.478Z"
   },
   {
    "duration": 265,
    "start_time": "2021-06-15T20:13:56.742Z"
   },
   {
    "duration": 275,
    "start_time": "2021-06-15T20:13:57.010Z"
   },
   {
    "duration": 277,
    "start_time": "2021-06-15T20:13:57.287Z"
   },
   {
    "duration": 553,
    "start_time": "2021-06-15T20:13:57.567Z"
   },
   {
    "duration": 49,
    "start_time": "2021-06-15T20:13:58.122Z"
   },
   {
    "duration": 15,
    "start_time": "2021-06-15T20:13:58.174Z"
   },
   {
    "duration": 669,
    "start_time": "2021-06-15T20:13:58.191Z"
   },
   {
    "duration": 1063,
    "start_time": "2021-06-15T20:16:05.004Z"
   },
   {
    "duration": 7,
    "start_time": "2021-06-15T20:16:06.070Z"
   },
   {
    "duration": 30,
    "start_time": "2021-06-15T20:16:06.080Z"
   },
   {
    "duration": 2511,
    "start_time": "2021-06-15T20:16:06.113Z"
   },
   {
    "duration": 2641,
    "start_time": "2021-06-15T20:16:08.626Z"
   },
   {
    "duration": 1113,
    "start_time": "2021-06-15T20:19:31.735Z"
   },
   {
    "duration": 7,
    "start_time": "2021-06-15T20:19:32.850Z"
   },
   {
    "duration": 31,
    "start_time": "2021-06-15T20:19:32.860Z"
   },
   {
    "duration": 2323,
    "start_time": "2021-06-15T20:19:32.893Z"
   },
   {
    "duration": 2466,
    "start_time": "2021-06-15T20:19:35.219Z"
   },
   {
    "duration": 17562,
    "start_time": "2021-06-15T20:19:37.687Z"
   },
   {
    "duration": 7,
    "start_time": "2021-06-15T20:19:55.254Z"
   },
   {
    "duration": 25,
    "start_time": "2021-06-15T20:19:55.264Z"
   },
   {
    "duration": 11,
    "start_time": "2021-06-15T20:19:55.292Z"
   },
   {
    "duration": 90,
    "start_time": "2021-06-15T20:19:55.306Z"
   },
   {
    "duration": 815,
    "start_time": "2021-06-15T20:19:55.399Z"
   },
   {
    "duration": 1609,
    "start_time": "2021-06-15T20:19:56.217Z"
   },
   {
    "duration": 350,
    "start_time": "2021-06-15T20:19:57.829Z"
   },
   {
    "duration": 258,
    "start_time": "2021-06-15T20:19:58.182Z"
   },
   {
    "duration": 257,
    "start_time": "2021-06-15T20:19:58.442Z"
   },
   {
    "duration": 240,
    "start_time": "2021-06-15T20:19:58.702Z"
   },
   {
    "duration": 258,
    "start_time": "2021-06-15T20:19:58.945Z"
   },
   {
    "duration": 256,
    "start_time": "2021-06-15T20:19:59.205Z"
   },
   {
    "duration": 545,
    "start_time": "2021-06-15T20:19:59.463Z"
   },
   {
    "duration": 46,
    "start_time": "2021-06-15T20:20:00.010Z"
   },
   {
    "duration": 13,
    "start_time": "2021-06-15T20:20:00.059Z"
   },
   {
    "duration": 638,
    "start_time": "2021-06-15T20:20:00.075Z"
   },
   {
    "duration": 63304,
    "start_time": "2021-06-15T20:20:00.717Z"
   },
   {
    "duration": 34,
    "start_time": "2021-06-15T20:21:04.023Z"
   },
   {
    "duration": 13,
    "start_time": "2021-06-15T20:21:04.059Z"
   },
   {
    "duration": 417,
    "start_time": "2021-06-15T20:33:04.763Z"
   },
   {
    "duration": 1011,
    "start_time": "2021-06-15T20:35:20.998Z"
   },
   {
    "duration": 9,
    "start_time": "2021-06-15T20:35:22.013Z"
   },
   {
    "duration": 51,
    "start_time": "2021-06-15T20:35:22.026Z"
   },
   {
    "duration": 2307,
    "start_time": "2021-06-15T20:35:22.081Z"
   },
   {
    "duration": 2502,
    "start_time": "2021-06-15T20:35:24.390Z"
   },
   {
    "duration": 1133,
    "start_time": "2021-06-16T04:49:28.499Z"
   },
   {
    "duration": 7,
    "start_time": "2021-06-16T04:49:29.634Z"
   },
   {
    "duration": 27,
    "start_time": "2021-06-16T04:49:29.644Z"
   },
   {
    "duration": 2420,
    "start_time": "2021-06-16T04:49:29.709Z"
   },
   {
    "duration": 2656,
    "start_time": "2021-06-16T04:49:32.131Z"
   },
   {
    "duration": 17463,
    "start_time": "2021-06-16T04:49:34.789Z"
   },
   {
    "duration": 8,
    "start_time": "2021-06-16T04:49:52.255Z"
   },
   {
    "duration": 56,
    "start_time": "2021-06-16T04:49:52.269Z"
   },
   {
    "duration": 15,
    "start_time": "2021-06-16T04:49:52.329Z"
   },
   {
    "duration": 96,
    "start_time": "2021-06-16T04:49:52.347Z"
   },
   {
    "duration": 852,
    "start_time": "2021-06-16T04:49:52.445Z"
   },
   {
    "duration": 1668,
    "start_time": "2021-06-16T04:49:53.300Z"
   },
   {
    "duration": 368,
    "start_time": "2021-06-16T04:49:54.971Z"
   },
   {
    "duration": 263,
    "start_time": "2021-06-16T04:49:55.342Z"
   },
   {
    "duration": 270,
    "start_time": "2021-06-16T04:49:55.607Z"
   },
   {
    "duration": 257,
    "start_time": "2021-06-16T04:49:55.880Z"
   },
   {
    "duration": 288,
    "start_time": "2021-06-16T04:49:56.139Z"
   },
   {
    "duration": 271,
    "start_time": "2021-06-16T04:49:56.429Z"
   },
   {
    "duration": 544,
    "start_time": "2021-06-16T04:49:56.702Z"
   },
   {
    "duration": 35,
    "start_time": "2021-06-16T04:49:57.249Z"
   },
   {
    "duration": 35,
    "start_time": "2021-06-16T04:49:57.286Z"
   },
   {
    "duration": 691,
    "start_time": "2021-06-16T04:49:57.323Z"
   },
   {
    "duration": 363,
    "start_time": "2021-06-16T04:49:58.018Z"
   },
   {
    "duration": 40,
    "start_time": "2021-06-16T04:49:58.383Z"
   },
   {
    "duration": 12,
    "start_time": "2021-06-16T04:49:58.426Z"
   },
   {
    "duration": 16125,
    "start_time": "2021-06-16T04:49:58.441Z"
   },
   {
    "duration": 1242,
    "start_time": "2021-06-16T04:50:14.570Z"
   },
   {
    "duration": 2494,
    "start_time": "2021-06-16T04:50:15.814Z"
   },
   {
    "duration": 333,
    "start_time": "2021-06-16T04:52:21.244Z"
   },
   {
    "duration": 330,
    "start_time": "2021-06-16T04:53:49.620Z"
   },
   {
    "duration": 9121,
    "start_time": "2021-06-16T04:55:40.553Z"
   },
   {
    "duration": 331,
    "start_time": "2021-06-16T04:56:11.419Z"
   },
   {
    "duration": 334,
    "start_time": "2021-06-16T04:58:13.551Z"
   },
   {
    "duration": 693,
    "start_time": "2021-06-16T04:58:50.418Z"
   },
   {
    "duration": 1009,
    "start_time": "2021-06-16T04:59:37.420Z"
   },
   {
    "duration": 27,
    "start_time": "2021-06-16T05:05:14.050Z"
   },
   {
    "duration": 1093,
    "start_time": "2021-06-16T05:05:44.429Z"
   },
   {
    "duration": 8,
    "start_time": "2021-06-16T05:05:45.525Z"
   },
   {
    "duration": 29,
    "start_time": "2021-06-16T05:05:45.538Z"
   },
   {
    "duration": 2431,
    "start_time": "2021-06-16T05:05:45.610Z"
   },
   {
    "duration": 2558,
    "start_time": "2021-06-16T05:05:48.043Z"
   },
   {
    "duration": 18011,
    "start_time": "2021-06-16T05:05:50.604Z"
   },
   {
    "duration": 7,
    "start_time": "2021-06-16T05:06:08.618Z"
   },
   {
    "duration": 49,
    "start_time": "2021-06-16T05:06:08.629Z"
   },
   {
    "duration": 12,
    "start_time": "2021-06-16T05:06:08.681Z"
   },
   {
    "duration": 60,
    "start_time": "2021-06-16T05:06:08.708Z"
   },
   {
    "duration": 869,
    "start_time": "2021-06-16T05:06:08.771Z"
   },
   {
    "duration": 1647,
    "start_time": "2021-06-16T05:06:09.643Z"
   },
   {
    "duration": 363,
    "start_time": "2021-06-16T05:06:11.292Z"
   },
   {
    "duration": 254,
    "start_time": "2021-06-16T05:06:11.657Z"
   },
   {
    "duration": 255,
    "start_time": "2021-06-16T05:06:11.913Z"
   },
   {
    "duration": 259,
    "start_time": "2021-06-16T05:06:12.170Z"
   },
   {
    "duration": 272,
    "start_time": "2021-06-16T05:06:12.431Z"
   },
   {
    "duration": 259,
    "start_time": "2021-06-16T05:06:12.708Z"
   },
   {
    "duration": 553,
    "start_time": "2021-06-16T05:06:12.970Z"
   },
   {
    "duration": 34,
    "start_time": "2021-06-16T05:06:13.525Z"
   },
   {
    "duration": 14,
    "start_time": "2021-06-16T05:06:13.561Z"
   },
   {
    "duration": 684,
    "start_time": "2021-06-16T05:06:13.577Z"
   },
   {
    "duration": 368,
    "start_time": "2021-06-16T05:06:14.266Z"
   },
   {
    "duration": 350,
    "start_time": "2021-06-16T05:06:14.636Z"
   },
   {
    "duration": 1032,
    "start_time": "2021-06-16T05:06:14.988Z"
   },
   {
    "duration": 27,
    "start_time": "2021-06-16T05:06:16.022Z"
   },
   {
    "duration": 11,
    "start_time": "2021-06-16T05:06:16.052Z"
   },
   {
    "duration": 15716,
    "start_time": "2021-06-16T05:06:16.065Z"
   },
   {
    "duration": 1244,
    "start_time": "2021-06-16T05:06:31.784Z"
   },
   {
    "duration": 2911,
    "start_time": "2021-06-16T05:06:33.031Z"
   },
   {
    "duration": 39,
    "start_time": "2021-06-16T05:06:53.454Z"
   },
   {
    "duration": 1132,
    "start_time": "2021-06-16T05:12:44.982Z"
   },
   {
    "duration": 7,
    "start_time": "2021-06-16T05:12:46.117Z"
   },
   {
    "duration": 32,
    "start_time": "2021-06-16T05:12:46.127Z"
   },
   {
    "duration": 2432,
    "start_time": "2021-06-16T05:12:46.162Z"
   },
   {
    "duration": 2552,
    "start_time": "2021-06-16T05:12:48.596Z"
   },
   {
    "duration": 17432,
    "start_time": "2021-06-16T05:12:51.150Z"
   },
   {
    "duration": 24,
    "start_time": "2021-06-16T05:13:08.585Z"
   },
   {
    "duration": 26,
    "start_time": "2021-06-16T05:13:08.614Z"
   },
   {
    "duration": 10,
    "start_time": "2021-06-16T05:13:08.645Z"
   },
   {
    "duration": 59,
    "start_time": "2021-06-16T05:13:08.708Z"
   },
   {
    "duration": 871,
    "start_time": "2021-06-16T05:13:08.770Z"
   },
   {
    "duration": 1691,
    "start_time": "2021-06-16T05:13:09.644Z"
   },
   {
    "duration": 379,
    "start_time": "2021-06-16T05:13:11.337Z"
   },
   {
    "duration": 267,
    "start_time": "2021-06-16T05:13:11.719Z"
   },
   {
    "duration": 275,
    "start_time": "2021-06-16T05:13:11.988Z"
   },
   {
    "duration": 259,
    "start_time": "2021-06-16T05:13:12.265Z"
   },
   {
    "duration": 260,
    "start_time": "2021-06-16T05:13:12.526Z"
   },
   {
    "duration": 275,
    "start_time": "2021-06-16T05:13:12.789Z"
   },
   {
    "duration": 558,
    "start_time": "2021-06-16T05:13:13.066Z"
   },
   {
    "duration": 33,
    "start_time": "2021-06-16T05:13:13.626Z"
   },
   {
    "duration": 50,
    "start_time": "2021-06-16T05:13:13.664Z"
   },
   {
    "duration": 655,
    "start_time": "2021-06-16T05:13:13.717Z"
   },
   {
    "duration": 365,
    "start_time": "2021-06-16T05:13:14.374Z"
   },
   {
    "duration": 351,
    "start_time": "2021-06-16T05:13:14.742Z"
   },
   {
    "duration": 1044,
    "start_time": "2021-06-16T05:13:15.095Z"
   },
   {
    "duration": 34,
    "start_time": "2021-06-16T05:13:16.141Z"
   },
   {
    "duration": 11,
    "start_time": "2021-06-16T05:13:16.210Z"
   },
   {
    "duration": 15886,
    "start_time": "2021-06-16T05:13:16.224Z"
   },
   {
    "duration": 235,
    "start_time": "2021-06-16T07:57:46.775Z"
   },
   {
    "duration": 561,
    "start_time": "2021-06-16T07:58:50.735Z"
   },
   {
    "duration": 1162,
    "start_time": "2021-06-16T07:59:05.434Z"
   },
   {
    "duration": 1441,
    "start_time": "2021-06-16T07:59:19.565Z"
   },
   {
    "duration": 1241,
    "start_time": "2021-06-16T07:59:32.513Z"
   },
   {
    "duration": 1278,
    "start_time": "2021-06-16T07:59:47.390Z"
   },
   {
    "duration": 1215,
    "start_time": "2021-06-16T08:00:11.156Z"
   },
   {
    "duration": 1202,
    "start_time": "2021-06-16T08:00:20.115Z"
   },
   {
    "duration": 1197,
    "start_time": "2021-06-16T08:00:30.725Z"
   },
   {
    "duration": 1457,
    "start_time": "2021-06-16T08:00:41.238Z"
   },
   {
    "duration": 1196,
    "start_time": "2021-06-16T08:00:52.026Z"
   },
   {
    "duration": 1628,
    "start_time": "2021-06-16T08:01:07.698Z"
   },
   {
    "duration": 1231,
    "start_time": "2021-06-16T08:01:19.003Z"
   },
   {
    "duration": 1229,
    "start_time": "2021-06-16T08:01:28.894Z"
   },
   {
    "duration": 612,
    "start_time": "2021-06-16T08:04:46.607Z"
   },
   {
    "duration": 624,
    "start_time": "2021-06-16T08:05:04.015Z"
   },
   {
    "duration": 622,
    "start_time": "2021-06-16T08:05:43.235Z"
   },
   {
    "duration": 1254,
    "start_time": "2021-06-16T08:06:57.475Z"
   },
   {
    "duration": 1211,
    "start_time": "2021-06-16T08:07:13.387Z"
   },
   {
    "duration": 648,
    "start_time": "2021-06-16T08:09:26.372Z"
   },
   {
    "duration": 643,
    "start_time": "2021-06-16T08:09:37.763Z"
   },
   {
    "duration": 611,
    "start_time": "2021-06-16T08:09:43.293Z"
   },
   {
    "duration": 386,
    "start_time": "2021-06-16T08:09:49.396Z"
   },
   {
    "duration": 339,
    "start_time": "2021-06-16T08:10:49.482Z"
   },
   {
    "duration": 326,
    "start_time": "2021-06-16T08:10:58.381Z"
   },
   {
    "duration": 662,
    "start_time": "2021-06-16T08:11:06.360Z"
   },
   {
    "duration": 665,
    "start_time": "2021-06-16T08:11:51.109Z"
   },
   {
    "duration": 950,
    "start_time": "2021-06-16T08:12:51.238Z"
   },
   {
    "duration": 1588,
    "start_time": "2021-06-16T08:15:02.803Z"
   },
   {
    "duration": 1667,
    "start_time": "2021-06-16T08:17:02.987Z"
   },
   {
    "duration": 1512,
    "start_time": "2021-06-16T08:19:46.613Z"
   },
   {
    "duration": 2750,
    "start_time": "2021-06-16T08:20:30.230Z"
   },
   {
    "duration": 2045,
    "start_time": "2021-06-16T08:21:45.167Z"
   },
   {
    "duration": 1984,
    "start_time": "2021-06-16T08:22:37.079Z"
   },
   {
    "duration": 1963,
    "start_time": "2021-06-16T08:22:48.838Z"
   },
   {
    "duration": 1571,
    "start_time": "2021-06-16T08:23:15.818Z"
   },
   {
    "duration": 1806,
    "start_time": "2021-06-16T08:25:32.892Z"
   },
   {
    "duration": 1534,
    "start_time": "2021-06-16T08:26:26.908Z"
   },
   {
    "duration": 1644,
    "start_time": "2021-06-16T08:26:47.572Z"
   },
   {
    "duration": 1584,
    "start_time": "2021-06-16T08:26:59.866Z"
   },
   {
    "duration": 1569,
    "start_time": "2021-06-16T08:27:23.385Z"
   },
   {
    "duration": 1635,
    "start_time": "2021-06-16T08:27:50.408Z"
   },
   {
    "duration": 2070,
    "start_time": "2021-06-16T08:29:01.244Z"
   },
   {
    "duration": 1644,
    "start_time": "2021-06-16T08:29:06.749Z"
   },
   {
    "duration": 1675,
    "start_time": "2021-06-16T08:29:17.944Z"
   },
   {
    "duration": 1574,
    "start_time": "2021-06-16T08:30:00.224Z"
   },
   {
    "duration": 1599,
    "start_time": "2021-06-16T08:30:23.471Z"
   },
   {
    "duration": 1610,
    "start_time": "2021-06-16T08:30:55.690Z"
   },
   {
    "duration": 1645,
    "start_time": "2021-06-16T08:31:07.165Z"
   },
   {
    "duration": 1610,
    "start_time": "2021-06-16T08:31:46.947Z"
   },
   {
    "duration": 3085,
    "start_time": "2021-06-16T08:32:19.386Z"
   },
   {
    "duration": 1582,
    "start_time": "2021-06-16T08:32:37.172Z"
   },
   {
    "duration": 364,
    "start_time": "2021-06-16T08:48:55.110Z"
   },
   {
    "duration": 684,
    "start_time": "2021-06-16T08:51:19.609Z"
   },
   {
    "duration": 493,
    "start_time": "2021-06-16T08:51:48.995Z"
   },
   {
    "duration": 459,
    "start_time": "2021-06-16T08:51:56.829Z"
   },
   {
    "duration": 821,
    "start_time": "2021-06-16T08:52:38.526Z"
   },
   {
    "duration": 521,
    "start_time": "2021-06-16T08:52:45.046Z"
   },
   {
    "duration": 534,
    "start_time": "2021-06-16T08:52:51.361Z"
   },
   {
    "duration": 578,
    "start_time": "2021-06-16T08:53:11.716Z"
   },
   {
    "duration": 706,
    "start_time": "2021-06-16T08:53:23.193Z"
   },
   {
    "duration": 608,
    "start_time": "2021-06-16T08:53:34.954Z"
   },
   {
    "duration": 569,
    "start_time": "2021-06-16T08:57:55.803Z"
   },
   {
    "duration": 583,
    "start_time": "2021-06-16T08:58:35.567Z"
   },
   {
    "duration": 535,
    "start_time": "2021-06-16T08:58:47.848Z"
   },
   {
    "duration": 523,
    "start_time": "2021-06-16T08:58:54.886Z"
   },
   {
    "duration": 504,
    "start_time": "2021-06-16T08:59:08.850Z"
   },
   {
    "duration": 504,
    "start_time": "2021-06-16T08:59:15.759Z"
   },
   {
    "duration": 501,
    "start_time": "2021-06-16T08:59:21.371Z"
   },
   {
    "duration": 518,
    "start_time": "2021-06-16T09:00:45.560Z"
   },
   {
    "duration": 540,
    "start_time": "2021-06-16T09:00:52.223Z"
   },
   {
    "duration": 604,
    "start_time": "2021-06-16T09:00:59.795Z"
   },
   {
    "duration": 673,
    "start_time": "2021-06-16T09:01:15.033Z"
   },
   {
    "duration": 1165,
    "start_time": "2021-06-16T09:02:50.462Z"
   },
   {
    "duration": 583,
    "start_time": "2021-06-16T09:03:30.703Z"
   },
   {
    "duration": 326,
    "start_time": "2021-06-16T09:03:46.712Z"
   },
   {
    "duration": 571,
    "start_time": "2021-06-16T09:03:59.445Z"
   },
   {
    "duration": 550,
    "start_time": "2021-06-16T09:04:12.025Z"
   },
   {
    "duration": 838,
    "start_time": "2021-06-16T09:06:04.028Z"
   },
   {
    "duration": 477,
    "start_time": "2021-06-16T09:06:11.214Z"
   },
   {
    "duration": 1154,
    "start_time": "2021-06-16T09:07:45.661Z"
   },
   {
    "duration": 1194,
    "start_time": "2021-06-16T09:07:55.238Z"
   },
   {
    "duration": 1707,
    "start_time": "2021-06-16T09:08:23.247Z"
   },
   {
    "duration": 1243,
    "start_time": "2021-06-16T09:21:42.275Z"
   },
   {
    "duration": 93,
    "start_time": "2021-06-16T09:22:16.718Z"
   },
   {
    "duration": 1310,
    "start_time": "2021-06-16T09:22:30.035Z"
   },
   {
    "duration": 1277,
    "start_time": "2021-06-16T09:22:39.165Z"
   },
   {
    "duration": 1271,
    "start_time": "2021-06-16T09:22:50.143Z"
   },
   {
    "duration": 1664,
    "start_time": "2021-06-16T09:23:41.412Z"
   },
   {
    "duration": 1241,
    "start_time": "2021-06-16T09:23:52.314Z"
   },
   {
    "duration": 1272,
    "start_time": "2021-06-16T09:24:28.566Z"
   },
   {
    "duration": 1235,
    "start_time": "2021-06-16T09:25:30.235Z"
   },
   {
    "duration": 1290,
    "start_time": "2021-06-16T09:25:50.810Z"
   },
   {
    "duration": 1245,
    "start_time": "2021-06-16T09:26:05.258Z"
   },
   {
    "duration": 2417,
    "start_time": "2021-06-16T09:32:48.774Z"
   },
   {
    "duration": 575,
    "start_time": "2021-06-16T09:33:52.949Z"
   },
   {
    "duration": 2117,
    "start_time": "2021-06-16T09:34:13.001Z"
   },
   {
    "duration": 1609,
    "start_time": "2021-06-16T09:34:25.835Z"
   },
   {
    "duration": 2403,
    "start_time": "2021-06-16T09:38:19.871Z"
   },
   {
    "duration": 2494,
    "start_time": "2021-06-16T09:39:00.349Z"
   },
   {
    "duration": 2461,
    "start_time": "2021-06-16T09:40:16.515Z"
   },
   {
    "duration": 2810,
    "start_time": "2021-06-16T09:40:47.373Z"
   },
   {
    "duration": 2487,
    "start_time": "2021-06-16T09:41:02.287Z"
   },
   {
    "duration": 2500,
    "start_time": "2021-06-16T09:41:14.602Z"
   },
   {
    "duration": 2658,
    "start_time": "2021-06-16T09:41:30.555Z"
   },
   {
    "duration": 2576,
    "start_time": "2021-06-16T09:42:43.698Z"
   },
   {
    "duration": 2933,
    "start_time": "2021-06-16T09:43:12.236Z"
   },
   {
    "duration": 2667,
    "start_time": "2021-06-16T09:43:32.696Z"
   },
   {
    "duration": 2549,
    "start_time": "2021-06-16T09:43:53.812Z"
   },
   {
    "duration": 2631,
    "start_time": "2021-06-16T09:45:05.049Z"
   },
   {
    "duration": 2830,
    "start_time": "2021-06-16T09:45:38.597Z"
   },
   {
    "duration": 3238,
    "start_time": "2021-06-16T09:47:54.520Z"
   },
   {
    "duration": 1715,
    "start_time": "2021-06-16T09:59:24.662Z"
   },
   {
    "duration": 1641,
    "start_time": "2021-06-16T09:59:35.250Z"
   },
   {
    "duration": 1722,
    "start_time": "2021-06-16T10:01:03.921Z"
   },
   {
    "duration": 1723,
    "start_time": "2021-06-16T10:01:19.071Z"
   },
   {
    "duration": 326,
    "start_time": "2021-06-16T21:00:05.867Z"
   },
   {
    "duration": 1088,
    "start_time": "2021-06-16T21:00:08.066Z"
   },
   {
    "duration": 7,
    "start_time": "2021-06-16T21:00:09.157Z"
   },
   {
    "duration": 35,
    "start_time": "2021-06-16T21:00:09.166Z"
   },
   {
    "duration": 2387,
    "start_time": "2021-06-16T21:00:09.203Z"
   },
   {
    "duration": 2760,
    "start_time": "2021-06-16T21:00:11.593Z"
   },
   {
    "duration": 58,
    "start_time": "2021-06-16T21:00:14.356Z"
   },
   {
    "duration": 248,
    "start_time": "2021-06-16T21:03:33.354Z"
   },
   {
    "duration": 8,
    "start_time": "2021-06-16T21:03:33.604Z"
   },
   {
    "duration": 52,
    "start_time": "2021-06-16T21:03:33.615Z"
   },
   {
    "duration": 2648,
    "start_time": "2021-06-16T21:03:33.670Z"
   },
   {
    "duration": 2414,
    "start_time": "2021-06-16T21:03:36.321Z"
   },
   {
    "duration": 63,
    "start_time": "2021-06-16T21:03:38.738Z"
   },
   {
    "duration": 1120,
    "start_time": "2021-06-16T21:09:15.468Z"
   },
   {
    "duration": 8,
    "start_time": "2021-06-16T21:09:16.590Z"
   },
   {
    "duration": 47,
    "start_time": "2021-06-16T21:09:16.601Z"
   },
   {
    "duration": 2323,
    "start_time": "2021-06-16T21:09:16.656Z"
   },
   {
    "duration": 2460,
    "start_time": "2021-06-16T21:09:18.981Z"
   },
   {
    "duration": 63,
    "start_time": "2021-06-16T21:09:21.443Z"
   },
   {
    "duration": 1049,
    "start_time": "2021-06-16T21:18:48.488Z"
   },
   {
    "duration": 17,
    "start_time": "2021-06-16T21:18:49.539Z"
   },
   {
    "duration": 32,
    "start_time": "2021-06-16T21:18:49.559Z"
   },
   {
    "duration": 2307,
    "start_time": "2021-06-16T21:18:49.593Z"
   },
   {
    "duration": 2451,
    "start_time": "2021-06-16T21:18:51.903Z"
   },
   {
    "duration": 57,
    "start_time": "2021-06-16T21:18:54.357Z"
   },
   {
    "duration": 17416,
    "start_time": "2021-06-16T21:18:54.417Z"
   },
   {
    "duration": 17,
    "start_time": "2021-06-16T21:19:11.837Z"
   },
   {
    "duration": 23,
    "start_time": "2021-06-16T21:19:11.857Z"
   },
   {
    "duration": 12,
    "start_time": "2021-06-16T21:19:11.883Z"
   },
   {
    "duration": 89,
    "start_time": "2021-06-16T21:19:11.897Z"
   },
   {
    "duration": 817,
    "start_time": "2021-06-16T21:19:11.989Z"
   },
   {
    "duration": 1674,
    "start_time": "2021-06-16T21:19:12.809Z"
   },
   {
    "duration": 346,
    "start_time": "2021-06-16T21:19:14.485Z"
   },
   {
    "duration": 253,
    "start_time": "2021-06-16T21:19:14.834Z"
   },
   {
    "duration": 278,
    "start_time": "2021-06-16T21:19:15.090Z"
   },
   {
    "duration": 247,
    "start_time": "2021-06-16T21:19:15.370Z"
   },
   {
    "duration": 253,
    "start_time": "2021-06-16T21:19:15.619Z"
   },
   {
    "duration": 262,
    "start_time": "2021-06-16T21:19:15.874Z"
   },
   {
    "duration": 513,
    "start_time": "2021-06-16T21:19:16.138Z"
   },
   {
    "duration": 33,
    "start_time": "2021-06-16T21:19:16.653Z"
   },
   {
    "duration": 14,
    "start_time": "2021-06-16T21:19:16.688Z"
   },
   {
    "duration": 637,
    "start_time": "2021-06-16T21:19:16.706Z"
   },
   {
    "duration": 561,
    "start_time": "2021-06-16T21:19:17.346Z"
   },
   {
    "duration": 497,
    "start_time": "2021-06-16T21:19:17.910Z"
   },
   {
    "duration": 1716,
    "start_time": "2021-06-16T21:19:18.410Z"
   },
   {
    "duration": 50,
    "start_time": "2021-06-16T21:19:20.128Z"
   },
   {
    "duration": 11,
    "start_time": "2021-06-16T21:19:20.181Z"
   },
   {
    "duration": 16145,
    "start_time": "2021-06-16T21:19:20.195Z"
   },
   {
    "duration": 1087,
    "start_time": "2021-06-17T04:44:27.637Z"
   },
   {
    "duration": 8,
    "start_time": "2021-06-17T04:44:28.727Z"
   },
   {
    "duration": 28,
    "start_time": "2021-06-17T04:44:28.739Z"
   },
   {
    "duration": 2334,
    "start_time": "2021-06-17T04:44:28.770Z"
   },
   {
    "duration": 2617,
    "start_time": "2021-06-17T04:44:31.107Z"
   },
   {
    "duration": 59,
    "start_time": "2021-06-17T04:44:33.726Z"
   },
   {
    "duration": 1070,
    "start_time": "2021-06-17T04:48:59.117Z"
   },
   {
    "duration": 7,
    "start_time": "2021-06-17T04:49:00.189Z"
   },
   {
    "duration": 43,
    "start_time": "2021-06-17T04:49:00.199Z"
   },
   {
    "duration": 259,
    "start_time": "2021-06-17T04:58:34.831Z"
   },
   {
    "duration": 31,
    "start_time": "2021-06-17T04:58:35.093Z"
   },
   {
    "duration": 28,
    "start_time": "2021-06-17T04:58:35.128Z"
   },
   {
    "duration": 314,
    "start_time": "2021-06-17T04:58:35.160Z"
   },
   {
    "duration": 92,
    "start_time": "2021-06-17T04:58:35.477Z"
   },
   {
    "duration": 22,
    "start_time": "2021-06-17T04:58:35.572Z"
   },
   {
    "duration": 2966,
    "start_time": "2021-06-17T04:58:35.597Z"
   },
   {
    "duration": 7,
    "start_time": "2021-06-17T04:58:38.567Z"
   },
   {
    "duration": 23,
    "start_time": "2021-06-17T04:58:38.578Z"
   },
   {
    "duration": 31,
    "start_time": "2021-06-17T04:58:38.603Z"
   },
   {
    "duration": 59,
    "start_time": "2021-06-17T04:58:38.637Z"
   },
   {
    "duration": 804,
    "start_time": "2021-06-17T04:58:38.723Z"
   },
   {
    "duration": 1583,
    "start_time": "2021-06-17T04:58:39.529Z"
   },
   {
    "duration": 350,
    "start_time": "2021-06-17T04:58:41.115Z"
   },
   {
    "duration": 274,
    "start_time": "2021-06-17T04:58:41.468Z"
   },
   {
    "duration": 262,
    "start_time": "2021-06-17T04:58:41.744Z"
   },
   {
    "duration": 250,
    "start_time": "2021-06-17T04:58:42.008Z"
   },
   {
    "duration": 252,
    "start_time": "2021-06-17T04:58:42.260Z"
   },
   {
    "duration": 263,
    "start_time": "2021-06-17T04:58:42.514Z"
   },
   {
    "duration": 477,
    "start_time": "2021-06-17T04:58:42.780Z"
   },
   {
    "duration": 34,
    "start_time": "2021-06-17T04:58:43.259Z"
   },
   {
    "duration": 36,
    "start_time": "2021-06-17T04:58:43.295Z"
   },
   {
    "duration": 700,
    "start_time": "2021-06-17T04:58:43.338Z"
   },
   {
    "duration": 555,
    "start_time": "2021-06-17T04:58:44.042Z"
   },
   {
    "duration": 528,
    "start_time": "2021-06-17T04:58:44.600Z"
   },
   {
    "duration": 1600,
    "start_time": "2021-06-17T04:58:45.130Z"
   },
   {
    "duration": 34,
    "start_time": "2021-06-17T04:58:46.732Z"
   },
   {
    "duration": 11,
    "start_time": "2021-06-17T04:58:46.768Z"
   },
   {
    "duration": 15584,
    "start_time": "2021-06-17T04:58:46.825Z"
   },
   {
    "duration": 1103,
    "start_time": "2021-06-17T05:16:44.228Z"
   },
   {
    "duration": 7,
    "start_time": "2021-06-17T05:16:45.334Z"
   },
   {
    "duration": 33,
    "start_time": "2021-06-17T05:16:45.343Z"
   },
   {
    "duration": 292,
    "start_time": "2021-06-17T05:16:45.379Z"
   },
   {
    "duration": 84,
    "start_time": "2021-06-17T05:16:45.673Z"
   },
   {
    "duration": 21,
    "start_time": "2021-06-17T05:16:45.759Z"
   },
   {
    "duration": 3050,
    "start_time": "2021-06-17T05:16:45.782Z"
   },
   {
    "duration": 7,
    "start_time": "2021-06-17T05:16:48.836Z"
   },
   {
    "duration": 36,
    "start_time": "2021-06-17T05:16:48.846Z"
   },
   {
    "duration": 11,
    "start_time": "2021-06-17T05:16:48.885Z"
   },
   {
    "duration": 80,
    "start_time": "2021-06-17T05:16:48.898Z"
   },
   {
    "duration": 804,
    "start_time": "2021-06-17T05:16:48.980Z"
   },
   {
    "duration": 1608,
    "start_time": "2021-06-17T05:16:49.786Z"
   },
   {
    "duration": 398,
    "start_time": "2021-06-17T05:16:51.396Z"
   },
   {
    "duration": 252,
    "start_time": "2021-06-17T05:16:51.796Z"
   },
   {
    "duration": 252,
    "start_time": "2021-06-17T05:16:52.050Z"
   },
   {
    "duration": 261,
    "start_time": "2021-06-17T05:16:52.306Z"
   },
   {
    "duration": 269,
    "start_time": "2021-06-17T05:16:52.570Z"
   },
   {
    "duration": 278,
    "start_time": "2021-06-17T05:16:52.842Z"
   },
   {
    "duration": 469,
    "start_time": "2021-06-17T05:16:53.124Z"
   },
   {
    "duration": 46,
    "start_time": "2021-06-17T05:16:53.595Z"
   },
   {
    "duration": 15,
    "start_time": "2021-06-17T05:16:53.644Z"
   },
   {
    "duration": 677,
    "start_time": "2021-06-17T05:16:53.663Z"
   },
   {
    "duration": 572,
    "start_time": "2021-06-17T05:16:54.343Z"
   },
   {
    "duration": 511,
    "start_time": "2021-06-17T05:16:54.917Z"
   },
   {
    "duration": 1682,
    "start_time": "2021-06-17T05:16:55.430Z"
   },
   {
    "duration": 40,
    "start_time": "2021-06-17T05:16:57.114Z"
   },
   {
    "duration": 12,
    "start_time": "2021-06-17T05:16:57.157Z"
   },
   {
    "duration": 16236,
    "start_time": "2021-06-17T05:16:57.172Z"
   },
   {
    "duration": 1070,
    "start_time": "2021-06-17T05:26:51.133Z"
   },
   {
    "duration": 6,
    "start_time": "2021-06-17T05:26:52.206Z"
   },
   {
    "duration": 25,
    "start_time": "2021-06-17T05:26:52.225Z"
   },
   {
    "duration": 274,
    "start_time": "2021-06-17T05:26:52.252Z"
   },
   {
    "duration": 70,
    "start_time": "2021-06-17T05:26:52.529Z"
   },
   {
    "duration": 38,
    "start_time": "2021-06-17T05:26:52.601Z"
   },
   {
    "duration": 3032,
    "start_time": "2021-06-17T05:26:52.641Z"
   },
   {
    "duration": 7,
    "start_time": "2021-06-17T05:26:55.675Z"
   },
   {
    "duration": 18,
    "start_time": "2021-06-17T05:26:55.686Z"
   },
   {
    "duration": 11,
    "start_time": "2021-06-17T05:26:55.724Z"
   },
   {
    "duration": 60,
    "start_time": "2021-06-17T05:26:55.738Z"
   },
   {
    "duration": 805,
    "start_time": "2021-06-17T05:26:55.827Z"
   },
   {
    "duration": 1608,
    "start_time": "2021-06-17T05:26:56.635Z"
   },
   {
    "duration": 424,
    "start_time": "2021-06-17T05:26:58.245Z"
   },
   {
    "duration": 246,
    "start_time": "2021-06-17T05:26:58.672Z"
   },
   {
    "duration": 237,
    "start_time": "2021-06-17T05:26:58.924Z"
   },
   {
    "duration": 242,
    "start_time": "2021-06-17T05:26:59.163Z"
   },
   {
    "duration": 257,
    "start_time": "2021-06-17T05:26:59.407Z"
   },
   {
    "duration": 267,
    "start_time": "2021-06-17T05:26:59.667Z"
   },
   {
    "duration": 463,
    "start_time": "2021-06-17T05:26:59.936Z"
   },
   {
    "duration": 35,
    "start_time": "2021-06-17T05:27:00.402Z"
   },
   {
    "duration": 13,
    "start_time": "2021-06-17T05:27:00.440Z"
   },
   {
    "duration": 698,
    "start_time": "2021-06-17T05:27:00.455Z"
   },
   {
    "duration": 573,
    "start_time": "2021-06-17T05:27:01.155Z"
   },
   {
    "duration": 533,
    "start_time": "2021-06-17T05:27:01.731Z"
   },
   {
    "duration": 1710,
    "start_time": "2021-06-17T05:27:02.266Z"
   },
   {
    "duration": 52,
    "start_time": "2021-06-17T05:27:03.980Z"
   },
   {
    "duration": 11,
    "start_time": "2021-06-17T05:27:04.034Z"
   },
   {
    "duration": 16107,
    "start_time": "2021-06-17T05:27:04.047Z"
   },
   {
    "duration": 237,
    "start_time": "2021-06-17T05:37:02.717Z"
   },
   {
    "duration": 261,
    "start_time": "2021-06-17T05:51:36.324Z"
   },
   {
    "duration": 245,
    "start_time": "2021-06-17T05:51:45.286Z"
   },
   {
    "duration": 240,
    "start_time": "2021-06-17T05:52:20.697Z"
   },
   {
    "duration": 234,
    "start_time": "2021-06-17T05:52:42.622Z"
   },
   {
    "duration": 434,
    "start_time": "2021-06-17T05:55:41.041Z"
   },
   {
    "duration": 428,
    "start_time": "2021-06-17T05:59:41.540Z"
   },
   {
    "duration": 1342,
    "start_time": "2021-06-17T06:00:00.458Z"
   },
   {
    "duration": 440,
    "start_time": "2021-06-17T06:00:17.056Z"
   },
   {
    "duration": 36,
    "start_time": "2021-06-17T06:00:36.201Z"
   },
   {
    "duration": 614,
    "start_time": "2021-06-17T06:01:19.871Z"
   },
   {
    "duration": 1080,
    "start_time": "2021-06-17T06:01:27.263Z"
   },
   {
    "duration": 8,
    "start_time": "2021-06-17T06:01:28.347Z"
   },
   {
    "duration": 28,
    "start_time": "2021-06-17T06:01:28.359Z"
   },
   {
    "duration": 270,
    "start_time": "2021-06-17T06:01:28.424Z"
   },
   {
    "duration": 84,
    "start_time": "2021-06-17T06:01:28.696Z"
   },
   {
    "duration": 24,
    "start_time": "2021-06-17T06:01:28.783Z"
   },
   {
    "duration": 3079,
    "start_time": "2021-06-17T06:01:28.825Z"
   },
   {
    "duration": 6,
    "start_time": "2021-06-17T06:01:31.907Z"
   },
   {
    "duration": 16,
    "start_time": "2021-06-17T06:01:31.924Z"
   },
   {
    "duration": 12,
    "start_time": "2021-06-17T06:01:31.942Z"
   },
   {
    "duration": 88,
    "start_time": "2021-06-17T06:01:31.956Z"
   },
   {
    "duration": 824,
    "start_time": "2021-06-17T06:01:32.046Z"
   },
   {
    "duration": 1643,
    "start_time": "2021-06-17T06:01:32.872Z"
   },
   {
    "duration": 405,
    "start_time": "2021-06-17T06:01:34.524Z"
   },
   {
    "duration": 251,
    "start_time": "2021-06-17T06:01:34.931Z"
   },
   {
    "duration": 246,
    "start_time": "2021-06-17T06:01:35.185Z"
   },
   {
    "duration": 246,
    "start_time": "2021-06-17T06:01:35.433Z"
   },
   {
    "duration": 253,
    "start_time": "2021-06-17T06:01:35.681Z"
   },
   {
    "duration": 230,
    "start_time": "2021-06-17T06:01:35.937Z"
   },
   {
    "duration": 443,
    "start_time": "2021-06-17T06:01:36.169Z"
   },
   {
    "duration": 37,
    "start_time": "2021-06-17T06:01:36.615Z"
   },
   {
    "duration": 15,
    "start_time": "2021-06-17T06:01:36.655Z"
   },
   {
    "duration": 657,
    "start_time": "2021-06-17T06:01:36.677Z"
   },
   {
    "duration": 540,
    "start_time": "2021-06-17T06:01:37.337Z"
   },
   {
    "duration": 512,
    "start_time": "2021-06-17T06:01:37.880Z"
   },
   {
    "duration": 1675,
    "start_time": "2021-06-17T06:01:38.394Z"
   },
   {
    "duration": 53,
    "start_time": "2021-06-17T06:01:40.072Z"
   },
   {
    "duration": 15,
    "start_time": "2021-06-17T06:01:40.127Z"
   },
   {
    "duration": 26085,
    "start_time": "2021-06-17T06:01:40.145Z"
   },
   {
    "duration": 1095,
    "start_time": "2021-06-17T06:04:52.716Z"
   },
   {
    "duration": 15,
    "start_time": "2021-06-17T06:04:53.813Z"
   },
   {
    "duration": 28,
    "start_time": "2021-06-17T06:04:53.832Z"
   },
   {
    "duration": 289,
    "start_time": "2021-06-17T06:04:53.862Z"
   },
   {
    "duration": 84,
    "start_time": "2021-06-17T06:04:54.153Z"
   },
   {
    "duration": 20,
    "start_time": "2021-06-17T06:04:54.240Z"
   },
   {
    "duration": 2998,
    "start_time": "2021-06-17T06:04:54.263Z"
   },
   {
    "duration": 6,
    "start_time": "2021-06-17T06:04:57.264Z"
   },
   {
    "duration": 34,
    "start_time": "2021-06-17T06:04:57.274Z"
   },
   {
    "duration": 19,
    "start_time": "2021-06-17T06:04:57.311Z"
   },
   {
    "duration": 62,
    "start_time": "2021-06-17T06:04:57.332Z"
   },
   {
    "duration": 803,
    "start_time": "2021-06-17T06:04:57.397Z"
   },
   {
    "duration": 1541,
    "start_time": "2021-06-17T06:04:58.203Z"
   },
   {
    "duration": 411,
    "start_time": "2021-06-17T06:04:59.747Z"
   },
   {
    "duration": 244,
    "start_time": "2021-06-17T06:05:00.161Z"
   },
   {
    "duration": 246,
    "start_time": "2021-06-17T06:05:00.407Z"
   },
   {
    "duration": 244,
    "start_time": "2021-06-17T06:05:00.655Z"
   },
   {
    "duration": 264,
    "start_time": "2021-06-17T06:05:00.901Z"
   },
   {
    "duration": 250,
    "start_time": "2021-06-17T06:05:01.168Z"
   },
   {
    "duration": 459,
    "start_time": "2021-06-17T06:05:01.424Z"
   },
   {
    "duration": 51,
    "start_time": "2021-06-17T06:05:01.886Z"
   },
   {
    "duration": 14,
    "start_time": "2021-06-17T06:05:01.939Z"
   },
   {
    "duration": 651,
    "start_time": "2021-06-17T06:05:01.955Z"
   },
   {
    "duration": 567,
    "start_time": "2021-06-17T06:05:02.609Z"
   },
   {
    "duration": 515,
    "start_time": "2021-06-17T06:05:03.178Z"
   },
   {
    "duration": 1901,
    "start_time": "2021-06-17T06:05:03.695Z"
   },
   {
    "duration": 48,
    "start_time": "2021-06-17T06:05:05.601Z"
   },
   {
    "duration": 15,
    "start_time": "2021-06-17T06:05:05.652Z"
   },
   {
    "duration": 25958,
    "start_time": "2021-06-17T06:05:05.669Z"
   },
   {
    "duration": 232,
    "start_time": "2021-06-17T06:12:54.082Z"
   },
   {
    "duration": 231,
    "start_time": "2021-06-17T06:13:06.244Z"
   },
   {
    "duration": 276,
    "start_time": "2021-06-17T06:13:18.511Z"
   },
   {
    "duration": 613,
    "start_time": "2021-06-17T06:13:56.581Z"
   },
   {
    "duration": 514,
    "start_time": "2021-06-17T06:16:09.844Z"
   },
   {
    "duration": 520,
    "start_time": "2021-06-17T06:17:23.965Z"
   },
   {
    "duration": 522,
    "start_time": "2021-06-17T06:17:34.806Z"
   },
   {
    "duration": 580,
    "start_time": "2021-06-17T06:17:43.835Z"
   },
   {
    "duration": 581,
    "start_time": "2021-06-17T06:17:53.147Z"
   },
   {
    "duration": 500,
    "start_time": "2021-06-17T06:18:09.227Z"
   },
   {
    "duration": 478,
    "start_time": "2021-06-17T06:18:15.989Z"
   },
   {
    "duration": 489,
    "start_time": "2021-06-17T06:18:27.487Z"
   },
   {
    "duration": 505,
    "start_time": "2021-06-17T06:19:48.772Z"
   },
   {
    "duration": 494,
    "start_time": "2021-06-17T06:20:01.833Z"
   },
   {
    "duration": 442,
    "start_time": "2021-06-17T06:20:23.069Z"
   },
   {
    "duration": 427,
    "start_time": "2021-06-17T06:20:36.232Z"
   },
   {
    "duration": 481,
    "start_time": "2021-06-17T06:20:46.425Z"
   },
   {
    "duration": 480,
    "start_time": "2021-06-17T06:20:56.251Z"
   },
   {
    "duration": 459,
    "start_time": "2021-06-17T06:21:07.786Z"
   },
   {
    "duration": 1471,
    "start_time": "2021-06-17T06:21:46.817Z"
   },
   {
    "duration": 1480,
    "start_time": "2021-06-17T06:21:56.525Z"
   },
   {
    "duration": 1137,
    "start_time": "2021-06-17T06:24:38.208Z"
   },
   {
    "duration": 7,
    "start_time": "2021-06-17T06:24:39.348Z"
   },
   {
    "duration": 33,
    "start_time": "2021-06-17T06:24:39.359Z"
   },
   {
    "duration": 294,
    "start_time": "2021-06-17T06:24:39.395Z"
   },
   {
    "duration": 84,
    "start_time": "2021-06-17T06:24:39.691Z"
   },
   {
    "duration": 22,
    "start_time": "2021-06-17T06:24:39.778Z"
   },
   {
    "duration": 3311,
    "start_time": "2021-06-17T06:24:39.802Z"
   },
   {
    "duration": 11,
    "start_time": "2021-06-17T06:24:43.117Z"
   },
   {
    "duration": 20,
    "start_time": "2021-06-17T06:24:43.132Z"
   },
   {
    "duration": 12,
    "start_time": "2021-06-17T06:24:43.154Z"
   },
   {
    "duration": 84,
    "start_time": "2021-06-17T06:24:43.168Z"
   },
   {
    "duration": 824,
    "start_time": "2021-06-17T06:24:43.254Z"
   },
   {
    "duration": 1606,
    "start_time": "2021-06-17T06:24:44.081Z"
   },
   {
    "duration": 420,
    "start_time": "2021-06-17T06:24:45.689Z"
   },
   {
    "duration": 250,
    "start_time": "2021-06-17T06:24:46.112Z"
   },
   {
    "duration": 241,
    "start_time": "2021-06-17T06:24:46.364Z"
   },
   {
    "duration": 237,
    "start_time": "2021-06-17T06:24:46.607Z"
   },
   {
    "duration": 258,
    "start_time": "2021-06-17T06:24:46.846Z"
   },
   {
    "duration": 242,
    "start_time": "2021-06-17T06:24:47.107Z"
   },
   {
    "duration": 452,
    "start_time": "2021-06-17T06:24:47.351Z"
   },
   {
    "duration": 43,
    "start_time": "2021-06-17T06:24:47.806Z"
   },
   {
    "duration": 16,
    "start_time": "2021-06-17T06:24:47.852Z"
   },
   {
    "duration": 659,
    "start_time": "2021-06-17T06:24:47.875Z"
   },
   {
    "duration": 510,
    "start_time": "2021-06-17T06:24:48.537Z"
   },
   {
    "duration": 509,
    "start_time": "2021-06-17T06:24:49.049Z"
   },
   {
    "duration": 1616,
    "start_time": "2021-06-17T06:24:49.560Z"
   },
   {
    "duration": 58,
    "start_time": "2021-06-17T06:24:51.179Z"
   },
   {
    "duration": 15,
    "start_time": "2021-06-17T06:24:51.240Z"
   },
   {
    "duration": 28929,
    "start_time": "2021-06-17T06:24:51.258Z"
   },
   {
    "duration": 1452,
    "start_time": "2021-06-17T06:25:20.190Z"
   },
   {
    "duration": 2585,
    "start_time": "2021-06-17T06:25:21.644Z"
   },
   {
    "duration": 5119,
    "start_time": "2021-06-17T06:25:24.232Z"
   },
   {
    "duration": 1224,
    "start_time": "2021-06-17T06:31:04.821Z"
   },
   {
    "duration": 1236,
    "start_time": "2021-06-17T06:31:46.313Z"
   },
   {
    "duration": 1285,
    "start_time": "2021-06-17T06:32:07.057Z"
   },
   {
    "duration": 1190,
    "start_time": "2021-06-17T06:32:26.901Z"
   },
   {
    "duration": 7,
    "start_time": "2021-06-17T06:32:28.094Z"
   },
   {
    "duration": 42,
    "start_time": "2021-06-17T06:32:28.104Z"
   },
   {
    "duration": 305,
    "start_time": "2021-06-17T06:32:28.150Z"
   },
   {
    "duration": 96,
    "start_time": "2021-06-17T06:32:28.458Z"
   },
   {
    "duration": 21,
    "start_time": "2021-06-17T06:32:28.556Z"
   },
   {
    "duration": 3225,
    "start_time": "2021-06-17T06:32:28.580Z"
   },
   {
    "duration": 15,
    "start_time": "2021-06-17T06:32:31.809Z"
   },
   {
    "duration": 18,
    "start_time": "2021-06-17T06:32:31.827Z"
   },
   {
    "duration": 14,
    "start_time": "2021-06-17T06:32:31.847Z"
   },
   {
    "duration": 104,
    "start_time": "2021-06-17T06:32:31.864Z"
   },
   {
    "duration": 890,
    "start_time": "2021-06-17T06:32:31.971Z"
   },
   {
    "duration": 1610,
    "start_time": "2021-06-17T06:32:32.864Z"
   },
   {
    "duration": 421,
    "start_time": "2021-06-17T06:32:34.477Z"
   },
   {
    "duration": 277,
    "start_time": "2021-06-17T06:32:34.900Z"
   },
   {
    "duration": 256,
    "start_time": "2021-06-17T06:32:35.180Z"
   },
   {
    "duration": 255,
    "start_time": "2021-06-17T06:32:35.438Z"
   },
   {
    "duration": 262,
    "start_time": "2021-06-17T06:32:35.695Z"
   },
   {
    "duration": 246,
    "start_time": "2021-06-17T06:32:35.959Z"
   },
   {
    "duration": 459,
    "start_time": "2021-06-17T06:32:36.208Z"
   },
   {
    "duration": 59,
    "start_time": "2021-06-17T06:32:36.670Z"
   },
   {
    "duration": 17,
    "start_time": "2021-06-17T06:32:36.732Z"
   },
   {
    "duration": 641,
    "start_time": "2021-06-17T06:32:36.754Z"
   },
   {
    "duration": 488,
    "start_time": "2021-06-17T06:32:37.398Z"
   },
   {
    "duration": 506,
    "start_time": "2021-06-17T06:32:37.888Z"
   },
   {
    "duration": 1592,
    "start_time": "2021-06-17T06:32:38.397Z"
   },
   {
    "duration": 53,
    "start_time": "2021-06-17T06:32:39.992Z"
   },
   {
    "duration": 15,
    "start_time": "2021-06-17T06:32:40.047Z"
   },
   {
    "duration": 26942,
    "start_time": "2021-06-17T06:32:40.064Z"
   },
   {
    "duration": 1455,
    "start_time": "2021-06-17T06:36:54.426Z"
   },
   {
    "duration": 9,
    "start_time": "2021-06-17T06:36:55.885Z"
   },
   {
    "duration": 52,
    "start_time": "2021-06-17T06:36:55.898Z"
   },
   {
    "duration": 298,
    "start_time": "2021-06-17T06:36:55.953Z"
   },
   {
    "duration": 85,
    "start_time": "2021-06-17T06:36:56.253Z"
   },
   {
    "duration": 24,
    "start_time": "2021-06-17T06:36:56.341Z"
   },
   {
    "duration": 3134,
    "start_time": "2021-06-17T06:36:56.368Z"
   },
   {
    "duration": 19,
    "start_time": "2021-06-17T06:36:59.506Z"
   },
   {
    "duration": 16,
    "start_time": "2021-06-17T06:36:59.528Z"
   },
   {
    "duration": 11,
    "start_time": "2021-06-17T06:36:59.546Z"
   },
   {
    "duration": 83,
    "start_time": "2021-06-17T06:36:59.560Z"
   },
   {
    "duration": 806,
    "start_time": "2021-06-17T06:36:59.645Z"
   },
   {
    "duration": 2205,
    "start_time": "2021-06-17T06:37:00.453Z"
   },
   {
    "duration": 654,
    "start_time": "2021-06-17T06:37:02.661Z"
   },
   {
    "duration": 251,
    "start_time": "2021-06-17T06:37:03.324Z"
   },
   {
    "duration": 247,
    "start_time": "2021-06-17T06:37:03.577Z"
   },
   {
    "duration": 242,
    "start_time": "2021-06-17T06:37:03.826Z"
   },
   {
    "duration": 253,
    "start_time": "2021-06-17T06:37:04.071Z"
   },
   {
    "duration": 235,
    "start_time": "2021-06-17T06:37:04.326Z"
   },
   {
    "duration": 463,
    "start_time": "2021-06-17T06:37:04.564Z"
   },
   {
    "duration": 35,
    "start_time": "2021-06-17T06:37:05.029Z"
   },
   {
    "duration": 15,
    "start_time": "2021-06-17T06:37:05.066Z"
   },
   {
    "duration": 686,
    "start_time": "2021-06-17T06:37:05.086Z"
   },
   {
    "duration": 514,
    "start_time": "2021-06-17T06:37:05.774Z"
   },
   {
    "duration": 507,
    "start_time": "2021-06-17T06:37:06.291Z"
   },
   {
    "duration": 1633,
    "start_time": "2021-06-17T06:37:06.801Z"
   },
   {
    "duration": 37,
    "start_time": "2021-06-17T06:37:08.437Z"
   },
   {
    "duration": 51,
    "start_time": "2021-06-17T06:37:08.477Z"
   },
   {
    "duration": 26770,
    "start_time": "2021-06-17T06:37:08.530Z"
   },
   {
    "duration": 1164,
    "start_time": "2021-06-17T06:43:48.192Z"
   },
   {
    "duration": 8,
    "start_time": "2021-06-17T06:43:49.358Z"
   },
   {
    "duration": 41,
    "start_time": "2021-06-17T06:43:49.369Z"
   },
   {
    "duration": 266,
    "start_time": "2021-06-17T06:43:49.424Z"
   },
   {
    "duration": 78,
    "start_time": "2021-06-17T06:43:49.692Z"
   },
   {
    "duration": 22,
    "start_time": "2021-06-17T06:43:49.772Z"
   },
   {
    "duration": 2942,
    "start_time": "2021-06-17T06:43:49.796Z"
   },
   {
    "duration": 7,
    "start_time": "2021-06-17T06:43:52.741Z"
   },
   {
    "duration": 19,
    "start_time": "2021-06-17T06:43:52.751Z"
   },
   {
    "duration": 11,
    "start_time": "2021-06-17T06:43:52.772Z"
   },
   {
    "duration": 89,
    "start_time": "2021-06-17T06:43:52.786Z"
   },
   {
    "duration": 830,
    "start_time": "2021-06-17T06:43:52.878Z"
   },
   {
    "duration": 1573,
    "start_time": "2021-06-17T06:43:53.710Z"
   },
   {
    "duration": 400,
    "start_time": "2021-06-17T06:43:55.286Z"
   },
   {
    "duration": 253,
    "start_time": "2021-06-17T06:43:55.689Z"
   },
   {
    "duration": 245,
    "start_time": "2021-06-17T06:43:55.944Z"
   },
   {
    "duration": 252,
    "start_time": "2021-06-17T06:43:56.191Z"
   },
   {
    "duration": 269,
    "start_time": "2021-06-17T06:43:56.446Z"
   },
   {
    "duration": 227,
    "start_time": "2021-06-17T06:43:56.717Z"
   },
   {
    "duration": 456,
    "start_time": "2021-06-17T06:43:56.946Z"
   },
   {
    "duration": 42,
    "start_time": "2021-06-17T06:43:57.404Z"
   },
   {
    "duration": 16,
    "start_time": "2021-06-17T06:43:57.449Z"
   },
   {
    "duration": 633,
    "start_time": "2021-06-17T06:43:57.469Z"
   },
   {
    "duration": 499,
    "start_time": "2021-06-17T06:43:58.106Z"
   },
   {
    "duration": 493,
    "start_time": "2021-06-17T06:43:58.608Z"
   },
   {
    "duration": 1677,
    "start_time": "2021-06-17T06:43:59.104Z"
   },
   {
    "duration": 52,
    "start_time": "2021-06-17T06:44:00.783Z"
   },
   {
    "duration": 14,
    "start_time": "2021-06-17T06:44:00.837Z"
   },
   {
    "duration": 27046,
    "start_time": "2021-06-17T06:44:00.853Z"
   },
   {
    "duration": 729,
    "start_time": "2021-06-17T06:44:27.902Z"
   },
   {
    "duration": 637,
    "start_time": "2021-06-17T06:44:28.633Z"
   },
   {
    "duration": 2445,
    "start_time": "2021-06-17T06:44:29.325Z"
   },
   {
    "duration": 4042,
    "start_time": "2021-06-17T06:44:31.824Z"
   },
   {
    "duration": 383,
    "start_time": "2021-06-17T06:49:24.217Z"
   },
   {
    "duration": 26726,
    "start_time": "2021-06-17T06:53:22.584Z"
   },
   {
    "duration": 2526,
    "start_time": "2021-06-17T06:59:43.655Z"
   },
   {
    "duration": 1285,
    "start_time": "2021-06-17T07:04:40.123Z"
   },
   {
    "duration": 1254,
    "start_time": "2021-06-17T07:05:44.805Z"
   },
   {
    "duration": 1219,
    "start_time": "2021-06-17T07:05:58.507Z"
   },
   {
    "duration": 2096,
    "start_time": "2021-06-17T07:06:16.303Z"
   },
   {
    "duration": 1217,
    "start_time": "2021-06-17T07:08:05.521Z"
   },
   {
    "duration": 1248,
    "start_time": "2021-06-17T07:08:15.748Z"
   },
   {
    "duration": 1571,
    "start_time": "2021-06-17T07:09:34.712Z"
   },
   {
    "duration": 1633,
    "start_time": "2021-06-17T07:09:45.822Z"
   },
   {
    "duration": 1734,
    "start_time": "2021-06-17T07:09:56.872Z"
   },
   {
    "duration": 1671,
    "start_time": "2021-06-17T07:10:50.963Z"
   },
   {
    "duration": 1610,
    "start_time": "2021-06-17T07:11:10.087Z"
   },
   {
    "duration": 2414,
    "start_time": "2021-06-17T07:23:42.510Z"
   },
   {
    "duration": 2401,
    "start_time": "2021-06-17T07:24:07.551Z"
   },
   {
    "duration": 2477,
    "start_time": "2021-06-17T07:24:48.579Z"
   },
   {
    "duration": 2397,
    "start_time": "2021-06-17T07:25:08.273Z"
   },
   {
    "duration": 2461,
    "start_time": "2021-06-17T07:25:25.346Z"
   },
   {
    "duration": 1325,
    "start_time": "2021-06-17T07:26:29.727Z"
   },
   {
    "duration": 1350,
    "start_time": "2021-06-17T07:26:55.247Z"
   },
   {
    "duration": 2593,
    "start_time": "2021-06-17T07:27:08.260Z"
   },
   {
    "duration": 1323,
    "start_time": "2021-06-17T07:27:18.136Z"
   },
   {
    "duration": 1295,
    "start_time": "2021-06-17T07:27:41.758Z"
   },
   {
    "duration": 1542,
    "start_time": "2021-06-17T07:29:04.858Z"
   },
   {
    "duration": 2422,
    "start_time": "2021-06-17T07:29:24.957Z"
   },
   {
    "duration": 2396,
    "start_time": "2021-06-17T07:29:40.486Z"
   },
   {
    "duration": 2502,
    "start_time": "2021-06-17T07:29:47.896Z"
   },
   {
    "duration": 2423,
    "start_time": "2021-06-17T07:29:57.065Z"
   },
   {
    "duration": 330,
    "start_time": "2021-06-17T20:16:34.712Z"
   },
   {
    "duration": 1080,
    "start_time": "2021-06-17T20:16:38.129Z"
   },
   {
    "duration": 8,
    "start_time": "2021-06-17T20:16:39.212Z"
   },
   {
    "duration": 29,
    "start_time": "2021-06-17T20:16:39.223Z"
   },
   {
    "duration": 299,
    "start_time": "2021-06-17T20:16:39.254Z"
   },
   {
    "duration": 86,
    "start_time": "2021-06-17T20:16:39.556Z"
   },
   {
    "duration": 21,
    "start_time": "2021-06-17T20:16:39.645Z"
   },
   {
    "duration": 3235,
    "start_time": "2021-06-17T20:16:39.668Z"
   },
   {
    "duration": 20,
    "start_time": "2021-06-17T20:16:44.890Z"
   },
   {
    "duration": 16,
    "start_time": "2021-06-17T20:17:06.764Z"
   },
   {
    "duration": 36,
    "start_time": "2021-06-17T20:20:15.079Z"
   },
   {
    "duration": 8,
    "start_time": "2021-06-17T20:20:32.472Z"
   },
   {
    "duration": 6,
    "start_time": "2021-06-17T20:21:22.948Z"
   },
   {
    "duration": 248,
    "start_time": "2021-06-17T20:25:32.599Z"
   },
   {
    "duration": 8,
    "start_time": "2021-06-17T20:25:32.850Z"
   },
   {
    "duration": 29,
    "start_time": "2021-06-17T20:25:32.884Z"
   },
   {
    "duration": 287,
    "start_time": "2021-06-17T20:25:32.916Z"
   },
   {
    "duration": 91,
    "start_time": "2021-06-17T20:25:33.206Z"
   },
   {
    "duration": 25,
    "start_time": "2021-06-17T20:25:33.302Z"
   },
   {
    "duration": 3421,
    "start_time": "2021-06-17T20:25:33.330Z"
   },
   {
    "duration": 16,
    "start_time": "2021-06-17T20:25:36.754Z"
   },
   {
    "duration": 26,
    "start_time": "2021-06-17T20:25:36.789Z"
   },
   {
    "duration": 6,
    "start_time": "2021-06-17T20:25:36.817Z"
   },
   {
    "duration": 7,
    "start_time": "2021-06-17T20:25:36.826Z"
   },
   {
    "duration": 37,
    "start_time": "2021-06-17T20:28:57.210Z"
   },
   {
    "duration": 756,
    "start_time": "2021-06-18T04:17:00.011Z"
   },
   {
    "duration": 17,
    "start_time": "2021-06-18T04:17:00.769Z"
   },
   {
    "duration": 32,
    "start_time": "2021-06-18T04:17:00.788Z"
   },
   {
    "duration": 146,
    "start_time": "2021-06-18T04:17:00.822Z"
   },
   {
    "duration": 47,
    "start_time": "2021-06-18T04:17:00.969Z"
   },
   {
    "duration": 13,
    "start_time": "2021-06-18T04:17:01.018Z"
   },
   {
    "duration": 1633,
    "start_time": "2021-06-18T04:17:01.059Z"
   },
   {
    "duration": 10,
    "start_time": "2021-06-18T04:17:02.693Z"
   },
   {
    "duration": 17,
    "start_time": "2021-06-18T04:17:02.705Z"
   },
   {
    "duration": 3,
    "start_time": "2021-06-18T04:17:02.724Z"
   },
   {
    "duration": 5,
    "start_time": "2021-06-18T04:17:02.729Z"
   },
   {
    "duration": 5115,
    "start_time": "2021-06-18T04:17:02.735Z"
   },
   {
    "duration": 5,
    "start_time": "2021-06-18T04:17:07.852Z"
   },
   {
    "duration": 11,
    "start_time": "2021-06-18T04:17:07.858Z"
   },
   {
    "duration": 20,
    "start_time": "2021-06-18T04:17:07.871Z"
   },
   {
    "duration": 35,
    "start_time": "2021-06-18T04:17:07.893Z"
   },
   {
    "duration": 483,
    "start_time": "2021-06-18T04:17:07.930Z"
   },
   {
    "duration": 977,
    "start_time": "2021-06-18T04:17:08.415Z"
   },
   {
    "duration": 274,
    "start_time": "2021-06-18T04:17:09.393Z"
   },
   {
    "duration": 153,
    "start_time": "2021-06-18T04:17:09.669Z"
   },
   {
    "duration": 146,
    "start_time": "2021-06-18T04:17:09.823Z"
   },
   {
    "duration": 148,
    "start_time": "2021-06-18T04:17:09.970Z"
   },
   {
    "duration": 166,
    "start_time": "2021-06-18T04:17:10.120Z"
   },
   {
    "duration": 159,
    "start_time": "2021-06-18T04:17:10.287Z"
   },
   {
    "duration": 288,
    "start_time": "2021-06-18T04:17:10.448Z"
   },
   {
    "duration": 22,
    "start_time": "2021-06-18T04:17:10.737Z"
   },
   {
    "duration": 23,
    "start_time": "2021-06-18T04:17:10.761Z"
   },
   {
    "duration": 383,
    "start_time": "2021-06-18T04:17:10.786Z"
   },
   {
    "duration": 300,
    "start_time": "2021-06-18T04:17:11.171Z"
   },
   {
    "duration": 277,
    "start_time": "2021-06-18T04:17:11.473Z"
   },
   {
    "duration": 925,
    "start_time": "2021-06-18T04:17:11.752Z"
   },
   {
    "duration": 26,
    "start_time": "2021-06-18T04:17:12.679Z"
   },
   {
    "duration": 7,
    "start_time": "2021-06-18T04:17:12.708Z"
   },
   {
    "duration": 7538,
    "start_time": "2021-06-18T04:17:12.717Z"
   },
   {
    "duration": 463,
    "start_time": "2021-06-18T04:17:20.257Z"
   },
   {
    "duration": 406,
    "start_time": "2021-06-18T04:17:20.721Z"
   },
   {
    "duration": 1573,
    "start_time": "2021-06-18T04:17:21.129Z"
   },
   {
    "duration": 1453,
    "start_time": "2021-06-18T04:17:22.704Z"
   },
   {
    "duration": 259,
    "start_time": "2021-06-18T04:18:24.295Z"
   },
   {
    "duration": 247,
    "start_time": "2021-06-18T04:18:35.401Z"
   },
   {
    "duration": 377,
    "start_time": "2021-06-18T04:26:00.807Z"
   },
   {
    "duration": 291,
    "start_time": "2021-06-18T04:27:11.202Z"
   },
   {
    "duration": 256,
    "start_time": "2021-06-18T04:27:21.589Z"
   },
   {
    "duration": 164,
    "start_time": "2021-06-18T04:36:05.999Z"
   },
   {
    "duration": 4,
    "start_time": "2021-06-18T04:36:06.165Z"
   },
   {
    "duration": 28,
    "start_time": "2021-06-18T04:36:06.171Z"
   },
   {
    "duration": 139,
    "start_time": "2021-06-18T04:36:06.201Z"
   },
   {
    "duration": 49,
    "start_time": "2021-06-18T04:36:06.342Z"
   },
   {
    "duration": 13,
    "start_time": "2021-06-18T04:36:06.393Z"
   },
   {
    "duration": 1582,
    "start_time": "2021-06-18T04:36:06.408Z"
   },
   {
    "duration": 11,
    "start_time": "2021-06-18T04:36:07.991Z"
   },
   {
    "duration": 18,
    "start_time": "2021-06-18T04:36:08.004Z"
   },
   {
    "duration": 4,
    "start_time": "2021-06-18T04:36:08.024Z"
   },
   {
    "duration": 6,
    "start_time": "2021-06-18T04:36:08.029Z"
   },
   {
    "duration": 5111,
    "start_time": "2021-06-18T04:36:08.036Z"
   },
   {
    "duration": 5,
    "start_time": "2021-06-18T04:36:13.149Z"
   },
   {
    "duration": 18,
    "start_time": "2021-06-18T04:36:13.156Z"
   },
   {
    "duration": 11,
    "start_time": "2021-06-18T04:36:13.175Z"
   },
   {
    "duration": 36,
    "start_time": "2021-06-18T04:36:13.188Z"
   },
   {
    "duration": 465,
    "start_time": "2021-06-18T04:36:13.225Z"
   },
   {
    "duration": 968,
    "start_time": "2021-06-18T04:36:13.691Z"
   },
   {
    "duration": 210,
    "start_time": "2021-06-18T04:36:14.661Z"
   },
   {
    "duration": 154,
    "start_time": "2021-06-18T04:36:14.873Z"
   },
   {
    "duration": 148,
    "start_time": "2021-06-18T04:36:15.028Z"
   },
   {
    "duration": 139,
    "start_time": "2021-06-18T04:36:15.184Z"
   },
   {
    "duration": 158,
    "start_time": "2021-06-18T04:36:15.324Z"
   },
   {
    "duration": 142,
    "start_time": "2021-06-18T04:36:15.484Z"
   },
   {
    "duration": 248,
    "start_time": "2021-06-18T04:36:15.627Z"
   },
   {
    "duration": 27,
    "start_time": "2021-06-18T04:36:15.876Z"
   },
   {
    "duration": 9,
    "start_time": "2021-06-18T04:36:15.905Z"
   },
   {
    "duration": 386,
    "start_time": "2021-06-18T04:36:15.915Z"
   },
   {
    "duration": 533,
    "start_time": "2021-06-18T04:36:16.302Z"
   },
   {
    "duration": 273,
    "start_time": "2021-06-18T04:36:16.839Z"
   },
   {
    "duration": 835,
    "start_time": "2021-06-18T04:36:17.113Z"
   },
   {
    "duration": 20,
    "start_time": "2021-06-18T04:36:17.949Z"
   },
   {
    "duration": 7,
    "start_time": "2021-06-18T04:36:17.985Z"
   },
   {
    "duration": 7004,
    "start_time": "2021-06-18T04:36:17.994Z"
   },
   {
    "duration": 431,
    "start_time": "2021-06-18T04:36:25.001Z"
   },
   {
    "duration": 452,
    "start_time": "2021-06-18T04:36:25.433Z"
   },
   {
    "duration": 1415,
    "start_time": "2021-06-18T04:36:25.887Z"
   },
   {
    "duration": 1811,
    "start_time": "2021-06-18T04:36:27.303Z"
   },
   {
    "duration": 248,
    "start_time": "2021-06-18T04:44:19.963Z"
   },
   {
    "duration": 21,
    "start_time": "2021-06-18T04:44:27.777Z"
   },
   {
    "duration": 750,
    "start_time": "2021-06-18T04:59:34.352Z"
   },
   {
    "duration": 5,
    "start_time": "2021-06-18T04:59:35.103Z"
   },
   {
    "duration": 19,
    "start_time": "2021-06-18T04:59:35.110Z"
   },
   {
    "duration": 154,
    "start_time": "2021-06-18T04:59:35.131Z"
   },
   {
    "duration": 38,
    "start_time": "2021-06-18T04:59:35.287Z"
   },
   {
    "duration": 14,
    "start_time": "2021-06-18T04:59:35.326Z"
   },
   {
    "duration": 1618,
    "start_time": "2021-06-18T04:59:36.567Z"
   },
   {
    "duration": 10,
    "start_time": "2021-06-18T04:59:38.187Z"
   },
   {
    "duration": 17,
    "start_time": "2021-06-18T04:59:38.199Z"
   },
   {
    "duration": 4,
    "start_time": "2021-06-18T04:59:38.218Z"
   },
   {
    "duration": 5,
    "start_time": "2021-06-18T04:59:38.224Z"
   },
   {
    "duration": 5147,
    "start_time": "2021-06-18T04:59:38.230Z"
   },
   {
    "duration": 9,
    "start_time": "2021-06-18T04:59:43.379Z"
   },
   {
    "duration": 12,
    "start_time": "2021-06-18T04:59:43.389Z"
   },
   {
    "duration": 7,
    "start_time": "2021-06-18T04:59:43.403Z"
   },
   {
    "duration": 39,
    "start_time": "2021-06-18T04:59:43.412Z"
   },
   {
    "duration": 499,
    "start_time": "2021-06-18T04:59:43.453Z"
   },
   {
    "duration": 992,
    "start_time": "2021-06-18T04:59:43.954Z"
   },
   {
    "duration": 280,
    "start_time": "2021-06-18T04:59:44.948Z"
   },
   {
    "duration": 145,
    "start_time": "2021-06-18T04:59:45.229Z"
   },
   {
    "duration": 151,
    "start_time": "2021-06-18T04:59:45.375Z"
   },
   {
    "duration": 152,
    "start_time": "2021-06-18T04:59:45.527Z"
   },
   {
    "duration": 163,
    "start_time": "2021-06-18T04:59:45.685Z"
   },
   {
    "duration": 148,
    "start_time": "2021-06-18T04:59:45.850Z"
   },
   {
    "duration": 262,
    "start_time": "2021-06-18T04:59:46.000Z"
   },
   {
    "duration": 32,
    "start_time": "2021-06-18T04:59:46.264Z"
   },
   {
    "duration": 9,
    "start_time": "2021-06-18T04:59:46.298Z"
   },
   {
    "duration": 393,
    "start_time": "2021-06-18T04:59:46.309Z"
   },
   {
    "duration": 270,
    "start_time": "2021-06-18T04:59:46.703Z"
   },
   {
    "duration": 289,
    "start_time": "2021-06-18T04:59:46.975Z"
   },
   {
    "duration": 915,
    "start_time": "2021-06-18T04:59:47.265Z"
   },
   {
    "duration": 21,
    "start_time": "2021-06-18T04:59:48.181Z"
   },
   {
    "duration": 6,
    "start_time": "2021-06-18T04:59:48.205Z"
   },
   {
    "duration": 7165,
    "start_time": "2021-06-18T04:59:48.213Z"
   },
   {
    "duration": 433,
    "start_time": "2021-06-18T04:59:55.379Z"
   },
   {
    "duration": 406,
    "start_time": "2021-06-18T04:59:55.814Z"
   },
   {
    "duration": 1603,
    "start_time": "2021-06-18T04:59:56.221Z"
   },
   {
    "duration": 1497,
    "start_time": "2021-06-18T04:59:57.826Z"
   },
   {
    "duration": 778,
    "start_time": "2021-06-18T05:10:48.371Z"
   },
   {
    "duration": 5,
    "start_time": "2021-06-18T05:10:49.151Z"
   },
   {
    "duration": 37,
    "start_time": "2021-06-18T05:10:49.157Z"
   },
   {
    "duration": 144,
    "start_time": "2021-06-18T05:10:49.196Z"
   },
   {
    "duration": 48,
    "start_time": "2021-06-18T05:10:49.342Z"
   },
   {
    "duration": 14,
    "start_time": "2021-06-18T05:10:49.392Z"
   },
   {
    "duration": 1690,
    "start_time": "2021-06-18T05:10:49.407Z"
   },
   {
    "duration": 11,
    "start_time": "2021-06-18T05:10:51.100Z"
   },
   {
    "duration": 33,
    "start_time": "2021-06-18T05:10:51.113Z"
   },
   {
    "duration": 4,
    "start_time": "2021-06-18T05:10:51.148Z"
   },
   {
    "duration": 16,
    "start_time": "2021-06-18T05:10:51.154Z"
   },
   {
    "duration": 5175,
    "start_time": "2021-06-18T05:10:51.172Z"
   },
   {
    "duration": 5,
    "start_time": "2021-06-18T05:10:56.349Z"
   },
   {
    "duration": 13,
    "start_time": "2021-06-18T05:10:56.355Z"
   },
   {
    "duration": 19,
    "start_time": "2021-06-18T05:10:56.369Z"
   },
   {
    "duration": 37,
    "start_time": "2021-06-18T05:10:56.390Z"
   },
   {
    "duration": 477,
    "start_time": "2021-06-18T05:10:56.428Z"
   },
   {
    "duration": 989,
    "start_time": "2021-06-18T05:10:56.907Z"
   },
   {
    "duration": 259,
    "start_time": "2021-06-18T05:10:57.897Z"
   },
   {
    "duration": 157,
    "start_time": "2021-06-18T05:10:58.158Z"
   },
   {
    "duration": 157,
    "start_time": "2021-06-18T05:10:58.317Z"
   },
   {
    "duration": 156,
    "start_time": "2021-06-18T05:10:58.476Z"
   },
   {
    "duration": 162,
    "start_time": "2021-06-18T05:10:58.635Z"
   },
   {
    "duration": 145,
    "start_time": "2021-06-18T05:10:58.799Z"
   },
   {
    "duration": 253,
    "start_time": "2021-06-18T05:10:58.946Z"
   },
   {
    "duration": 21,
    "start_time": "2021-06-18T05:10:59.200Z"
   },
   {
    "duration": 9,
    "start_time": "2021-06-18T05:10:59.222Z"
   },
   {
    "duration": 406,
    "start_time": "2021-06-18T05:10:59.233Z"
   },
   {
    "duration": 283,
    "start_time": "2021-06-18T05:10:59.641Z"
   },
   {
    "duration": 290,
    "start_time": "2021-06-18T05:10:59.925Z"
   },
   {
    "duration": 931,
    "start_time": "2021-06-18T05:11:00.217Z"
   },
   {
    "duration": 38,
    "start_time": "2021-06-18T05:11:01.150Z"
   },
   {
    "duration": 8,
    "start_time": "2021-06-18T05:11:01.190Z"
   },
   {
    "duration": 7442,
    "start_time": "2021-06-18T05:11:01.199Z"
   },
   {
    "duration": 476,
    "start_time": "2021-06-18T05:11:08.643Z"
   },
   {
    "duration": 489,
    "start_time": "2021-06-18T05:11:09.121Z"
   },
   {
    "duration": 1555,
    "start_time": "2021-06-18T05:11:09.611Z"
   },
   {
    "duration": 1526,
    "start_time": "2021-06-18T05:11:11.168Z"
   },
   {
    "duration": 152,
    "start_time": "2021-06-18T05:30:26.897Z"
   },
   {
    "duration": 248,
    "start_time": "2021-06-18T05:31:18.694Z"
   },
   {
    "duration": 10,
    "start_time": "2021-06-18T05:31:32.103Z"
   },
   {
    "duration": 395,
    "start_time": "2021-06-18T05:31:53.852Z"
   },
   {
    "duration": 757,
    "start_time": "2021-06-18T05:32:05.751Z"
   },
   {
    "duration": 5,
    "start_time": "2021-06-18T05:32:06.510Z"
   },
   {
    "duration": 20,
    "start_time": "2021-06-18T05:32:06.516Z"
   },
   {
    "duration": 174,
    "start_time": "2021-06-18T05:32:06.538Z"
   },
   {
    "duration": 39,
    "start_time": "2021-06-18T05:32:06.714Z"
   },
   {
    "duration": 31,
    "start_time": "2021-06-18T05:32:06.754Z"
   },
   {
    "duration": 1638,
    "start_time": "2021-06-18T05:32:06.787Z"
   },
   {
    "duration": 11,
    "start_time": "2021-06-18T05:32:08.426Z"
   },
   {
    "duration": 17,
    "start_time": "2021-06-18T05:32:08.439Z"
   },
   {
    "duration": 28,
    "start_time": "2021-06-18T05:32:08.457Z"
   },
   {
    "duration": 4,
    "start_time": "2021-06-18T05:32:08.486Z"
   },
   {
    "duration": 5211,
    "start_time": "2021-06-18T05:32:08.491Z"
   },
   {
    "duration": 4,
    "start_time": "2021-06-18T05:32:13.704Z"
   },
   {
    "duration": 20,
    "start_time": "2021-06-18T05:32:13.709Z"
   },
   {
    "duration": 9,
    "start_time": "2021-06-18T05:32:13.731Z"
   },
   {
    "duration": 53,
    "start_time": "2021-06-18T05:32:13.741Z"
   },
   {
    "duration": 484,
    "start_time": "2021-06-18T05:32:13.795Z"
   },
   {
    "duration": 973,
    "start_time": "2021-06-18T05:32:14.280Z"
   },
   {
    "duration": 267,
    "start_time": "2021-06-18T05:32:15.255Z"
   },
   {
    "duration": 149,
    "start_time": "2021-06-18T05:32:15.524Z"
   },
   {
    "duration": 153,
    "start_time": "2021-06-18T05:32:15.675Z"
   },
   {
    "duration": 148,
    "start_time": "2021-06-18T05:32:15.830Z"
   },
   {
    "duration": 162,
    "start_time": "2021-06-18T05:32:15.980Z"
   },
   {
    "duration": 140,
    "start_time": "2021-06-18T05:32:16.144Z"
   },
   {
    "duration": 257,
    "start_time": "2021-06-18T05:32:16.286Z"
   },
   {
    "duration": 21,
    "start_time": "2021-06-18T05:32:16.545Z"
   },
   {
    "duration": 22,
    "start_time": "2021-06-18T05:32:16.569Z"
   },
   {
    "duration": 393,
    "start_time": "2021-06-18T05:32:16.593Z"
   },
   {
    "duration": 271,
    "start_time": "2021-06-18T05:32:16.988Z"
   },
   {
    "duration": 274,
    "start_time": "2021-06-18T05:32:17.260Z"
   },
   {
    "duration": 1095,
    "start_time": "2021-06-18T05:32:17.536Z"
   },
   {
    "duration": 22,
    "start_time": "2021-06-18T05:32:18.632Z"
   },
   {
    "duration": 32,
    "start_time": "2021-06-18T05:32:18.656Z"
   },
   {
    "duration": 7129,
    "start_time": "2021-06-18T05:32:18.690Z"
   },
   {
    "duration": 494,
    "start_time": "2021-06-18T05:32:25.822Z"
   },
   {
    "duration": 400,
    "start_time": "2021-06-18T05:32:26.317Z"
   },
   {
    "duration": 1571,
    "start_time": "2021-06-18T05:32:26.719Z"
   },
   {
    "duration": 1906,
    "start_time": "2021-06-18T05:32:28.291Z"
   },
   {
    "duration": 1149,
    "start_time": "2021-06-18T07:19:55.329Z"
   },
   {
    "duration": 8,
    "start_time": "2021-06-18T07:19:56.482Z"
   },
   {
    "duration": 62,
    "start_time": "2021-06-18T07:19:56.493Z"
   },
   {
    "duration": 303,
    "start_time": "2021-06-18T07:19:56.558Z"
   },
   {
    "duration": 82,
    "start_time": "2021-06-18T07:19:56.863Z"
   },
   {
    "duration": 23,
    "start_time": "2021-06-18T07:19:56.948Z"
   },
   {
    "duration": 3505,
    "start_time": "2021-06-18T07:19:56.974Z"
   },
   {
    "duration": 27,
    "start_time": "2021-06-18T07:20:00.484Z"
   },
   {
    "duration": 47,
    "start_time": "2021-06-18T07:20:00.515Z"
   },
   {
    "duration": 55,
    "start_time": "2021-06-18T07:20:00.565Z"
   },
   {
    "duration": 34,
    "start_time": "2021-06-18T07:20:00.623Z"
   },
   {
    "duration": 11671,
    "start_time": "2021-06-18T07:20:00.660Z"
   },
   {
    "duration": 9,
    "start_time": "2021-06-18T07:20:12.334Z"
   },
   {
    "duration": 41,
    "start_time": "2021-06-18T07:20:12.345Z"
   },
   {
    "duration": 24,
    "start_time": "2021-06-18T07:20:12.389Z"
   },
   {
    "duration": 68,
    "start_time": "2021-06-18T07:20:12.417Z"
   },
   {
    "duration": 846,
    "start_time": "2021-06-18T07:20:12.487Z"
   },
   {
    "duration": 1683,
    "start_time": "2021-06-18T07:20:13.335Z"
   },
   {
    "duration": 417,
    "start_time": "2021-06-18T07:20:15.020Z"
   },
   {
    "duration": 261,
    "start_time": "2021-06-18T07:20:15.440Z"
   },
   {
    "duration": 267,
    "start_time": "2021-06-18T07:20:15.708Z"
   },
   {
    "duration": 257,
    "start_time": "2021-06-18T07:20:15.977Z"
   },
   {
    "duration": 270,
    "start_time": "2021-06-18T07:20:16.238Z"
   },
   {
    "duration": 247,
    "start_time": "2021-06-18T07:20:16.511Z"
   },
   {
    "duration": 436,
    "start_time": "2021-06-18T07:20:16.761Z"
   },
   {
    "duration": 47,
    "start_time": "2021-06-18T07:20:17.200Z"
   },
   {
    "duration": 16,
    "start_time": "2021-06-18T07:20:17.249Z"
   },
   {
    "duration": 795,
    "start_time": "2021-06-18T07:20:17.268Z"
   },
   {
    "duration": 475,
    "start_time": "2021-06-18T07:20:18.066Z"
   },
   {
    "duration": 472,
    "start_time": "2021-06-18T07:20:18.543Z"
   },
   {
    "duration": 1895,
    "start_time": "2021-06-18T07:20:19.017Z"
   },
   {
    "duration": 34,
    "start_time": "2021-06-18T07:20:20.914Z"
   },
   {
    "duration": 23,
    "start_time": "2021-06-18T07:20:20.950Z"
   },
   {
    "duration": 12842,
    "start_time": "2021-06-18T07:20:20.975Z"
   },
   {
    "duration": 794,
    "start_time": "2021-06-18T07:20:33.819Z"
   },
   {
    "duration": 624,
    "start_time": "2021-06-18T07:20:34.615Z"
   },
   {
    "duration": 2057,
    "start_time": "2021-06-18T07:20:35.241Z"
   },
   {
    "duration": 2735,
    "start_time": "2021-06-18T07:20:37.300Z"
   },
   {
    "duration": 1491,
    "start_time": "2021-06-18T07:21:57.373Z"
   },
   {
    "duration": 1400,
    "start_time": "2021-06-18T07:23:44.967Z"
   },
   {
    "duration": 1307,
    "start_time": "2021-06-18T07:24:05.933Z"
   },
   {
    "duration": 1396,
    "start_time": "2021-06-18T07:24:18.815Z"
   },
   {
    "duration": 1372,
    "start_time": "2021-06-18T07:24:40.868Z"
   },
   {
    "duration": 1370,
    "start_time": "2021-06-18T07:25:39.565Z"
   },
   {
    "duration": 1388,
    "start_time": "2021-06-18T07:26:37.967Z"
   },
   {
    "duration": 1688,
    "start_time": "2021-06-18T07:26:54.045Z"
   },
   {
    "duration": 1379,
    "start_time": "2021-06-18T07:27:40.097Z"
   },
   {
    "duration": 1343,
    "start_time": "2021-06-18T07:29:06.239Z"
   },
   {
    "duration": 1387,
    "start_time": "2021-06-18T07:29:16.542Z"
   },
   {
    "duration": 1346,
    "start_time": "2021-06-18T07:29:39.627Z"
   },
   {
    "duration": 1482,
    "start_time": "2021-06-18T07:30:04.981Z"
   },
   {
    "duration": 1375,
    "start_time": "2021-06-18T07:30:17.721Z"
   },
   {
    "duration": 2942,
    "start_time": "2021-06-18T07:31:35.019Z"
   },
   {
    "duration": 2506,
    "start_time": "2021-06-18T07:31:58.583Z"
   },
   {
    "duration": 2530,
    "start_time": "2021-06-18T07:32:04.147Z"
   },
   {
    "duration": 2739,
    "start_time": "2021-06-18T07:32:10.309Z"
   },
   {
    "duration": 2528,
    "start_time": "2021-06-18T07:32:16.066Z"
   },
   {
    "duration": 2508,
    "start_time": "2021-06-18T07:32:41.185Z"
   },
   {
    "duration": 3097,
    "start_time": "2021-06-18T07:32:55.492Z"
   },
   {
    "duration": 2819,
    "start_time": "2021-06-18T07:33:12.571Z"
   },
   {
    "duration": 2536,
    "start_time": "2021-06-18T07:33:26.337Z"
   },
   {
    "duration": 2448,
    "start_time": "2021-06-18T07:33:58.516Z"
   },
   {
    "duration": 2427,
    "start_time": "2021-06-18T07:34:11.546Z"
   },
   {
    "duration": 2757,
    "start_time": "2021-06-18T07:34:37.242Z"
   },
   {
    "duration": 2494,
    "start_time": "2021-06-18T07:35:06.815Z"
   },
   {
    "duration": 1260,
    "start_time": "2021-06-18T07:40:49.436Z"
   },
   {
    "duration": 1148,
    "start_time": "2021-06-18T14:42:15.542Z"
   },
   {
    "duration": 7,
    "start_time": "2021-06-18T14:42:16.694Z"
   },
   {
    "duration": 24,
    "start_time": "2021-06-18T14:42:16.705Z"
   },
   {
    "duration": 295,
    "start_time": "2021-06-18T14:42:16.732Z"
   },
   {
    "duration": 83,
    "start_time": "2021-06-18T14:42:17.029Z"
   },
   {
    "duration": 23,
    "start_time": "2021-06-18T14:42:17.114Z"
   },
   {
    "duration": 3166,
    "start_time": "2021-06-18T14:42:17.139Z"
   },
   {
    "duration": 17,
    "start_time": "2021-06-18T14:42:20.310Z"
   },
   {
    "duration": 30,
    "start_time": "2021-06-18T14:42:20.329Z"
   },
   {
    "duration": 27,
    "start_time": "2021-06-18T14:42:20.361Z"
   },
   {
    "duration": 7,
    "start_time": "2021-06-18T14:42:20.391Z"
   },
   {
    "duration": 10992,
    "start_time": "2021-06-18T14:42:20.401Z"
   },
   {
    "duration": 7,
    "start_time": "2021-06-18T14:42:31.395Z"
   },
   {
    "duration": 34,
    "start_time": "2021-06-18T14:42:31.404Z"
   },
   {
    "duration": 12,
    "start_time": "2021-06-18T14:42:31.441Z"
   },
   {
    "duration": 86,
    "start_time": "2021-06-18T14:42:31.455Z"
   },
   {
    "duration": 792,
    "start_time": "2021-06-18T14:42:31.544Z"
   },
   {
    "duration": 1578,
    "start_time": "2021-06-18T14:42:32.338Z"
   },
   {
    "duration": 412,
    "start_time": "2021-06-18T14:42:33.918Z"
   },
   {
    "duration": 249,
    "start_time": "2021-06-18T14:42:34.333Z"
   },
   {
    "duration": 249,
    "start_time": "2021-06-18T14:42:34.586Z"
   },
   {
    "duration": 250,
    "start_time": "2021-06-18T14:42:34.838Z"
   },
   {
    "duration": 253,
    "start_time": "2021-06-18T14:42:35.094Z"
   },
   {
    "duration": 244,
    "start_time": "2021-06-18T14:42:35.350Z"
   },
   {
    "duration": 420,
    "start_time": "2021-06-18T14:42:35.597Z"
   },
   {
    "duration": 32,
    "start_time": "2021-06-18T14:42:36.020Z"
   },
   {
    "duration": 34,
    "start_time": "2021-06-18T14:42:36.055Z"
   },
   {
    "duration": 648,
    "start_time": "2021-06-18T14:42:36.091Z"
   },
   {
    "duration": 431,
    "start_time": "2021-06-18T14:42:36.742Z"
   },
   {
    "duration": 445,
    "start_time": "2021-06-18T14:42:37.175Z"
   },
   {
    "duration": 1427,
    "start_time": "2021-06-18T14:42:37.623Z"
   },
   {
    "duration": 47,
    "start_time": "2021-06-18T14:42:39.052Z"
   },
   {
    "duration": 11,
    "start_time": "2021-06-18T14:42:39.102Z"
   },
   {
    "duration": 12318,
    "start_time": "2021-06-18T14:42:39.115Z"
   },
   {
    "duration": 480,
    "start_time": "2021-06-18T14:42:51.437Z"
   },
   {
    "duration": 486,
    "start_time": "2021-06-18T14:42:51.919Z"
   },
   {
    "duration": 1411,
    "start_time": "2021-06-18T14:42:52.408Z"
   },
   {
    "duration": 2438,
    "start_time": "2021-06-18T14:42:53.821Z"
   },
   {
    "duration": 121,
    "start_time": "2021-06-18T14:44:20.266Z"
   },
   {
    "duration": 94,
    "start_time": "2021-06-18T14:44:29.043Z"
   },
   {
    "duration": 90,
    "start_time": "2021-06-18T14:45:07.801Z"
   },
   {
    "duration": 93,
    "start_time": "2021-06-18T14:45:32.941Z"
   },
   {
    "duration": 103,
    "start_time": "2021-06-18T14:45:33.586Z"
   }
  ],
  "kernelspec": {
   "display_name": "Python 3",
   "language": "python",
   "name": "python3"
  },
  "language_info": {
   "codemirror_mode": {
    "name": "ipython",
    "version": 3
   },
   "file_extension": ".py",
   "mimetype": "text/x-python",
   "name": "python",
   "nbconvert_exporter": "python",
   "pygments_lexer": "ipython3",
   "version": "3.8.8"
  },
  "toc": {
   "base_numbering": 1,
   "nav_menu": {},
   "number_sections": true,
   "sideBar": true,
   "skip_h1_title": true,
   "title_cell": "Содержание",
   "title_sidebar": "Contents",
   "toc_cell": true,
   "toc_position": {
    "height": "724px",
    "left": "441px",
    "top": "110px",
    "width": "251px"
   },
   "toc_section_display": true,
   "toc_window_display": true
  }
 },
 "nbformat": 4,
 "nbformat_minor": 2
}
